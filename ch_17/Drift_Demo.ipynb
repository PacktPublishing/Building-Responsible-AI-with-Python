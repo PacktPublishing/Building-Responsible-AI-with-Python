{
  "nbformat": 4,
  "nbformat_minor": 0,
  "metadata": {
    "colab": {
      "provenance": []
    },
    "kernelspec": {
      "name": "python3",
      "display_name": "Python 3"
    },
    "language_info": {
      "name": "python"
    }
  },
  "cells": [
    {
      "cell_type": "markdown",
      "source": [
        "#### CHAPTER 17: _What is Model Drift and Why Do We Care?_\n",
        "##### From **Building Responsible AI with Python**, published by Packt"
      ],
      "metadata": {
        "id": "mCrdS7nUBff2"
      }
    },
    {
      "cell_type": "markdown",
      "source": [
        "## The Preparations"
      ],
      "metadata": {
        "id": "gVzEu6sbCuI6"
      }
    },
    {
      "cell_type": "code",
      "source": [
        "!pip install shap"
      ],
      "metadata": {
        "id": "lm4qEi1N2ha5",
        "colab": {
          "base_uri": "https://localhost:8080/"
        },
        "outputId": "83355b45-1dd8-43ca-c540-7be50a7e596d"
      },
      "execution_count": null,
      "outputs": [
        {
          "output_type": "stream",
          "name": "stdout",
          "text": [
            "Looking in indexes: https://pypi.org/simple, https://us-python.pkg.dev/colab-wheels/public/simple/\n",
            "Collecting shap\n",
            "  Downloading shap-0.41.0-cp39-cp39-manylinux_2_12_x86_64.manylinux2010_x86_64.whl (572 kB)\n",
            "\u001b[2K     \u001b[90m━━━━━━━━━━━━━━━━━━━━━━━━━━━━━━━━━━━━━━━\u001b[0m \u001b[32m572.4/572.4 KB\u001b[0m \u001b[31m8.7 MB/s\u001b[0m eta \u001b[36m0:00:00\u001b[0m\n",
            "\u001b[?25hRequirement already satisfied: numpy in /usr/local/lib/python3.9/dist-packages (from shap) (1.22.4)\n",
            "Requirement already satisfied: pandas in /usr/local/lib/python3.9/dist-packages (from shap) (1.4.4)\n",
            "Requirement already satisfied: tqdm>4.25.0 in /usr/local/lib/python3.9/dist-packages (from shap) (4.65.0)\n",
            "Requirement already satisfied: packaging>20.9 in /usr/local/lib/python3.9/dist-packages (from shap) (23.0)\n",
            "Requirement already satisfied: scipy in /usr/local/lib/python3.9/dist-packages (from shap) (1.10.1)\n",
            "Requirement already satisfied: scikit-learn in /usr/local/lib/python3.9/dist-packages (from shap) (1.2.2)\n",
            "Requirement already satisfied: numba in /usr/local/lib/python3.9/dist-packages (from shap) (0.56.4)\n",
            "Requirement already satisfied: cloudpickle in /usr/local/lib/python3.9/dist-packages (from shap) (2.2.1)\n",
            "Collecting slicer==0.0.7\n",
            "  Downloading slicer-0.0.7-py3-none-any.whl (14 kB)\n",
            "Requirement already satisfied: llvmlite<0.40,>=0.39.0dev0 in /usr/local/lib/python3.9/dist-packages (from numba->shap) (0.39.1)\n",
            "Requirement already satisfied: setuptools in /usr/local/lib/python3.9/dist-packages (from numba->shap) (67.6.1)\n",
            "Requirement already satisfied: python-dateutil>=2.8.1 in /usr/local/lib/python3.9/dist-packages (from pandas->shap) (2.8.2)\n",
            "Requirement already satisfied: pytz>=2020.1 in /usr/local/lib/python3.9/dist-packages (from pandas->shap) (2022.7.1)\n",
            "Requirement already satisfied: joblib>=1.1.1 in /usr/local/lib/python3.9/dist-packages (from scikit-learn->shap) (1.1.1)\n",
            "Requirement already satisfied: threadpoolctl>=2.0.0 in /usr/local/lib/python3.9/dist-packages (from scikit-learn->shap) (3.1.0)\n",
            "Requirement already satisfied: six>=1.5 in /usr/local/lib/python3.9/dist-packages (from python-dateutil>=2.8.1->pandas->shap) (1.16.0)\n",
            "Installing collected packages: slicer, shap\n",
            "Successfully installed shap-0.41.0 slicer-0.0.7\n"
          ]
        }
      ]
    },
    {
      "cell_type": "markdown",
      "source": [
        "These are all already installed on Google Colab by default so install only if running elsewhere (and ***not already installed***):"
      ],
      "metadata": {
        "id": "t21CmWmHC0Zt"
      }
    },
    {
      "cell_type": "markdown",
      "source": [
        "### Loading the Libraries"
      ],
      "metadata": {
        "id": "C-6joVN5C-cz"
      }
    },
    {
      "cell_type": "code",
      "source": [
        "import pandas as pd\n",
        "pd.options.display.float_format = '{:,.3f}'.format\n",
        "pd.options.mode.chained_assignment = None\n",
        "\n",
        "import numpy as np\n",
        "import matplotlib.pyplot as plt\n",
        "import seaborn as sns\n",
        "\n",
        "import sklearn\n",
        "from sklearn.metrics import confusion_matrix\n",
        "from sklearn.metrics import classification_report\n",
        "\n",
        "from sklearn.metrics import f1_score\n",
        "from sklearn.metrics import precision_score\n",
        "from sklearn.metrics import recall_score\n",
        "from sklearn.metrics import accuracy_score\n",
        "from sklearn.metrics import roc_auc_score\n",
        "from sklearn.metrics import balanced_accuracy_score\n",
        "\n",
        "from sklearn.model_selection import train_test_split\n",
        "from sklearn.tree import DecisionTreeClassifier\n",
        "\n",
        "import shap\n",
        "\n",
        "MAX_FEATURE_IMPORTANCE = 5\n",
        "RANDOM_SEED = 700\n",
        "np.random.seed(RANDOM_SEED)"
      ],
      "metadata": {
        "id": "lX2b3n1TDV6X"
      },
      "execution_count": null,
      "outputs": []
    },
    {
      "cell_type": "markdown",
      "source": [
        "***The code below needs to be replaced with the data file loaded from the Github library for the book***\n",
        "\n",
        "---\n",
        "\n"
      ],
      "metadata": {
        "id": "463fqTcxDGqm"
      }
    },
    {
      "cell_type": "code",
      "execution_count": null,
      "metadata": {
        "id": "Dc_ZEU1bpC9_",
        "colab": {
          "base_uri": "https://localhost:8080/"
        },
        "outputId": "1f3284dc-d26c-45d0-b99e-86116ac7a3ff"
      },
      "outputs": [
        {
          "output_type": "stream",
          "name": "stdout",
          "text": [
            "Mounted at /content/drive\n"
          ]
        }
      ],
      "source": [
        "from google.colab import drive\n",
        "drive.mount ('/content/drive')\n",
        "project_dir = '/content/drive/MyDrive/Responsible AI Book/Code/Ch17/'\n",
        "ces = pd.read_csv(project_dir+ 'ces_Ch17.csv')"
      ]
    },
    {
      "cell_type": "markdown",
      "source": [
        "### Prepare DataFrame for processing and Analysis"
      ],
      "metadata": {
        "id": "vALQ2qs0pJhp"
      }
    },
    {
      "cell_type": "code",
      "source": [
        "ces"
      ],
      "metadata": {
        "colab": {
          "base_uri": "https://localhost:8080/",
          "height": 800
        },
        "id": "Cd6awl8grMiH",
        "outputId": "295d12f6-eb71-4a06-8da9-07f390f5f520"
      },
      "execution_count": null,
      "outputs": [
        {
          "output_type": "execute_result",
          "data": {
            "text/plain": [
              "        CUID        Date  Year  Month  Income Before Taxes  \\\n",
              "0     346096  2017-01-01  2017      1          110,408.351   \n",
              "1     346101  2017-01-01  2017      1          131,360.855   \n",
              "2     346107  2017-01-01  2017      1          235,418.628   \n",
              "3     346119  2017-01-01  2017      1           32,822.578   \n",
              "4     346124  2017-01-01  2017      1          180,812.117   \n",
              "...      ...         ...   ...    ...                  ...   \n",
              "8415  457862  2020-11-01  2020     11          520,951.659   \n",
              "8416  457877  2020-11-01  2020     11          107,108.371   \n",
              "8417  457916  2020-11-01  2020     11           43,914.432   \n",
              "8418  457922  2020-11-01  2020     11          164,154.289   \n",
              "8419  457928  2020-11-01  2020     11            3,213.251   \n",
              "\n",
              "      Number of Bedrooms  Number of Bathrooms         State  Urban  People  \\\n",
              "0                  2.000                2.000     Tennessee      1       2   \n",
              "1                  3.000                1.000    California      1       2   \n",
              "2                  2.000                2.000  Pennsylvania      1       2   \n",
              "3                  4.000                2.000      Kentucky      0       2   \n",
              "4                  3.000                2.000     Louisiana      1       4   \n",
              "...                  ...                  ...           ...    ...     ...   \n",
              "8415               4.000                3.000  Pennsylvania      1       4   \n",
              "8416               3.000                2.000       Florida      1       3   \n",
              "8417               1.000                1.000         Texas      1       1   \n",
              "8418               2.000                1.000      New York      1       2   \n",
              "8419               1.000                1.000      New York      1       1   \n",
              "\n",
              "      ...  Retired        Education                 Race           Sex  \\\n",
              "0     ...        0     Some College                White  Mixed Gender   \n",
              "1     ...        0        Bachelors                White  Mixed Gender   \n",
              "2     ...        2  Graduate Degree                White  Mixed Gender   \n",
              "3     ...        0      High School                White  Mixed Gender   \n",
              "4     ...        2     Some College                White  Mixed Gender   \n",
              "...   ...      ...              ...                  ...           ...   \n",
              "8415  ...        0  Graduate Degree  Multi or Other Race  Mixed Gender   \n",
              "8416  ...        0        Bachelors                White  Mixed Gender   \n",
              "8417  ...        0     Some College                Black          Male   \n",
              "8418  ...        0  Graduate Degree  Multi or Other Race  Mixed Gender   \n",
              "8419  ...        0  Graduate Degree                White        Female   \n",
              "\n",
              "      Renter Owner Food-Away Food-Home  Food-Total  \\\n",
              "0      0.000 1.000 1,638.350 1,211.528   2,849.878   \n",
              "1      0.000 1.000   819.224 1,269.220   2,088.444   \n",
              "2      1.000 0.000 2,164.260 2,596.132   4,760.392   \n",
              "3      0.000 1.000   224.998 2,624.978   2,849.976   \n",
              "4      0.000 1.000   351.920 1,367.296   1,719.216   \n",
              "...      ...   ...       ...       ...         ...   \n",
              "8415   0.000 1.000 1,381.428 2,210.285   3,591.713   \n",
              "8416   0.000 1.000     0.000 2,762.856   2,762.856   \n",
              "8417   1.000 0.000 1,445.186 1,770.353   3,215.539   \n",
              "8418   0.000 1.000   828.857 2,263.417   3,092.273   \n",
              "8419   1.000 0.000     0.000 1,243.285   1,243.285   \n",
              "\n",
              "      High lead-Food-Away Spending  \n",
              "0                                0  \n",
              "1                                0  \n",
              "2                                1  \n",
              "3                                0  \n",
              "4                                0  \n",
              "...                            ...  \n",
              "8415                             0  \n",
              "8416                             0  \n",
              "8417                             0  \n",
              "8418                             0  \n",
              "8419                             0  \n",
              "\n",
              "[8420 rows x 24 columns]"
            ],
            "text/html": [
              "\n",
              "  <div id=\"df-5dd3a1bf-9de6-4abb-aefe-8f980af23b42\">\n",
              "    <div class=\"colab-df-container\">\n",
              "      <div>\n",
              "<style scoped>\n",
              "    .dataframe tbody tr th:only-of-type {\n",
              "        vertical-align: middle;\n",
              "    }\n",
              "\n",
              "    .dataframe tbody tr th {\n",
              "        vertical-align: top;\n",
              "    }\n",
              "\n",
              "    .dataframe thead th {\n",
              "        text-align: right;\n",
              "    }\n",
              "</style>\n",
              "<table border=\"1\" class=\"dataframe\">\n",
              "  <thead>\n",
              "    <tr style=\"text-align: right;\">\n",
              "      <th></th>\n",
              "      <th>CUID</th>\n",
              "      <th>Date</th>\n",
              "      <th>Year</th>\n",
              "      <th>Month</th>\n",
              "      <th>Income Before Taxes</th>\n",
              "      <th>Number of Bedrooms</th>\n",
              "      <th>Number of Bathrooms</th>\n",
              "      <th>State</th>\n",
              "      <th>Urban</th>\n",
              "      <th>People</th>\n",
              "      <th>...</th>\n",
              "      <th>Retired</th>\n",
              "      <th>Education</th>\n",
              "      <th>Race</th>\n",
              "      <th>Sex</th>\n",
              "      <th>Renter</th>\n",
              "      <th>Owner</th>\n",
              "      <th>Food-Away</th>\n",
              "      <th>Food-Home</th>\n",
              "      <th>Food-Total</th>\n",
              "      <th>High lead-Food-Away Spending</th>\n",
              "    </tr>\n",
              "  </thead>\n",
              "  <tbody>\n",
              "    <tr>\n",
              "      <th>0</th>\n",
              "      <td>346096</td>\n",
              "      <td>2017-01-01</td>\n",
              "      <td>2017</td>\n",
              "      <td>1</td>\n",
              "      <td>110,408.351</td>\n",
              "      <td>2.000</td>\n",
              "      <td>2.000</td>\n",
              "      <td>Tennessee</td>\n",
              "      <td>1</td>\n",
              "      <td>2</td>\n",
              "      <td>...</td>\n",
              "      <td>0</td>\n",
              "      <td>Some College</td>\n",
              "      <td>White</td>\n",
              "      <td>Mixed Gender</td>\n",
              "      <td>0.000</td>\n",
              "      <td>1.000</td>\n",
              "      <td>1,638.350</td>\n",
              "      <td>1,211.528</td>\n",
              "      <td>2,849.878</td>\n",
              "      <td>0</td>\n",
              "    </tr>\n",
              "    <tr>\n",
              "      <th>1</th>\n",
              "      <td>346101</td>\n",
              "      <td>2017-01-01</td>\n",
              "      <td>2017</td>\n",
              "      <td>1</td>\n",
              "      <td>131,360.855</td>\n",
              "      <td>3.000</td>\n",
              "      <td>1.000</td>\n",
              "      <td>California</td>\n",
              "      <td>1</td>\n",
              "      <td>2</td>\n",
              "      <td>...</td>\n",
              "      <td>0</td>\n",
              "      <td>Bachelors</td>\n",
              "      <td>White</td>\n",
              "      <td>Mixed Gender</td>\n",
              "      <td>0.000</td>\n",
              "      <td>1.000</td>\n",
              "      <td>819.224</td>\n",
              "      <td>1,269.220</td>\n",
              "      <td>2,088.444</td>\n",
              "      <td>0</td>\n",
              "    </tr>\n",
              "    <tr>\n",
              "      <th>2</th>\n",
              "      <td>346107</td>\n",
              "      <td>2017-01-01</td>\n",
              "      <td>2017</td>\n",
              "      <td>1</td>\n",
              "      <td>235,418.628</td>\n",
              "      <td>2.000</td>\n",
              "      <td>2.000</td>\n",
              "      <td>Pennsylvania</td>\n",
              "      <td>1</td>\n",
              "      <td>2</td>\n",
              "      <td>...</td>\n",
              "      <td>2</td>\n",
              "      <td>Graduate Degree</td>\n",
              "      <td>White</td>\n",
              "      <td>Mixed Gender</td>\n",
              "      <td>1.000</td>\n",
              "      <td>0.000</td>\n",
              "      <td>2,164.260</td>\n",
              "      <td>2,596.132</td>\n",
              "      <td>4,760.392</td>\n",
              "      <td>1</td>\n",
              "    </tr>\n",
              "    <tr>\n",
              "      <th>3</th>\n",
              "      <td>346119</td>\n",
              "      <td>2017-01-01</td>\n",
              "      <td>2017</td>\n",
              "      <td>1</td>\n",
              "      <td>32,822.578</td>\n",
              "      <td>4.000</td>\n",
              "      <td>2.000</td>\n",
              "      <td>Kentucky</td>\n",
              "      <td>0</td>\n",
              "      <td>2</td>\n",
              "      <td>...</td>\n",
              "      <td>0</td>\n",
              "      <td>High School</td>\n",
              "      <td>White</td>\n",
              "      <td>Mixed Gender</td>\n",
              "      <td>0.000</td>\n",
              "      <td>1.000</td>\n",
              "      <td>224.998</td>\n",
              "      <td>2,624.978</td>\n",
              "      <td>2,849.976</td>\n",
              "      <td>0</td>\n",
              "    </tr>\n",
              "    <tr>\n",
              "      <th>4</th>\n",
              "      <td>346124</td>\n",
              "      <td>2017-01-01</td>\n",
              "      <td>2017</td>\n",
              "      <td>1</td>\n",
              "      <td>180,812.117</td>\n",
              "      <td>3.000</td>\n",
              "      <td>2.000</td>\n",
              "      <td>Louisiana</td>\n",
              "      <td>1</td>\n",
              "      <td>4</td>\n",
              "      <td>...</td>\n",
              "      <td>2</td>\n",
              "      <td>Some College</td>\n",
              "      <td>White</td>\n",
              "      <td>Mixed Gender</td>\n",
              "      <td>0.000</td>\n",
              "      <td>1.000</td>\n",
              "      <td>351.920</td>\n",
              "      <td>1,367.296</td>\n",
              "      <td>1,719.216</td>\n",
              "      <td>0</td>\n",
              "    </tr>\n",
              "    <tr>\n",
              "      <th>...</th>\n",
              "      <td>...</td>\n",
              "      <td>...</td>\n",
              "      <td>...</td>\n",
              "      <td>...</td>\n",
              "      <td>...</td>\n",
              "      <td>...</td>\n",
              "      <td>...</td>\n",
              "      <td>...</td>\n",
              "      <td>...</td>\n",
              "      <td>...</td>\n",
              "      <td>...</td>\n",
              "      <td>...</td>\n",
              "      <td>...</td>\n",
              "      <td>...</td>\n",
              "      <td>...</td>\n",
              "      <td>...</td>\n",
              "      <td>...</td>\n",
              "      <td>...</td>\n",
              "      <td>...</td>\n",
              "      <td>...</td>\n",
              "      <td>...</td>\n",
              "    </tr>\n",
              "    <tr>\n",
              "      <th>8415</th>\n",
              "      <td>457862</td>\n",
              "      <td>2020-11-01</td>\n",
              "      <td>2020</td>\n",
              "      <td>11</td>\n",
              "      <td>520,951.659</td>\n",
              "      <td>4.000</td>\n",
              "      <td>3.000</td>\n",
              "      <td>Pennsylvania</td>\n",
              "      <td>1</td>\n",
              "      <td>4</td>\n",
              "      <td>...</td>\n",
              "      <td>0</td>\n",
              "      <td>Graduate Degree</td>\n",
              "      <td>Multi or Other Race</td>\n",
              "      <td>Mixed Gender</td>\n",
              "      <td>0.000</td>\n",
              "      <td>1.000</td>\n",
              "      <td>1,381.428</td>\n",
              "      <td>2,210.285</td>\n",
              "      <td>3,591.713</td>\n",
              "      <td>0</td>\n",
              "    </tr>\n",
              "    <tr>\n",
              "      <th>8416</th>\n",
              "      <td>457877</td>\n",
              "      <td>2020-11-01</td>\n",
              "      <td>2020</td>\n",
              "      <td>11</td>\n",
              "      <td>107,108.371</td>\n",
              "      <td>3.000</td>\n",
              "      <td>2.000</td>\n",
              "      <td>Florida</td>\n",
              "      <td>1</td>\n",
              "      <td>3</td>\n",
              "      <td>...</td>\n",
              "      <td>0</td>\n",
              "      <td>Bachelors</td>\n",
              "      <td>White</td>\n",
              "      <td>Mixed Gender</td>\n",
              "      <td>0.000</td>\n",
              "      <td>1.000</td>\n",
              "      <td>0.000</td>\n",
              "      <td>2,762.856</td>\n",
              "      <td>2,762.856</td>\n",
              "      <td>0</td>\n",
              "    </tr>\n",
              "    <tr>\n",
              "      <th>8417</th>\n",
              "      <td>457916</td>\n",
              "      <td>2020-11-01</td>\n",
              "      <td>2020</td>\n",
              "      <td>11</td>\n",
              "      <td>43,914.432</td>\n",
              "      <td>1.000</td>\n",
              "      <td>1.000</td>\n",
              "      <td>Texas</td>\n",
              "      <td>1</td>\n",
              "      <td>1</td>\n",
              "      <td>...</td>\n",
              "      <td>0</td>\n",
              "      <td>Some College</td>\n",
              "      <td>Black</td>\n",
              "      <td>Male</td>\n",
              "      <td>1.000</td>\n",
              "      <td>0.000</td>\n",
              "      <td>1,445.186</td>\n",
              "      <td>1,770.353</td>\n",
              "      <td>3,215.539</td>\n",
              "      <td>0</td>\n",
              "    </tr>\n",
              "    <tr>\n",
              "      <th>8418</th>\n",
              "      <td>457922</td>\n",
              "      <td>2020-11-01</td>\n",
              "      <td>2020</td>\n",
              "      <td>11</td>\n",
              "      <td>164,154.289</td>\n",
              "      <td>2.000</td>\n",
              "      <td>1.000</td>\n",
              "      <td>New York</td>\n",
              "      <td>1</td>\n",
              "      <td>2</td>\n",
              "      <td>...</td>\n",
              "      <td>0</td>\n",
              "      <td>Graduate Degree</td>\n",
              "      <td>Multi or Other Race</td>\n",
              "      <td>Mixed Gender</td>\n",
              "      <td>0.000</td>\n",
              "      <td>1.000</td>\n",
              "      <td>828.857</td>\n",
              "      <td>2,263.417</td>\n",
              "      <td>3,092.273</td>\n",
              "      <td>0</td>\n",
              "    </tr>\n",
              "    <tr>\n",
              "      <th>8419</th>\n",
              "      <td>457928</td>\n",
              "      <td>2020-11-01</td>\n",
              "      <td>2020</td>\n",
              "      <td>11</td>\n",
              "      <td>3,213.251</td>\n",
              "      <td>1.000</td>\n",
              "      <td>1.000</td>\n",
              "      <td>New York</td>\n",
              "      <td>1</td>\n",
              "      <td>1</td>\n",
              "      <td>...</td>\n",
              "      <td>0</td>\n",
              "      <td>Graduate Degree</td>\n",
              "      <td>White</td>\n",
              "      <td>Female</td>\n",
              "      <td>1.000</td>\n",
              "      <td>0.000</td>\n",
              "      <td>0.000</td>\n",
              "      <td>1,243.285</td>\n",
              "      <td>1,243.285</td>\n",
              "      <td>0</td>\n",
              "    </tr>\n",
              "  </tbody>\n",
              "</table>\n",
              "<p>8420 rows × 24 columns</p>\n",
              "</div>\n",
              "      <button class=\"colab-df-convert\" onclick=\"convertToInteractive('df-5dd3a1bf-9de6-4abb-aefe-8f980af23b42')\"\n",
              "              title=\"Convert this dataframe to an interactive table.\"\n",
              "              style=\"display:none;\">\n",
              "        \n",
              "  <svg xmlns=\"http://www.w3.org/2000/svg\" height=\"24px\"viewBox=\"0 0 24 24\"\n",
              "       width=\"24px\">\n",
              "    <path d=\"M0 0h24v24H0V0z\" fill=\"none\"/>\n",
              "    <path d=\"M18.56 5.44l.94 2.06.94-2.06 2.06-.94-2.06-.94-.94-2.06-.94 2.06-2.06.94zm-11 1L8.5 8.5l.94-2.06 2.06-.94-2.06-.94L8.5 2.5l-.94 2.06-2.06.94zm10 10l.94 2.06.94-2.06 2.06-.94-2.06-.94-.94-2.06-.94 2.06-2.06.94z\"/><path d=\"M17.41 7.96l-1.37-1.37c-.4-.4-.92-.59-1.43-.59-.52 0-1.04.2-1.43.59L10.3 9.45l-7.72 7.72c-.78.78-.78 2.05 0 2.83L4 21.41c.39.39.9.59 1.41.59.51 0 1.02-.2 1.41-.59l7.78-7.78 2.81-2.81c.8-.78.8-2.07 0-2.86zM5.41 20L4 18.59l7.72-7.72 1.47 1.35L5.41 20z\"/>\n",
              "  </svg>\n",
              "      </button>\n",
              "      \n",
              "  <style>\n",
              "    .colab-df-container {\n",
              "      display:flex;\n",
              "      flex-wrap:wrap;\n",
              "      gap: 12px;\n",
              "    }\n",
              "\n",
              "    .colab-df-convert {\n",
              "      background-color: #E8F0FE;\n",
              "      border: none;\n",
              "      border-radius: 50%;\n",
              "      cursor: pointer;\n",
              "      display: none;\n",
              "      fill: #1967D2;\n",
              "      height: 32px;\n",
              "      padding: 0 0 0 0;\n",
              "      width: 32px;\n",
              "    }\n",
              "\n",
              "    .colab-df-convert:hover {\n",
              "      background-color: #E2EBFA;\n",
              "      box-shadow: 0px 1px 2px rgba(60, 64, 67, 0.3), 0px 1px 3px 1px rgba(60, 64, 67, 0.15);\n",
              "      fill: #174EA6;\n",
              "    }\n",
              "\n",
              "    [theme=dark] .colab-df-convert {\n",
              "      background-color: #3B4455;\n",
              "      fill: #D2E3FC;\n",
              "    }\n",
              "\n",
              "    [theme=dark] .colab-df-convert:hover {\n",
              "      background-color: #434B5C;\n",
              "      box-shadow: 0px 1px 3px 1px rgba(0, 0, 0, 0.15);\n",
              "      filter: drop-shadow(0px 1px 2px rgba(0, 0, 0, 0.3));\n",
              "      fill: #FFFFFF;\n",
              "    }\n",
              "  </style>\n",
              "\n",
              "      <script>\n",
              "        const buttonEl =\n",
              "          document.querySelector('#df-5dd3a1bf-9de6-4abb-aefe-8f980af23b42 button.colab-df-convert');\n",
              "        buttonEl.style.display =\n",
              "          google.colab.kernel.accessAllowed ? 'block' : 'none';\n",
              "\n",
              "        async function convertToInteractive(key) {\n",
              "          const element = document.querySelector('#df-5dd3a1bf-9de6-4abb-aefe-8f980af23b42');\n",
              "          const dataTable =\n",
              "            await google.colab.kernel.invokeFunction('convertToInteractive',\n",
              "                                                     [key], {});\n",
              "          if (!dataTable) return;\n",
              "\n",
              "          const docLinkHtml = 'Like what you see? Visit the ' +\n",
              "            '<a target=\"_blank\" href=https://colab.research.google.com/notebooks/data_table.ipynb>data table notebook</a>'\n",
              "            + ' to learn more about interactive tables.';\n",
              "          element.innerHTML = '';\n",
              "          dataTable['output_type'] = 'display_data';\n",
              "          await google.colab.output.renderOutput(dataTable, element);\n",
              "          const docLink = document.createElement('div');\n",
              "          docLink.innerHTML = docLinkHtml;\n",
              "          element.appendChild(docLink);\n",
              "        }\n",
              "      </script>\n",
              "    </div>\n",
              "  </div>\n",
              "  "
            ]
          },
          "metadata": {},
          "execution_count": 5
        }
      ]
    },
    {
      "cell_type": "code",
      "source": [
        "ces.info()"
      ],
      "metadata": {
        "colab": {
          "base_uri": "https://localhost:8080/"
        },
        "id": "CaDXkGDUrXiT",
        "outputId": "3a29d03d-039f-44bb-d42a-904283a5c346"
      },
      "execution_count": null,
      "outputs": [
        {
          "output_type": "stream",
          "name": "stdout",
          "text": [
            "<class 'pandas.core.frame.DataFrame'>\n",
            "RangeIndex: 8420 entries, 0 to 8419\n",
            "Data columns (total 24 columns):\n",
            " #   Column                        Non-Null Count  Dtype  \n",
            "---  ------                        --------------  -----  \n",
            " 0   CUID                          8420 non-null   int64  \n",
            " 1   Date                          8420 non-null   object \n",
            " 2   Year                          8420 non-null   int64  \n",
            " 3   Month                         8420 non-null   int64  \n",
            " 4   Income Before Taxes           8420 non-null   float64\n",
            " 5   Number of Bedrooms            8400 non-null   float64\n",
            " 6   Number of Bathrooms           8400 non-null   float64\n",
            " 7   State                         8420 non-null   object \n",
            " 8   Urban                         8420 non-null   int64  \n",
            " 9   People                        8420 non-null   int64  \n",
            " 10  Adults                        8420 non-null   int64  \n",
            " 11  65 or Older                   8420 non-null   int64  \n",
            " 12  Children                      8420 non-null   int64  \n",
            " 13  Working                       8420 non-null   int64  \n",
            " 14  Retired                       8420 non-null   int64  \n",
            " 15  Education                     8420 non-null   object \n",
            " 16  Race                          8420 non-null   object \n",
            " 17  Sex                           8420 non-null   object \n",
            " 18  Renter                        8420 non-null   float64\n",
            " 19  Owner                         8420 non-null   float64\n",
            " 20  Food-Away                     8420 non-null   float64\n",
            " 21  Food-Home                     8420 non-null   float64\n",
            " 22  Food-Total                    8420 non-null   float64\n",
            " 23  High lead-Food-Away Spending  8420 non-null   int64  \n",
            "dtypes: float64(8), int64(11), object(5)\n",
            "memory usage: 1.5+ MB\n"
          ]
        }
      ]
    },
    {
      "cell_type": "code",
      "source": [
        "# Confirm CUID is unique and can be used as an index\n",
        "print(ces.shape[0])\n",
        "print(ces['CUID'].nunique())"
      ],
      "metadata": {
        "colab": {
          "base_uri": "https://localhost:8080/"
        },
        "id": "ZHzOkwRddigs",
        "outputId": "39734b79-3d16-4e9f-fb26-1ccfddc49ab8"
      },
      "execution_count": null,
      "outputs": [
        {
          "output_type": "stream",
          "name": "stdout",
          "text": [
            "8420\n",
            "8420\n"
          ]
        }
      ]
    },
    {
      "cell_type": "markdown",
      "source": [
        "### Assign Index and Data Types"
      ],
      "metadata": {
        "id": "HrBsIUuR8A20"
      }
    },
    {
      "cell_type": "code",
      "source": [
        "ces.set_index(\"CUID\", inplace=True)\n",
        "ces['Date'] = ces['Date'].astype('datetime64[ns]')\n",
        "ces['Income Before Taxes'] = ces['Income Before Taxes'].astype('int')\n",
        "ces['State'] = ces['State'].astype('category')\n",
        "ces['Education'] = ces['Education'].astype('category')\n",
        "ces['Race'] = ces['Race'].astype('category')\n",
        "ces['Sex'] = ces['Sex'].astype('category')\n",
        "ces['Renter'] = ces['Renter'].astype('category')\n",
        "ces['Owner'] = ces['Owner'].astype('category')\n",
        "ces['Urban'] = ces['Urban'].astype('category')\n",
        "ces[\"High lead-Food-Away Spending\"]=ces[\"High lead-Food-Away Spending\"].astype(\"category\")"
      ],
      "metadata": {
        "id": "KpbDNEMV59ic"
      },
      "execution_count": null,
      "outputs": []
    },
    {
      "cell_type": "code",
      "source": [
        "ces.info()"
      ],
      "metadata": {
        "colab": {
          "base_uri": "https://localhost:8080/"
        },
        "id": "cztQeugzeg_m",
        "outputId": "0cd238a5-9a19-4e36-c64b-1fd0b4ebacc3"
      },
      "execution_count": null,
      "outputs": [
        {
          "output_type": "stream",
          "name": "stdout",
          "text": [
            "<class 'pandas.core.frame.DataFrame'>\n",
            "Int64Index: 8420 entries, 346096 to 457928\n",
            "Data columns (total 23 columns):\n",
            " #   Column                        Non-Null Count  Dtype         \n",
            "---  ------                        --------------  -----         \n",
            " 0   Date                          8420 non-null   datetime64[ns]\n",
            " 1   Year                          8420 non-null   int64         \n",
            " 2   Month                         8420 non-null   int64         \n",
            " 3   Income Before Taxes           8420 non-null   int64         \n",
            " 4   Number of Bedrooms            8400 non-null   float64       \n",
            " 5   Number of Bathrooms           8400 non-null   float64       \n",
            " 6   State                         8420 non-null   category      \n",
            " 7   Urban                         8420 non-null   category      \n",
            " 8   People                        8420 non-null   int64         \n",
            " 9   Adults                        8420 non-null   int64         \n",
            " 10  65 or Older                   8420 non-null   int64         \n",
            " 11  Children                      8420 non-null   int64         \n",
            " 12  Working                       8420 non-null   int64         \n",
            " 13  Retired                       8420 non-null   int64         \n",
            " 14  Education                     8420 non-null   category      \n",
            " 15  Race                          8420 non-null   category      \n",
            " 16  Sex                           8420 non-null   category      \n",
            " 17  Renter                        8420 non-null   category      \n",
            " 18  Owner                         8420 non-null   category      \n",
            " 19  Food-Away                     8420 non-null   float64       \n",
            " 20  Food-Home                     8420 non-null   float64       \n",
            " 21  Food-Total                    8420 non-null   float64       \n",
            " 22  High lead-Food-Away Spending  8420 non-null   category      \n",
            "dtypes: category(8), datetime64[ns](1), float64(5), int64(9)\n",
            "memory usage: 1.1 MB\n"
          ]
        }
      ]
    },
    {
      "cell_type": "markdown",
      "source": [
        "# The Target Label Distribution Drift\n",
        "\n",
        "\n"
      ],
      "metadata": {
        "id": "JEHA_JDgJlzU"
      }
    },
    {
      "cell_type": "code",
      "source": [
        "ces_2017_2019 = ces[ces['Year'].isin((2017, 2018, 2019))]\n",
        "ces_Q1_2020 = ces[(ces['Date'] >= '2020-01-01') & (ces['Date'] <= '2020-03-31')]\n",
        "ces_Q2_2020 = ces[(ces['Date'] >= '2020-04-01') & (ces['Date'] <= '2020-06-30')]\n",
        "ces_Q3_2020 = ces[(ces['Date'] >= '2020-07-01') & (ces['Date'] <= '2020-09-30')]\n",
        "ces_Q4_2020 = ces[(ces['Date'] >= '2020-09-01') & (ces['Date'] <= '2020-12-31')]"
      ],
      "metadata": {
        "id": "cxrTsT2tNyRL"
      },
      "execution_count": null,
      "outputs": []
    },
    {
      "cell_type": "code",
      "source": [
        "class_distribution = []\n",
        "\n",
        "class_distribution.append([\"ces_2017_2019\",\n",
        "                           ces_2017_2019['High lead-Food-Away Spending'].\n",
        "                           value_counts(normalize=True)[0],\n",
        "                           ces_2017_2019['High lead-Food-Away Spending'].\n",
        "                           value_counts(normalize=True)[1]])\n",
        "\n",
        "class_distribution.append([\"ces_Q1_2020\",\n",
        "                           ces_Q1_2020['High lead-Food-Away Spending'].\n",
        "                           value_counts(normalize=True)[0],\n",
        "                           ces_Q1_2020['High lead-Food-Away Spending'].\n",
        "                           value_counts(normalize=True)[1]])\n",
        "\n",
        "class_distribution.append([\"ces_Q2_2020\",\n",
        "                           ces_Q2_2020['High lead-Food-Away Spending'].\n",
        "                           value_counts(normalize=True)[0],\n",
        "                           ces_Q2_2020['High lead-Food-Away Spending'].\n",
        "                           value_counts(normalize=True)[1]])\n",
        "\n",
        "class_distribution.append([\"ces_Q3_2020\",\n",
        "                           ces_Q3_2020['High lead-Food-Away Spending'].\n",
        "                           value_counts(normalize=True)[0],\n",
        "                           ces_Q3_2020['High lead-Food-Away Spending'].\n",
        "                           value_counts(normalize=True)[1]])\n",
        "\n",
        "class_distribution.append([\"ces_Q4_2020\",\n",
        "                           ces_Q4_2020['High lead-Food-Away Spending'].\n",
        "                           value_counts(normalize=True)[0],\n",
        "                           ces_Q4_2020['High lead-Food-Away Spending'].\n",
        "                           value_counts(normalize=True)[1]])\n",
        "\n",
        "distdf = pd.DataFrame(class_distribution,\n",
        "                      columns=['Period',\n",
        "                               'High lead-Food-Away Spending (No = 0)',\n",
        "                               'High lead-Food-Away Spending (Yes = 1)']\n",
        "                      )\n",
        "\n",
        "distdf.style.background_gradient(cmap='coolwarm')"
      ],
      "metadata": {
        "colab": {
          "base_uri": "https://localhost:8080/",
          "height": 206
        },
        "id": "DETiQhdJU-6x",
        "outputId": "c29110bb-17fa-4ee7-f168-55e615d516d6"
      },
      "execution_count": null,
      "outputs": [
        {
          "output_type": "execute_result",
          "data": {
            "text/plain": [
              "<pandas.io.formats.style.Styler at 0x7f3cec7d0190>"
            ],
            "text/html": [
              "<style type=\"text/css\">\n",
              "#T_fa162_row0_col1, #T_fa162_row1_col2 {\n",
              "  background-color: #3b4cc0;\n",
              "  color: #f1f1f1;\n",
              "}\n",
              "#T_fa162_row0_col2, #T_fa162_row1_col1 {\n",
              "  background-color: #b40426;\n",
              "  color: #f1f1f1;\n",
              "}\n",
              "#T_fa162_row2_col1 {\n",
              "  background-color: #f6bea4;\n",
              "  color: #000000;\n",
              "}\n",
              "#T_fa162_row2_col2 {\n",
              "  background-color: #b1cbfc;\n",
              "  color: #000000;\n",
              "}\n",
              "#T_fa162_row3_col1 {\n",
              "  background-color: #cd423b;\n",
              "  color: #f1f1f1;\n",
              "}\n",
              "#T_fa162_row3_col2 {\n",
              "  background-color: #506bda;\n",
              "  color: #f1f1f1;\n",
              "}\n",
              "#T_fa162_row4_col1 {\n",
              "  background-color: #f6bda2;\n",
              "  color: #000000;\n",
              "}\n",
              "#T_fa162_row4_col2 {\n",
              "  background-color: #afcafc;\n",
              "  color: #000000;\n",
              "}\n",
              "</style>\n",
              "<table id=\"T_fa162\" class=\"dataframe\">\n",
              "  <thead>\n",
              "    <tr>\n",
              "      <th class=\"blank level0\" >&nbsp;</th>\n",
              "      <th id=\"T_fa162_level0_col0\" class=\"col_heading level0 col0\" >Period</th>\n",
              "      <th id=\"T_fa162_level0_col1\" class=\"col_heading level0 col1\" >High lead-Food-Away Spending (No = 0)</th>\n",
              "      <th id=\"T_fa162_level0_col2\" class=\"col_heading level0 col2\" >High lead-Food-Away Spending (Yes = 1)</th>\n",
              "    </tr>\n",
              "  </thead>\n",
              "  <tbody>\n",
              "    <tr>\n",
              "      <th id=\"T_fa162_level0_row0\" class=\"row_heading level0 row0\" >0</th>\n",
              "      <td id=\"T_fa162_row0_col0\" class=\"data row0 col0\" >ces_2017_2019</td>\n",
              "      <td id=\"T_fa162_row0_col1\" class=\"data row0 col1\" >0.900031</td>\n",
              "      <td id=\"T_fa162_row0_col2\" class=\"data row0 col2\" >0.099969</td>\n",
              "    </tr>\n",
              "    <tr>\n",
              "      <th id=\"T_fa162_level0_row1\" class=\"row_heading level0 row1\" >1</th>\n",
              "      <td id=\"T_fa162_row1_col0\" class=\"data row1 col0\" >ces_Q1_2020</td>\n",
              "      <td id=\"T_fa162_row1_col1\" class=\"data row1 col1\" >0.962121</td>\n",
              "      <td id=\"T_fa162_row1_col2\" class=\"data row1 col2\" >0.037879</td>\n",
              "    </tr>\n",
              "    <tr>\n",
              "      <th id=\"T_fa162_level0_row2\" class=\"row_heading level0 row2\" >2</th>\n",
              "      <td id=\"T_fa162_row2_col0\" class=\"data row2 col0\" >ces_Q2_2020</td>\n",
              "      <td id=\"T_fa162_row2_col1\" class=\"data row2 col1\" >0.940270</td>\n",
              "      <td id=\"T_fa162_row2_col2\" class=\"data row2 col2\" >0.059730</td>\n",
              "    </tr>\n",
              "    <tr>\n",
              "      <th id=\"T_fa162_level0_row3\" class=\"row_heading level0 row3\" >3</th>\n",
              "      <td id=\"T_fa162_row3_col0\" class=\"data row3 col0\" >ces_Q3_2020</td>\n",
              "      <td id=\"T_fa162_row3_col1\" class=\"data row3 col1\" >0.957643</td>\n",
              "      <td id=\"T_fa162_row3_col2\" class=\"data row3 col2\" >0.042357</td>\n",
              "    </tr>\n",
              "    <tr>\n",
              "      <th id=\"T_fa162_level0_row4\" class=\"row_heading level0 row4\" >4</th>\n",
              "      <td id=\"T_fa162_row4_col0\" class=\"data row4 col0\" >ces_Q4_2020</td>\n",
              "      <td id=\"T_fa162_row4_col1\" class=\"data row4 col1\" >0.940325</td>\n",
              "      <td id=\"T_fa162_row4_col2\" class=\"data row4 col2\" >0.059675</td>\n",
              "    </tr>\n",
              "  </tbody>\n",
              "</table>\n"
            ]
          },
          "metadata": {},
          "execution_count": 11
        }
      ]
    },
    {
      "cell_type": "markdown",
      "source": [
        "# Model Drift - Drop in Accuracy"
      ],
      "metadata": {
        "id": "d0OYarQKsbZz"
      }
    },
    {
      "cell_type": "code",
      "source": [
        "model_results = []\n",
        "\n",
        "def model_acc_metrics(X, y_true, clf, desc):\n",
        "\n",
        "    y_pred = clf.predict(X)\n",
        "    y_prob = clf_dt.predict_proba(X)[:, 1]\n",
        "\n",
        "    auc = roc_auc_score(y_true, y_prob)\n",
        "    acc = accuracy_score(y_true, y_pred)\n",
        "    bal_acc = balanced_accuracy_score(y_true, y_pred)\n",
        "    f1 = f1_score(y_true, y_pred, average=\"weighted\")\n",
        "\n",
        "    print(f'Area under ROC curve: {auc: 0.4f}')\n",
        "    print(f'Accuracy {acc: 0.4f}')\n",
        "    print(f'Balanced Accuracy {bal_acc: 0.4f}')\n",
        "    print(f'Weighted F1 score {f1: 0.4f}')\n",
        "    print(classification_report(y_true, y_pred, digits=4))\n",
        "    print (pd.DataFrame(confusion_matrix(y_true, y_pred)))\n",
        "\n",
        "    model_results.append([desc,auc, acc, bal_acc, f1])"
      ],
      "metadata": {
        "id": "crvA14kmnUVS"
      },
      "execution_count": null,
      "outputs": []
    },
    {
      "cell_type": "code",
      "source": [
        "def df_pre_processing(dataFrame):\n",
        "  processed_df = dataFrame.copy()\n",
        "\n",
        "  #fill missing values\n",
        "  processed_df['Number of Bathrooms'].fillna(\n",
        "      processed_df['Number of Bathrooms'].median(), inplace=True)\n",
        "  processed_df['Number of Bedrooms'].fillna(\n",
        "      processed_df['Number of Bedrooms'].median(), inplace=True)\n",
        "\n",
        "  #encode categorical features\n",
        "  Education_ohe = pd.get_dummies(processed_df.Education, prefix='Education')\n",
        "  Race_ohe = pd.get_dummies(processed_df.Race, prefix='Race')\n",
        "  Sex_ohe = pd.get_dummies(processed_df.Sex, prefix='Sex')\n",
        "  State_ohe = pd.get_dummies(processed_df.State, prefix='State')\n",
        "\n",
        "  DROP_cat = ['Education', 'Race', 'Sex', 'State']\n",
        "  processed_df.drop(columns=DROP_cat, inplace=True)\n",
        "\n",
        "  processed_df = pd.concat([processed_df, Education_ohe], axis=1)\n",
        "  processed_df = pd.concat([processed_df, Race_ohe], axis=1)\n",
        "  processed_df = pd.concat([processed_df, Sex_ohe], axis=1)\n",
        "  processed_df = pd.concat([processed_df, State_ohe], axis=1)\n",
        "\n",
        "  return(processed_df)"
      ],
      "metadata": {
        "id": "k6jHzDQ1lB0U"
      },
      "execution_count": null,
      "outputs": []
    },
    {
      "cell_type": "code",
      "source": [
        "def get_labels_data(dataFrame):\n",
        "  r_labels = dataFrame['High lead-Food-Away Spending']\n",
        "  r_data = dataFrame.drop(columns=\n",
        "                          ['Year', 'Date', 'High lead-Food-Away Spending'])\n",
        "  return r_data, r_labels"
      ],
      "metadata": {
        "id": "ob7aiZ0mSlMh"
      },
      "execution_count": null,
      "outputs": []
    },
    {
      "cell_type": "markdown",
      "source": [
        "### Train/Test split on 2017 through 2019 records - all available states"
      ],
      "metadata": {
        "id": "bgE8CMTIj-WK"
      }
    },
    {
      "cell_type": "code",
      "source": [
        "data, labels = get_labels_data(df_pre_processing(ces_2017_2019))\n",
        "train, test, labels_train, labels_test = \\\n",
        "  sklearn.model_selection.train_test_split(data, labels, train_size=0.80,\n",
        "                                           random_state=RANDOM_SEED)"
      ],
      "metadata": {
        "id": "BeKIfZrpxMDc"
      },
      "execution_count": null,
      "outputs": []
    },
    {
      "cell_type": "markdown",
      "source": [
        "## Fit Decision Tree Model"
      ],
      "metadata": {
        "id": "Bks7zH9CY-pc"
      }
    },
    {
      "cell_type": "code",
      "source": [
        "clf_dt = DecisionTreeClassifier(criterion=\"gini\", random_state=RANDOM_SEED,\n",
        "                                max_depth=10,\n",
        "                                min_samples_leaf=5,\n",
        "                                class_weight='balanced')\n",
        "clf_dt.fit(train, labels_train)"
      ],
      "metadata": {
        "colab": {
          "base_uri": "https://localhost:8080/",
          "height": 92
        },
        "id": "_ileBZwVy33k",
        "outputId": "c76918b9-be09-4dea-a65d-fba7f66f8430"
      },
      "execution_count": null,
      "outputs": [
        {
          "output_type": "execute_result",
          "data": {
            "text/plain": [
              "DecisionTreeClassifier(class_weight='balanced', max_depth=10,\n",
              "                       min_samples_leaf=5, random_state=700)"
            ],
            "text/html": [
              "<style>#sk-container-id-1 {color: black;background-color: white;}#sk-container-id-1 pre{padding: 0;}#sk-container-id-1 div.sk-toggleable {background-color: white;}#sk-container-id-1 label.sk-toggleable__label {cursor: pointer;display: block;width: 100%;margin-bottom: 0;padding: 0.3em;box-sizing: border-box;text-align: center;}#sk-container-id-1 label.sk-toggleable__label-arrow:before {content: \"▸\";float: left;margin-right: 0.25em;color: #696969;}#sk-container-id-1 label.sk-toggleable__label-arrow:hover:before {color: black;}#sk-container-id-1 div.sk-estimator:hover label.sk-toggleable__label-arrow:before {color: black;}#sk-container-id-1 div.sk-toggleable__content {max-height: 0;max-width: 0;overflow: hidden;text-align: left;background-color: #f0f8ff;}#sk-container-id-1 div.sk-toggleable__content pre {margin: 0.2em;color: black;border-radius: 0.25em;background-color: #f0f8ff;}#sk-container-id-1 input.sk-toggleable__control:checked~div.sk-toggleable__content {max-height: 200px;max-width: 100%;overflow: auto;}#sk-container-id-1 input.sk-toggleable__control:checked~label.sk-toggleable__label-arrow:before {content: \"▾\";}#sk-container-id-1 div.sk-estimator input.sk-toggleable__control:checked~label.sk-toggleable__label {background-color: #d4ebff;}#sk-container-id-1 div.sk-label input.sk-toggleable__control:checked~label.sk-toggleable__label {background-color: #d4ebff;}#sk-container-id-1 input.sk-hidden--visually {border: 0;clip: rect(1px 1px 1px 1px);clip: rect(1px, 1px, 1px, 1px);height: 1px;margin: -1px;overflow: hidden;padding: 0;position: absolute;width: 1px;}#sk-container-id-1 div.sk-estimator {font-family: monospace;background-color: #f0f8ff;border: 1px dotted black;border-radius: 0.25em;box-sizing: border-box;margin-bottom: 0.5em;}#sk-container-id-1 div.sk-estimator:hover {background-color: #d4ebff;}#sk-container-id-1 div.sk-parallel-item::after {content: \"\";width: 100%;border-bottom: 1px solid gray;flex-grow: 1;}#sk-container-id-1 div.sk-label:hover label.sk-toggleable__label {background-color: #d4ebff;}#sk-container-id-1 div.sk-serial::before {content: \"\";position: absolute;border-left: 1px solid gray;box-sizing: border-box;top: 0;bottom: 0;left: 50%;z-index: 0;}#sk-container-id-1 div.sk-serial {display: flex;flex-direction: column;align-items: center;background-color: white;padding-right: 0.2em;padding-left: 0.2em;position: relative;}#sk-container-id-1 div.sk-item {position: relative;z-index: 1;}#sk-container-id-1 div.sk-parallel {display: flex;align-items: stretch;justify-content: center;background-color: white;position: relative;}#sk-container-id-1 div.sk-item::before, #sk-container-id-1 div.sk-parallel-item::before {content: \"\";position: absolute;border-left: 1px solid gray;box-sizing: border-box;top: 0;bottom: 0;left: 50%;z-index: -1;}#sk-container-id-1 div.sk-parallel-item {display: flex;flex-direction: column;z-index: 1;position: relative;background-color: white;}#sk-container-id-1 div.sk-parallel-item:first-child::after {align-self: flex-end;width: 50%;}#sk-container-id-1 div.sk-parallel-item:last-child::after {align-self: flex-start;width: 50%;}#sk-container-id-1 div.sk-parallel-item:only-child::after {width: 0;}#sk-container-id-1 div.sk-dashed-wrapped {border: 1px dashed gray;margin: 0 0.4em 0.5em 0.4em;box-sizing: border-box;padding-bottom: 0.4em;background-color: white;}#sk-container-id-1 div.sk-label label {font-family: monospace;font-weight: bold;display: inline-block;line-height: 1.2em;}#sk-container-id-1 div.sk-label-container {text-align: center;}#sk-container-id-1 div.sk-container {/* jupyter's `normalize.less` sets `[hidden] { display: none; }` but bootstrap.min.css set `[hidden] { display: none !important; }` so we also need the `!important` here to be able to override the default hidden behavior on the sphinx rendered scikit-learn.org. See: https://github.com/scikit-learn/scikit-learn/issues/21755 */display: inline-block !important;position: relative;}#sk-container-id-1 div.sk-text-repr-fallback {display: none;}</style><div id=\"sk-container-id-1\" class=\"sk-top-container\"><div class=\"sk-text-repr-fallback\"><pre>DecisionTreeClassifier(class_weight=&#x27;balanced&#x27;, max_depth=10,\n",
              "                       min_samples_leaf=5, random_state=700)</pre><b>In a Jupyter environment, please rerun this cell to show the HTML representation or trust the notebook. <br />On GitHub, the HTML representation is unable to render, please try loading this page with nbviewer.org.</b></div><div class=\"sk-container\" hidden><div class=\"sk-item\"><div class=\"sk-estimator sk-toggleable\"><input class=\"sk-toggleable__control sk-hidden--visually\" id=\"sk-estimator-id-1\" type=\"checkbox\" checked><label for=\"sk-estimator-id-1\" class=\"sk-toggleable__label sk-toggleable__label-arrow\">DecisionTreeClassifier</label><div class=\"sk-toggleable__content\"><pre>DecisionTreeClassifier(class_weight=&#x27;balanced&#x27;, max_depth=10,\n",
              "                       min_samples_leaf=5, random_state=700)</pre></div></div></div></div></div>"
            ]
          },
          "metadata": {},
          "execution_count": 16
        }
      ]
    },
    {
      "cell_type": "markdown",
      "source": [
        "## Test Accuracy Drift"
      ],
      "metadata": {
        "id": "rhsRrTlHIXeI"
      }
    },
    {
      "cell_type": "code",
      "source": [
        "model_acc_metrics(test, labels_test, clf_dt, \"DT Test 2017-2019\")"
      ],
      "metadata": {
        "colab": {
          "base_uri": "https://localhost:8080/"
        },
        "id": "92pHFK4v8Skk",
        "outputId": "6605b00c-7654-4d89-973e-8b2fbd97861d"
      },
      "execution_count": null,
      "outputs": [
        {
          "output_type": "stream",
          "name": "stdout",
          "text": [
            "Area under ROC curve:  0.7706\n",
            "Accuracy  0.8242\n",
            "Balanced Accuracy  0.7554\n",
            "Weighted F1 score  0.8494\n",
            "              precision    recall  f1-score   support\n",
            "\n",
            "           0     0.9578    0.8415    0.8959      1161\n",
            "           1     0.3210    0.6692    0.4339       130\n",
            "\n",
            "    accuracy                         0.8242      1291\n",
            "   macro avg     0.6394    0.7554    0.6649      1291\n",
            "weighted avg     0.8937    0.8242    0.8494      1291\n",
            "\n",
            "     0    1\n",
            "0  977  184\n",
            "1   43   87\n"
          ]
        }
      ]
    },
    {
      "cell_type": "code",
      "source": [
        "Q1_data, Q1_labels = get_labels_data(df_pre_processing(ces_Q1_2020))\n",
        "model_acc_metrics(Q1_data, Q1_labels, clf_dt, \"DT Q1 2020\")"
      ],
      "metadata": {
        "colab": {
          "base_uri": "https://localhost:8080/"
        },
        "id": "wNU4jSdHq4t8",
        "outputId": "a61caf62-9f9e-4c73-a196-bb84308774cd"
      },
      "execution_count": null,
      "outputs": [
        {
          "output_type": "stream",
          "name": "stdout",
          "text": [
            "Area under ROC curve:  0.6462\n",
            "Accuracy  0.7727\n",
            "Balanced Accuracy  0.6177\n",
            "Weighted F1 score  0.8413\n",
            "              precision    recall  f1-score   support\n",
            "\n",
            "           0     0.9732    0.7854    0.8693       508\n",
            "           1     0.0763    0.4500    0.1304        20\n",
            "\n",
            "    accuracy                         0.7727       528\n",
            "   macro avg     0.5247    0.6177    0.4999       528\n",
            "weighted avg     0.9392    0.7727    0.8413       528\n",
            "\n",
            "     0    1\n",
            "0  399  109\n",
            "1   11    9\n"
          ]
        }
      ]
    },
    {
      "cell_type": "code",
      "source": [
        "Q2_data, Q2_labels = get_labels_data(df_pre_processing(ces_Q2_2020))\n",
        "model_acc_metrics(Q2_data, Q2_labels, clf_dt, \"DT Q2 2020\")"
      ],
      "metadata": {
        "colab": {
          "base_uri": "https://localhost:8080/"
        },
        "id": "kqv5R1Drq42G",
        "outputId": "86a4f046-641d-43d9-fa72-e3b572cd7dba"
      },
      "execution_count": null,
      "outputs": [
        {
          "output_type": "stream",
          "name": "stdout",
          "text": [
            "Area under ROC curve:  0.7970\n",
            "Accuracy  0.8728\n",
            "Balanced Accuracy  0.7813\n",
            "Weighted F1 score  0.8968\n",
            "              precision    recall  f1-score   support\n",
            "\n",
            "           0     0.9774    0.8852    0.9290       488\n",
            "           1     0.2727    0.6774    0.3889        31\n",
            "\n",
            "    accuracy                         0.8728       519\n",
            "   macro avg     0.6251    0.7813    0.6590       519\n",
            "weighted avg     0.9353    0.8728    0.8968       519\n",
            "\n",
            "     0   1\n",
            "0  432  56\n",
            "1   10  21\n"
          ]
        }
      ]
    },
    {
      "cell_type": "code",
      "source": [
        "Q3_data, Q3_labels = get_labels_data(df_pre_processing(ces_Q3_2020))\n",
        "model_acc_metrics(Q3_data, Q3_labels, clf_dt, \"DT Q3 2020\")"
      ],
      "metadata": {
        "colab": {
          "base_uri": "https://localhost:8080/"
        },
        "id": "KDEPUY3pq4-C",
        "outputId": "a6f60a87-4feb-4bd3-cf1a-e82eb3e7488a"
      },
      "execution_count": null,
      "outputs": [
        {
          "output_type": "stream",
          "name": "stdout",
          "text": [
            "Area under ROC curve:  0.7133\n",
            "Accuracy  0.8471\n",
            "Balanced Accuracy  0.7124\n",
            "Weighted F1 score  0.8864\n",
            "              precision    recall  f1-score   support\n",
            "\n",
            "           0     0.9781    0.8596    0.9150       520\n",
            "           1     0.1512    0.5652    0.2385        23\n",
            "\n",
            "    accuracy                         0.8471       543\n",
            "   macro avg     0.5646    0.7124    0.5768       543\n",
            "weighted avg     0.9431    0.8471    0.8864       543\n",
            "\n",
            "     0   1\n",
            "0  447  73\n",
            "1   10  13\n"
          ]
        }
      ]
    },
    {
      "cell_type": "code",
      "source": [
        "Q4_data, Q4_labels = get_labels_data(df_pre_processing(ces_Q4_2020))\n",
        "model_acc_metrics(Q4_data, Q4_labels, clf_dt, \"DT Q4 2020\")"
      ],
      "metadata": {
        "colab": {
          "base_uri": "https://localhost:8080/"
        },
        "id": "4RofBS5kq55C",
        "outputId": "c114e37d-86ab-4fc3-caa4-7b491c5b738b"
      },
      "execution_count": null,
      "outputs": [
        {
          "output_type": "stream",
          "name": "stdout",
          "text": [
            "Area under ROC curve:  0.7006\n",
            "Accuracy  0.8336\n",
            "Balanced Accuracy  0.6987\n",
            "Weighted F1 score  0.8687\n",
            "              precision    recall  f1-score   support\n",
            "\n",
            "           0     0.9672    0.8519    0.9059       520\n",
            "           1     0.1895    0.5455    0.2812        33\n",
            "\n",
            "    accuracy                         0.8336       553\n",
            "   macro avg     0.5784    0.6987    0.5936       553\n",
            "weighted avg     0.9208    0.8336    0.8687       553\n",
            "\n",
            "     0   1\n",
            "0  443  77\n",
            "1   15  18\n"
          ]
        }
      ]
    },
    {
      "cell_type": "code",
      "source": [
        "resdf = pd.DataFrame(model_results, columns=['time segment', 'auc', 'accuracy', 'balanced accuracy', 'f1-score'])\n",
        "resdf.style.background_gradient(cmap='coolwarm')"
      ],
      "metadata": {
        "colab": {
          "base_uri": "https://localhost:8080/",
          "height": 206
        },
        "id": "qMAagEhH3VRn",
        "outputId": "ef96b130-7226-4e16-801e-f510fcdb5c5a"
      },
      "execution_count": null,
      "outputs": [
        {
          "output_type": "execute_result",
          "data": {
            "text/plain": [
              "<pandas.io.formats.style.Styler at 0x7f3cec5fdd60>"
            ],
            "text/html": [
              "<style type=\"text/css\">\n",
              "#T_fc046_row0_col1 {\n",
              "  background-color: #e9785d;\n",
              "  color: #f1f1f1;\n",
              "}\n",
              "#T_fc046_row0_col2 {\n",
              "  background-color: #e0dbd8;\n",
              "  color: #000000;\n",
              "}\n",
              "#T_fc046_row0_col3 {\n",
              "  background-color: #e57058;\n",
              "  color: #f1f1f1;\n",
              "}\n",
              "#T_fc046_row0_col4 {\n",
              "  background-color: #688aef;\n",
              "  color: #f1f1f1;\n",
              "}\n",
              "#T_fc046_row1_col1, #T_fc046_row1_col2, #T_fc046_row1_col3, #T_fc046_row1_col4 {\n",
              "  background-color: #3b4cc0;\n",
              "  color: #f1f1f1;\n",
              "}\n",
              "#T_fc046_row2_col1, #T_fc046_row2_col2, #T_fc046_row2_col3, #T_fc046_row2_col4 {\n",
              "  background-color: #b40426;\n",
              "  color: #f1f1f1;\n",
              "}\n",
              "#T_fc046_row3_col1 {\n",
              "  background-color: #cdd9ec;\n",
              "  color: #000000;\n",
              "}\n",
              "#T_fc046_row3_col2 {\n",
              "  background-color: #f59c7d;\n",
              "  color: #000000;\n",
              "}\n",
              "#T_fc046_row3_col3 {\n",
              "  background-color: #efcfbf;\n",
              "  color: #000000;\n",
              "}\n",
              "#T_fc046_row3_col4 {\n",
              "  background-color: #eb7d62;\n",
              "  color: #f1f1f1;\n",
              "}\n",
              "#T_fc046_row4_col1 {\n",
              "  background-color: #b3cdfb;\n",
              "  color: #000000;\n",
              "}\n",
              "#T_fc046_row4_col2 {\n",
              "  background-color: #f2c9b4;\n",
              "  color: #000000;\n",
              "}\n",
              "#T_fc046_row4_col3, #T_fc046_row4_col4 {\n",
              "  background-color: #dbdcde;\n",
              "  color: #000000;\n",
              "}\n",
              "</style>\n",
              "<table id=\"T_fc046\" class=\"dataframe\">\n",
              "  <thead>\n",
              "    <tr>\n",
              "      <th class=\"blank level0\" >&nbsp;</th>\n",
              "      <th id=\"T_fc046_level0_col0\" class=\"col_heading level0 col0\" >time segment</th>\n",
              "      <th id=\"T_fc046_level0_col1\" class=\"col_heading level0 col1\" >auc</th>\n",
              "      <th id=\"T_fc046_level0_col2\" class=\"col_heading level0 col2\" >accuracy</th>\n",
              "      <th id=\"T_fc046_level0_col3\" class=\"col_heading level0 col3\" >balanced accuracy</th>\n",
              "      <th id=\"T_fc046_level0_col4\" class=\"col_heading level0 col4\" >f1-score</th>\n",
              "    </tr>\n",
              "  </thead>\n",
              "  <tbody>\n",
              "    <tr>\n",
              "      <th id=\"T_fc046_level0_row0\" class=\"row_heading level0 row0\" >0</th>\n",
              "      <td id=\"T_fc046_row0_col0\" class=\"data row0 col0\" >DT Test 2017-2019</td>\n",
              "      <td id=\"T_fc046_row0_col1\" class=\"data row0 col1\" >0.770619</td>\n",
              "      <td id=\"T_fc046_row0_col2\" class=\"data row0 col2\" >0.824167</td>\n",
              "      <td id=\"T_fc046_row0_col3\" class=\"data row0 col3\" >0.755373</td>\n",
              "      <td id=\"T_fc046_row0_col4\" class=\"data row0 col4\" >0.849397</td>\n",
              "    </tr>\n",
              "    <tr>\n",
              "      <th id=\"T_fc046_level0_row1\" class=\"row_heading level0 row1\" >1</th>\n",
              "      <td id=\"T_fc046_row1_col0\" class=\"data row1 col0\" >DT Q1 2020</td>\n",
              "      <td id=\"T_fc046_row1_col1\" class=\"data row1 col1\" >0.646211</td>\n",
              "      <td id=\"T_fc046_row1_col2\" class=\"data row1 col2\" >0.772727</td>\n",
              "      <td id=\"T_fc046_row1_col3\" class=\"data row1 col3\" >0.617717</td>\n",
              "      <td id=\"T_fc046_row1_col4\" class=\"data row1 col4\" >0.841294</td>\n",
              "    </tr>\n",
              "    <tr>\n",
              "      <th id=\"T_fc046_level0_row2\" class=\"row_heading level0 row2\" >2</th>\n",
              "      <td id=\"T_fc046_row2_col0\" class=\"data row2 col0\" >DT Q2 2020</td>\n",
              "      <td id=\"T_fc046_row2_col1\" class=\"data row2 col1\" >0.796999</td>\n",
              "      <td id=\"T_fc046_row2_col2\" class=\"data row2 col2\" >0.872832</td>\n",
              "      <td id=\"T_fc046_row2_col3\" class=\"data row2 col3\" >0.781333</td>\n",
              "      <td id=\"T_fc046_row2_col4\" class=\"data row2 col4\" >0.896769</td>\n",
              "    </tr>\n",
              "    <tr>\n",
              "      <th id=\"T_fc046_level0_row3\" class=\"row_heading level0 row3\" >3</th>\n",
              "      <td id=\"T_fc046_row3_col0\" class=\"data row3 col0\" >DT Q3 2020</td>\n",
              "      <td id=\"T_fc046_row3_col1\" class=\"data row3 col1\" >0.713294</td>\n",
              "      <td id=\"T_fc046_row3_col2\" class=\"data row3 col2\" >0.847145</td>\n",
              "      <td id=\"T_fc046_row3_col3\" class=\"data row3 col3\" >0.712416</td>\n",
              "      <td id=\"T_fc046_row3_col4\" class=\"data row3 col4\" >0.886391</td>\n",
              "    </tr>\n",
              "    <tr>\n",
              "      <th id=\"T_fc046_level0_row4\" class=\"row_heading level0 row4\" >4</th>\n",
              "      <td id=\"T_fc046_row4_col0\" class=\"data row4 col0\" >DT Q4 2020</td>\n",
              "      <td id=\"T_fc046_row4_col1\" class=\"data row4 col1\" >0.700641</td>\n",
              "      <td id=\"T_fc046_row4_col2\" class=\"data row4 col2\" >0.833635</td>\n",
              "      <td id=\"T_fc046_row4_col3\" class=\"data row4 col3\" >0.698689</td>\n",
              "      <td id=\"T_fc046_row4_col4\" class=\"data row4 col4\" >0.868653</td>\n",
              "    </tr>\n",
              "  </tbody>\n",
              "</table>\n"
            ]
          },
          "metadata": {},
          "execution_count": 22
        }
      ]
    },
    {
      "cell_type": "markdown",
      "source": [
        "# Check Logical Consistency - Feature Importance"
      ],
      "metadata": {
        "id": "KYjKgkr09V-r"
      }
    },
    {
      "cell_type": "markdown",
      "source": [
        "## Model Specific Feature Importance"
      ],
      "metadata": {
        "id": "DfAWNqhvIdjP"
      }
    },
    {
      "cell_type": "code",
      "source": [
        "dt_ft = dict(zip(data.columns, clf_dt.feature_importances_))\n",
        "dt_feat_df = pd.DataFrame(dt_ft.items(), columns=['Feature', 'Coef'])\n",
        "top_dt_feat_df = dt_feat_df.sort_values(by='Coef', ascending=False).iloc[:MAX_FEATURE_IMPORTANCE,:]\n",
        "top_dt_feat_df.style.background_gradient(cmap='coolwarm')"
      ],
      "metadata": {
        "colab": {
          "base_uri": "https://localhost:8080/",
          "height": 206
        },
        "id": "8YinxVYoVw_M",
        "outputId": "56b36480-b7a3-4c08-ea61-da30971ab0c5"
      },
      "execution_count": null,
      "outputs": [
        {
          "output_type": "execute_result",
          "data": {
            "text/plain": [
              "<pandas.io.formats.style.Styler at 0x7f3cec5fd640>"
            ],
            "text/html": [
              "<style type=\"text/css\">\n",
              "#T_1e855_row0_col1 {\n",
              "  background-color: #b40426;\n",
              "  color: #f1f1f1;\n",
              "}\n",
              "#T_1e855_row1_col1 {\n",
              "  background-color: #5d7ce6;\n",
              "  color: #f1f1f1;\n",
              "}\n",
              "#T_1e855_row2_col1 {\n",
              "  background-color: #4a63d3;\n",
              "  color: #f1f1f1;\n",
              "}\n",
              "#T_1e855_row3_col1 {\n",
              "  background-color: #445acc;\n",
              "  color: #f1f1f1;\n",
              "}\n",
              "#T_1e855_row4_col1 {\n",
              "  background-color: #3b4cc0;\n",
              "  color: #f1f1f1;\n",
              "}\n",
              "</style>\n",
              "<table id=\"T_1e855\" class=\"dataframe\">\n",
              "  <thead>\n",
              "    <tr>\n",
              "      <th class=\"blank level0\" >&nbsp;</th>\n",
              "      <th id=\"T_1e855_level0_col0\" class=\"col_heading level0 col0\" >Feature</th>\n",
              "      <th id=\"T_1e855_level0_col1\" class=\"col_heading level0 col1\" >Coef</th>\n",
              "    </tr>\n",
              "  </thead>\n",
              "  <tbody>\n",
              "    <tr>\n",
              "      <th id=\"T_1e855_level0_row0\" class=\"row_heading level0 row0\" >13</th>\n",
              "      <td id=\"T_1e855_row0_col0\" class=\"data row0 col0\" >Food-Away</td>\n",
              "      <td id=\"T_1e855_row0_col1\" class=\"data row0 col1\" >0.650373</td>\n",
              "    </tr>\n",
              "    <tr>\n",
              "      <th id=\"T_1e855_level0_row1\" class=\"row_heading level0 row1\" >1</th>\n",
              "      <td id=\"T_1e855_row1_col0\" class=\"data row1 col0\" >Income Before Taxes</td>\n",
              "      <td id=\"T_1e855_row1_col1\" class=\"data row1 col1\" >0.094601</td>\n",
              "    </tr>\n",
              "    <tr>\n",
              "      <th id=\"T_1e855_level0_row2\" class=\"row_heading level0 row2\" >15</th>\n",
              "      <td id=\"T_1e855_row2_col0\" class=\"data row2 col0\" >Food-Total</td>\n",
              "      <td id=\"T_1e855_row2_col1\" class=\"data row2 col1\" >0.058188</td>\n",
              "    </tr>\n",
              "    <tr>\n",
              "      <th id=\"T_1e855_level0_row3\" class=\"row_heading level0 row3\" >14</th>\n",
              "      <td id=\"T_1e855_row3_col0\" class=\"data row3 col0\" >Food-Home</td>\n",
              "      <td id=\"T_1e855_row3_col1\" class=\"data row3 col1\" >0.045146</td>\n",
              "    </tr>\n",
              "    <tr>\n",
              "      <th id=\"T_1e855_level0_row4\" class=\"row_heading level0 row4\" >0</th>\n",
              "      <td id=\"T_1e855_row4_col0\" class=\"data row4 col0\" >Month</td>\n",
              "      <td id=\"T_1e855_row4_col1\" class=\"data row4 col1\" >0.023979</td>\n",
              "    </tr>\n",
              "  </tbody>\n",
              "</table>\n"
            ]
          },
          "metadata": {},
          "execution_count": 23
        }
      ]
    },
    {
      "cell_type": "code",
      "source": [
        "fig, ax = plt.subplots(figsize = (8, 8))\n",
        "sns.barplot(x=top10_dt_feat_df.Coef, y = top_dt_feat_df.Feature, orient='h')\n",
        "plt.show()"
      ],
      "metadata": {
        "colab": {
          "base_uri": "https://localhost:8080/",
          "height": 704
        },
        "id": "4JSpUBAO6PKu",
        "outputId": "54c66fa6-f7b8-4d50-a289-d94bda4e9fb9"
      },
      "execution_count": null,
      "outputs": [
        {
          "output_type": "display_data",
          "data": {
            "text/plain": [
              "<Figure size 800x800 with 1 Axes>"
            ],
            "image/png": "[encoded data removed]"
          },
          "metadata": {}
        }
      ]
    },
    {
      "cell_type": "markdown",
      "source": [
        "## Model Agnostic Feature Importance"
      ],
      "metadata": {
        "id": "H4za30FI3Q1A"
      }
    },
    {
      "cell_type": "code",
      "source": [
        "shapTreeExplainer = shap.TreeExplainer(clf_dt)\n",
        "\n",
        "shap.summary_plot(shapTreeExplainer.shap_values(test),\n",
        "                  test,\n",
        "                  feature_names=test.columns,\n",
        "                  max_display=MAX_FEATURE_IMPORTANCE,\n",
        "                  class_names=['High lead-Food-Away Spending (No = 0)',\n",
        "                               'High lead-Food-Away Spending (Yes = 1)'])"
      ],
      "metadata": {
        "colab": {
          "base_uri": "https://localhost:8080/",
          "height": 351
        },
        "id": "FEtZr2o02ZHH",
        "outputId": "206ad005-cb0d-4645-b893-ca43db767023"
      },
      "execution_count": null,
      "outputs": [
        {
          "output_type": "display_data",
          "data": {
            "text/plain": [
              "<Figure size 800x350 with 1 Axes>"
            ],
            "image/png": "[encoded data removed]"
          },
          "metadata": {}
        }
      ]
    },
    {
      "cell_type": "code",
      "source": [
        "shap.summary_plot(shapTreeExplainer.shap_values(Q1_data),\n",
        "                  Q1_data,\n",
        "                  feature_names=Q1_data.columns,\n",
        "                  max_display=MAX_FEATURE_IMPORTANCE,\n",
        "                  class_names=['High lead-Food-Away Spending (No = 0)',\n",
        "                               'High lead-Food-Away Spending (Yes = 1)'])"
      ],
      "metadata": {
        "colab": {
          "base_uri": "https://localhost:8080/",
          "height": 351
        },
        "id": "5I-xhy7pki9G",
        "outputId": "d94d9aad-6a1a-4d8d-da03-8dd64d117830"
      },
      "execution_count": null,
      "outputs": [
        {
          "output_type": "display_data",
          "data": {
            "text/plain": [
              "<Figure size 800x350 with 1 Axes>"
            ],
            "image/png": "[encoded data removed]"
          },
          "metadata": {}
        }
      ]
    },
    {
      "cell_type": "code",
      "source": [
        "shap.summary_plot(shapTreeExplainer.shap_values(Q2_data),\n",
        "                  Q2_data,\n",
        "                  feature_names=Q2_data.columns,\n",
        "                  max_display=MAX_FEATURE_IMPORTANCE,\n",
        "                  class_names=['High lead-Food-Away Spending (No = 0)',\n",
        "                               'High lead-Food-Away Spending (Yes = 1)'])"
      ],
      "metadata": {
        "colab": {
          "base_uri": "https://localhost:8080/",
          "height": 351
        },
        "id": "VnwFzH752Jmp",
        "outputId": "bc12858e-9aac-4263-ffd4-9622301a5290"
      },
      "execution_count": null,
      "outputs": [
        {
          "output_type": "display_data",
          "data": {
            "text/plain": [
              "<Figure size 800x350 with 1 Axes>"
            ],
            "image/png": "[encoded data removed]"
          },
          "metadata": {}
        }
      ]
    },
    {
      "cell_type": "code",
      "source": [
        "shap.summary_plot(shapTreeExplainer.shap_values(Q4_data),\n",
        "                  Q4_data,\n",
        "                  feature_names=Q4_data.columns,\n",
        "                  max_display=MAX_FEATURE_IMPORTANCE,\n",
        "                  class_names=['High lead-Food-Away Spending (No = 0)',\n",
        "                               'High lead-Food-Away Spending (Yes = 1)'])"
      ],
      "metadata": {
        "colab": {
          "base_uri": "https://localhost:8080/",
          "height": 351
        },
        "id": "andO4uMHlyJe",
        "outputId": "238243ff-f200-4c3d-e7ff-fffcd40414f5"
      },
      "execution_count": null,
      "outputs": [
        {
          "output_type": "display_data",
          "data": {
            "text/plain": [
              "<Figure size 800x350 with 1 Axes>"
            ],
            "image/png": "[encoded data removed]"
          },
          "metadata": {}
        }
      ]
    },
    {
      "cell_type": "markdown",
      "source": [
        "# Top Predictive Feature Drift"
      ],
      "metadata": {
        "id": "NwKriCPFpUZJ"
      }
    },
    {
      "cell_type": "code",
      "source": [
        "sns.set(rc={\"figure.figsize\":(12, 12)})\n",
        "sns.barplot(x = 'Month', y = 'Food-Away', hue = 'Year', data = ces)\n",
        "plt.show()"
      ],
      "metadata": {
        "colab": {
          "base_uri": "https://localhost:8080/",
          "height": 1000
        },
        "id": "SGpzBdoeVP8o",
        "outputId": "dd88a9a9-f137-444d-f852-18abbc5b9d3d"
      },
      "execution_count": null,
      "outputs": [
        {
          "output_type": "display_data",
          "data": {
            "text/plain": [
              "<Figure size 1200x1200 with 1 Axes>"
            ],
            "image/png": "[encoded data removed]"
          },
          "metadata": {}
        }
      ]
    },
    {
      "cell_type": "markdown",
      "source": [
        "### Visualize Quarterly Summaries for all available states"
      ],
      "metadata": {
        "id": "hvrG18rUPTb0"
      }
    },
    {
      "cell_type": "code",
      "source": [
        "# add Quarter column to the data frame\n",
        "ces.insert(loc=3, column='Quarter', value=np.nan)\n",
        "ces['Quarter'] = ces['Month'].apply(lambda x: (x - 1) // 3 + 1)\n",
        "ces.sample(3)"
      ],
      "metadata": {
        "colab": {
          "base_uri": "https://localhost:8080/",
          "height": 389
        },
        "id": "XakVEiA7RFJw",
        "outputId": "558772cd-de3c-46df-be4b-feb30ee12e05"
      },
      "execution_count": null,
      "outputs": [
        {
          "output_type": "execute_result",
          "data": {
            "text/plain": [
              "             Date  Year  Month  Quarter  Income Before Taxes  \\\n",
              "CUID                                                           \n",
              "398862 2018-11-01  2018     11        4               143568   \n",
              "355128 2017-05-01  2017      5        2               115083   \n",
              "427559 2020-03-01  2020      3        1               156294   \n",
              "\n",
              "        Number of Bedrooms  Number of Bathrooms           State Urban  People  \\\n",
              "CUID                                                                            \n",
              "398862               2.000                1.000        New York     1       2   \n",
              "355128               4.000                3.000  South Carolina     1       4   \n",
              "427559               3.000                2.000  South Carolina     1       2   \n",
              "\n",
              "        ...  Retired        Education   Race           Sex  Renter Owner  \\\n",
              "CUID    ...                                                                \n",
              "398862  ...        0        Bachelors  White  Mixed Gender   1.000 0.000   \n",
              "355128  ...        0        Bachelors  White  Mixed Gender   0.000 1.000   \n",
              "427559  ...        0  Graduate Degree  White  Mixed Gender   0.000 1.000   \n",
              "\n",
              "       Food-Away Food-Home Food-Total High lead-Food-Away Spending  \n",
              "CUID                                                                \n",
              "398862   365.069   584.110    949.179                            0  \n",
              "355128 3,148.451 3,337.358  6,485.809                            1  \n",
              "427559 1,774.624 3,563.445  5,338.070                            1  \n",
              "\n",
              "[3 rows x 24 columns]"
            ],
            "text/html": [
              "\n",
              "  <div id=\"df-0f62337d-3e2b-4d62-bd31-5956a1499086\">\n",
              "    <div class=\"colab-df-container\">\n",
              "      <div>\n",
              "<style scoped>\n",
              "    .dataframe tbody tr th:only-of-type {\n",
              "        vertical-align: middle;\n",
              "    }\n",
              "\n",
              "    .dataframe tbody tr th {\n",
              "        vertical-align: top;\n",
              "    }\n",
              "\n",
              "    .dataframe thead th {\n",
              "        text-align: right;\n",
              "    }\n",
              "</style>\n",
              "<table border=\"1\" class=\"dataframe\">\n",
              "  <thead>\n",
              "    <tr style=\"text-align: right;\">\n",
              "      <th></th>\n",
              "      <th>Date</th>\n",
              "      <th>Year</th>\n",
              "      <th>Month</th>\n",
              "      <th>Quarter</th>\n",
              "      <th>Income Before Taxes</th>\n",
              "      <th>Number of Bedrooms</th>\n",
              "      <th>Number of Bathrooms</th>\n",
              "      <th>State</th>\n",
              "      <th>Urban</th>\n",
              "      <th>People</th>\n",
              "      <th>...</th>\n",
              "      <th>Retired</th>\n",
              "      <th>Education</th>\n",
              "      <th>Race</th>\n",
              "      <th>Sex</th>\n",
              "      <th>Renter</th>\n",
              "      <th>Owner</th>\n",
              "      <th>Food-Away</th>\n",
              "      <th>Food-Home</th>\n",
              "      <th>Food-Total</th>\n",
              "      <th>High lead-Food-Away Spending</th>\n",
              "    </tr>\n",
              "    <tr>\n",
              "      <th>CUID</th>\n",
              "      <th></th>\n",
              "      <th></th>\n",
              "      <th></th>\n",
              "      <th></th>\n",
              "      <th></th>\n",
              "      <th></th>\n",
              "      <th></th>\n",
              "      <th></th>\n",
              "      <th></th>\n",
              "      <th></th>\n",
              "      <th></th>\n",
              "      <th></th>\n",
              "      <th></th>\n",
              "      <th></th>\n",
              "      <th></th>\n",
              "      <th></th>\n",
              "      <th></th>\n",
              "      <th></th>\n",
              "      <th></th>\n",
              "      <th></th>\n",
              "      <th></th>\n",
              "    </tr>\n",
              "  </thead>\n",
              "  <tbody>\n",
              "    <tr>\n",
              "      <th>398862</th>\n",
              "      <td>2018-11-01</td>\n",
              "      <td>2018</td>\n",
              "      <td>11</td>\n",
              "      <td>4</td>\n",
              "      <td>143568</td>\n",
              "      <td>2.000</td>\n",
              "      <td>1.000</td>\n",
              "      <td>New York</td>\n",
              "      <td>1</td>\n",
              "      <td>2</td>\n",
              "      <td>...</td>\n",
              "      <td>0</td>\n",
              "      <td>Bachelors</td>\n",
              "      <td>White</td>\n",
              "      <td>Mixed Gender</td>\n",
              "      <td>1.000</td>\n",
              "      <td>0.000</td>\n",
              "      <td>365.069</td>\n",
              "      <td>584.110</td>\n",
              "      <td>949.179</td>\n",
              "      <td>0</td>\n",
              "    </tr>\n",
              "    <tr>\n",
              "      <th>355128</th>\n",
              "      <td>2017-05-01</td>\n",
              "      <td>2017</td>\n",
              "      <td>5</td>\n",
              "      <td>2</td>\n",
              "      <td>115083</td>\n",
              "      <td>4.000</td>\n",
              "      <td>3.000</td>\n",
              "      <td>South Carolina</td>\n",
              "      <td>1</td>\n",
              "      <td>4</td>\n",
              "      <td>...</td>\n",
              "      <td>0</td>\n",
              "      <td>Bachelors</td>\n",
              "      <td>White</td>\n",
              "      <td>Mixed Gender</td>\n",
              "      <td>0.000</td>\n",
              "      <td>1.000</td>\n",
              "      <td>3,148.451</td>\n",
              "      <td>3,337.358</td>\n",
              "      <td>6,485.809</td>\n",
              "      <td>1</td>\n",
              "    </tr>\n",
              "    <tr>\n",
              "      <th>427559</th>\n",
              "      <td>2020-03-01</td>\n",
              "      <td>2020</td>\n",
              "      <td>3</td>\n",
              "      <td>1</td>\n",
              "      <td>156294</td>\n",
              "      <td>3.000</td>\n",
              "      <td>2.000</td>\n",
              "      <td>South Carolina</td>\n",
              "      <td>1</td>\n",
              "      <td>2</td>\n",
              "      <td>...</td>\n",
              "      <td>0</td>\n",
              "      <td>Graduate Degree</td>\n",
              "      <td>White</td>\n",
              "      <td>Mixed Gender</td>\n",
              "      <td>0.000</td>\n",
              "      <td>1.000</td>\n",
              "      <td>1,774.624</td>\n",
              "      <td>3,563.445</td>\n",
              "      <td>5,338.070</td>\n",
              "      <td>1</td>\n",
              "    </tr>\n",
              "  </tbody>\n",
              "</table>\n",
              "<p>3 rows × 24 columns</p>\n",
              "</div>\n",
              "      <button class=\"colab-df-convert\" onclick=\"convertToInteractive('df-0f62337d-3e2b-4d62-bd31-5956a1499086')\"\n",
              "              title=\"Convert this dataframe to an interactive table.\"\n",
              "              style=\"display:none;\">\n",
              "        \n",
              "  <svg xmlns=\"http://www.w3.org/2000/svg\" height=\"24px\"viewBox=\"0 0 24 24\"\n",
              "       width=\"24px\">\n",
              "    <path d=\"M0 0h24v24H0V0z\" fill=\"none\"/>\n",
              "    <path d=\"M18.56 5.44l.94 2.06.94-2.06 2.06-.94-2.06-.94-.94-2.06-.94 2.06-2.06.94zm-11 1L8.5 8.5l.94-2.06 2.06-.94-2.06-.94L8.5 2.5l-.94 2.06-2.06.94zm10 10l.94 2.06.94-2.06 2.06-.94-2.06-.94-.94-2.06-.94 2.06-2.06.94z\"/><path d=\"M17.41 7.96l-1.37-1.37c-.4-.4-.92-.59-1.43-.59-.52 0-1.04.2-1.43.59L10.3 9.45l-7.72 7.72c-.78.78-.78 2.05 0 2.83L4 21.41c.39.39.9.59 1.41.59.51 0 1.02-.2 1.41-.59l7.78-7.78 2.81-2.81c.8-.78.8-2.07 0-2.86zM5.41 20L4 18.59l7.72-7.72 1.47 1.35L5.41 20z\"/>\n",
              "  </svg>\n",
              "      </button>\n",
              "      \n",
              "  <style>\n",
              "    .colab-df-container {\n",
              "      display:flex;\n",
              "      flex-wrap:wrap;\n",
              "      gap: 12px;\n",
              "    }\n",
              "\n",
              "    .colab-df-convert {\n",
              "      background-color: #E8F0FE;\n",
              "      border: none;\n",
              "      border-radius: 50%;\n",
              "      cursor: pointer;\n",
              "      display: none;\n",
              "      fill: #1967D2;\n",
              "      height: 32px;\n",
              "      padding: 0 0 0 0;\n",
              "      width: 32px;\n",
              "    }\n",
              "\n",
              "    .colab-df-convert:hover {\n",
              "      background-color: #E2EBFA;\n",
              "      box-shadow: 0px 1px 2px rgba(60, 64, 67, 0.3), 0px 1px 3px 1px rgba(60, 64, 67, 0.15);\n",
              "      fill: #174EA6;\n",
              "    }\n",
              "\n",
              "    [theme=dark] .colab-df-convert {\n",
              "      background-color: #3B4455;\n",
              "      fill: #D2E3FC;\n",
              "    }\n",
              "\n",
              "    [theme=dark] .colab-df-convert:hover {\n",
              "      background-color: #434B5C;\n",
              "      box-shadow: 0px 1px 3px 1px rgba(0, 0, 0, 0.15);\n",
              "      filter: drop-shadow(0px 1px 2px rgba(0, 0, 0, 0.3));\n",
              "      fill: #FFFFFF;\n",
              "    }\n",
              "  </style>\n",
              "\n",
              "      <script>\n",
              "        const buttonEl =\n",
              "          document.querySelector('#df-0f62337d-3e2b-4d62-bd31-5956a1499086 button.colab-df-convert');\n",
              "        buttonEl.style.display =\n",
              "          google.colab.kernel.accessAllowed ? 'block' : 'none';\n",
              "\n",
              "        async function convertToInteractive(key) {\n",
              "          const element = document.querySelector('#df-0f62337d-3e2b-4d62-bd31-5956a1499086');\n",
              "          const dataTable =\n",
              "            await google.colab.kernel.invokeFunction('convertToInteractive',\n",
              "                                                     [key], {});\n",
              "          if (!dataTable) return;\n",
              "\n",
              "          const docLinkHtml = 'Like what you see? Visit the ' +\n",
              "            '<a target=\"_blank\" href=https://colab.research.google.com/notebooks/data_table.ipynb>data table notebook</a>'\n",
              "            + ' to learn more about interactive tables.';\n",
              "          element.innerHTML = '';\n",
              "          dataTable['output_type'] = 'display_data';\n",
              "          await google.colab.output.renderOutput(dataTable, element);\n",
              "          const docLink = document.createElement('div');\n",
              "          docLink.innerHTML = docLinkHtml;\n",
              "          element.appendChild(docLink);\n",
              "        }\n",
              "      </script>\n",
              "    </div>\n",
              "  </div>\n",
              "  "
            ]
          },
          "metadata": {},
          "execution_count": 179
        }
      ]
    },
    {
      "cell_type": "code",
      "source": [
        "ces_qtly = ces.groupby([\"Year\", \"Quarter\"])[\"Food-Away\",\n",
        "                                            \"Food-Home\",\n",
        "                                            \"Food-Total\",\n",
        "                                            \"High lead-Food-Away Spending\"].sum()\n",
        "ces_qtly"
      ],
      "metadata": {
        "colab": {
          "base_uri": "https://localhost:8080/",
          "height": 600
        },
        "id": "JjrWaiGRPbHG",
        "outputId": "308fc2af-3d9d-478d-a6c3-a29a853371be"
      },
      "execution_count": null,
      "outputs": [
        {
          "output_type": "stream",
          "name": "stderr",
          "text": [
            "Indexing with multiple keys (implicitly converted to a tuple of keys) will be deprecated, use a list instead.\n"
          ]
        },
        {
          "output_type": "execute_result",
          "data": {
            "text/plain": [
              "               Food-Away   Food-Home    Food-Total\n",
              "Year Quarter                                      \n",
              "2017 1       459,851.370 936,148.968 1,396,000.338\n",
              "     2       456,421.335 937,805.901 1,394,227.235\n",
              "     3       487,253.842 901,349.812 1,388,603.655\n",
              "     4       484,434.239 882,863.461 1,367,297.700\n",
              "2018 1       474,380.669 876,445.658 1,350,826.327\n",
              "     2       459,031.065 928,724.215 1,387,755.280\n",
              "     3       492,432.049 824,458.293 1,316,890.343\n",
              "     4       499,831.035 937,409.996 1,437,241.031\n",
              "2019 1       458,330.696 877,642.185 1,335,972.881\n",
              "     2       453,516.387 855,714.791 1,309,231.179\n",
              "     3       472,858.730 853,880.120 1,326,738.850\n",
              "     4       534,406.690 916,269.180 1,450,675.870\n",
              "2020 1       450,281.764 915,647.759 1,365,929.523\n",
              "     2       277,018.971 974,380.963 1,251,399.934\n",
              "     3       365,744.502 971,213.854 1,336,958.356\n",
              "     4       263,202.022 670,371.836   933,573.858"
            ],
            "text/html": [
              "\n",
              "  <div id=\"df-69e6e53a-5a64-4149-8cae-ed69b6c0ddf2\">\n",
              "    <div class=\"colab-df-container\">\n",
              "      <div>\n",
              "<style scoped>\n",
              "    .dataframe tbody tr th:only-of-type {\n",
              "        vertical-align: middle;\n",
              "    }\n",
              "\n",
              "    .dataframe tbody tr th {\n",
              "        vertical-align: top;\n",
              "    }\n",
              "\n",
              "    .dataframe thead th {\n",
              "        text-align: right;\n",
              "    }\n",
              "</style>\n",
              "<table border=\"1\" class=\"dataframe\">\n",
              "  <thead>\n",
              "    <tr style=\"text-align: right;\">\n",
              "      <th></th>\n",
              "      <th></th>\n",
              "      <th>Food-Away</th>\n",
              "      <th>Food-Home</th>\n",
              "      <th>Food-Total</th>\n",
              "    </tr>\n",
              "    <tr>\n",
              "      <th>Year</th>\n",
              "      <th>Quarter</th>\n",
              "      <th></th>\n",
              "      <th></th>\n",
              "      <th></th>\n",
              "    </tr>\n",
              "  </thead>\n",
              "  <tbody>\n",
              "    <tr>\n",
              "      <th rowspan=\"4\" valign=\"top\">2017</th>\n",
              "      <th>1</th>\n",
              "      <td>459,851.370</td>\n",
              "      <td>936,148.968</td>\n",
              "      <td>1,396,000.338</td>\n",
              "    </tr>\n",
              "    <tr>\n",
              "      <th>2</th>\n",
              "      <td>456,421.335</td>\n",
              "      <td>937,805.901</td>\n",
              "      <td>1,394,227.235</td>\n",
              "    </tr>\n",
              "    <tr>\n",
              "      <th>3</th>\n",
              "      <td>487,253.842</td>\n",
              "      <td>901,349.812</td>\n",
              "      <td>1,388,603.655</td>\n",
              "    </tr>\n",
              "    <tr>\n",
              "      <th>4</th>\n",
              "      <td>484,434.239</td>\n",
              "      <td>882,863.461</td>\n",
              "      <td>1,367,297.700</td>\n",
              "    </tr>\n",
              "    <tr>\n",
              "      <th rowspan=\"4\" valign=\"top\">2018</th>\n",
              "      <th>1</th>\n",
              "      <td>474,380.669</td>\n",
              "      <td>876,445.658</td>\n",
              "      <td>1,350,826.327</td>\n",
              "    </tr>\n",
              "    <tr>\n",
              "      <th>2</th>\n",
              "      <td>459,031.065</td>\n",
              "      <td>928,724.215</td>\n",
              "      <td>1,387,755.280</td>\n",
              "    </tr>\n",
              "    <tr>\n",
              "      <th>3</th>\n",
              "      <td>492,432.049</td>\n",
              "      <td>824,458.293</td>\n",
              "      <td>1,316,890.343</td>\n",
              "    </tr>\n",
              "    <tr>\n",
              "      <th>4</th>\n",
              "      <td>499,831.035</td>\n",
              "      <td>937,409.996</td>\n",
              "      <td>1,437,241.031</td>\n",
              "    </tr>\n",
              "    <tr>\n",
              "      <th rowspan=\"4\" valign=\"top\">2019</th>\n",
              "      <th>1</th>\n",
              "      <td>458,330.696</td>\n",
              "      <td>877,642.185</td>\n",
              "      <td>1,335,972.881</td>\n",
              "    </tr>\n",
              "    <tr>\n",
              "      <th>2</th>\n",
              "      <td>453,516.387</td>\n",
              "      <td>855,714.791</td>\n",
              "      <td>1,309,231.179</td>\n",
              "    </tr>\n",
              "    <tr>\n",
              "      <th>3</th>\n",
              "      <td>472,858.730</td>\n",
              "      <td>853,880.120</td>\n",
              "      <td>1,326,738.850</td>\n",
              "    </tr>\n",
              "    <tr>\n",
              "      <th>4</th>\n",
              "      <td>534,406.690</td>\n",
              "      <td>916,269.180</td>\n",
              "      <td>1,450,675.870</td>\n",
              "    </tr>\n",
              "    <tr>\n",
              "      <th rowspan=\"4\" valign=\"top\">2020</th>\n",
              "      <th>1</th>\n",
              "      <td>450,281.764</td>\n",
              "      <td>915,647.759</td>\n",
              "      <td>1,365,929.523</td>\n",
              "    </tr>\n",
              "    <tr>\n",
              "      <th>2</th>\n",
              "      <td>277,018.971</td>\n",
              "      <td>974,380.963</td>\n",
              "      <td>1,251,399.934</td>\n",
              "    </tr>\n",
              "    <tr>\n",
              "      <th>3</th>\n",
              "      <td>365,744.502</td>\n",
              "      <td>971,213.854</td>\n",
              "      <td>1,336,958.356</td>\n",
              "    </tr>\n",
              "    <tr>\n",
              "      <th>4</th>\n",
              "      <td>263,202.022</td>\n",
              "      <td>670,371.836</td>\n",
              "      <td>933,573.858</td>\n",
              "    </tr>\n",
              "  </tbody>\n",
              "</table>\n",
              "</div>\n",
              "      <button class=\"colab-df-convert\" onclick=\"convertToInteractive('df-69e6e53a-5a64-4149-8cae-ed69b6c0ddf2')\"\n",
              "              title=\"Convert this dataframe to an interactive table.\"\n",
              "              style=\"display:none;\">\n",
              "        \n",
              "  <svg xmlns=\"http://www.w3.org/2000/svg\" height=\"24px\"viewBox=\"0 0 24 24\"\n",
              "       width=\"24px\">\n",
              "    <path d=\"M0 0h24v24H0V0z\" fill=\"none\"/>\n",
              "    <path d=\"M18.56 5.44l.94 2.06.94-2.06 2.06-.94-2.06-.94-.94-2.06-.94 2.06-2.06.94zm-11 1L8.5 8.5l.94-2.06 2.06-.94-2.06-.94L8.5 2.5l-.94 2.06-2.06.94zm10 10l.94 2.06.94-2.06 2.06-.94-2.06-.94-.94-2.06-.94 2.06-2.06.94z\"/><path d=\"M17.41 7.96l-1.37-1.37c-.4-.4-.92-.59-1.43-.59-.52 0-1.04.2-1.43.59L10.3 9.45l-7.72 7.72c-.78.78-.78 2.05 0 2.83L4 21.41c.39.39.9.59 1.41.59.51 0 1.02-.2 1.41-.59l7.78-7.78 2.81-2.81c.8-.78.8-2.07 0-2.86zM5.41 20L4 18.59l7.72-7.72 1.47 1.35L5.41 20z\"/>\n",
              "  </svg>\n",
              "      </button>\n",
              "      \n",
              "  <style>\n",
              "    .colab-df-container {\n",
              "      display:flex;\n",
              "      flex-wrap:wrap;\n",
              "      gap: 12px;\n",
              "    }\n",
              "\n",
              "    .colab-df-convert {\n",
              "      background-color: #E8F0FE;\n",
              "      border: none;\n",
              "      border-radius: 50%;\n",
              "      cursor: pointer;\n",
              "      display: none;\n",
              "      fill: #1967D2;\n",
              "      height: 32px;\n",
              "      padding: 0 0 0 0;\n",
              "      width: 32px;\n",
              "    }\n",
              "\n",
              "    .colab-df-convert:hover {\n",
              "      background-color: #E2EBFA;\n",
              "      box-shadow: 0px 1px 2px rgba(60, 64, 67, 0.3), 0px 1px 3px 1px rgba(60, 64, 67, 0.15);\n",
              "      fill: #174EA6;\n",
              "    }\n",
              "\n",
              "    [theme=dark] .colab-df-convert {\n",
              "      background-color: #3B4455;\n",
              "      fill: #D2E3FC;\n",
              "    }\n",
              "\n",
              "    [theme=dark] .colab-df-convert:hover {\n",
              "      background-color: #434B5C;\n",
              "      box-shadow: 0px 1px 3px 1px rgba(0, 0, 0, 0.15);\n",
              "      filter: drop-shadow(0px 1px 2px rgba(0, 0, 0, 0.3));\n",
              "      fill: #FFFFFF;\n",
              "    }\n",
              "  </style>\n",
              "\n",
              "      <script>\n",
              "        const buttonEl =\n",
              "          document.querySelector('#df-69e6e53a-5a64-4149-8cae-ed69b6c0ddf2 button.colab-df-convert');\n",
              "        buttonEl.style.display =\n",
              "          google.colab.kernel.accessAllowed ? 'block' : 'none';\n",
              "\n",
              "        async function convertToInteractive(key) {\n",
              "          const element = document.querySelector('#df-69e6e53a-5a64-4149-8cae-ed69b6c0ddf2');\n",
              "          const dataTable =\n",
              "            await google.colab.kernel.invokeFunction('convertToInteractive',\n",
              "                                                     [key], {});\n",
              "          if (!dataTable) return;\n",
              "\n",
              "          const docLinkHtml = 'Like what you see? Visit the ' +\n",
              "            '<a target=\"_blank\" href=https://colab.research.google.com/notebooks/data_table.ipynb>data table notebook</a>'\n",
              "            + ' to learn more about interactive tables.';\n",
              "          element.innerHTML = '';\n",
              "          dataTable['output_type'] = 'display_data';\n",
              "          await google.colab.output.renderOutput(dataTable, element);\n",
              "          const docLink = document.createElement('div');\n",
              "          docLink.innerHTML = docLinkHtml;\n",
              "          element.appendChild(docLink);\n",
              "        }\n",
              "      </script>\n",
              "    </div>\n",
              "  </div>\n",
              "  "
            ]
          },
          "metadata": {},
          "execution_count": 180
        }
      ]
    },
    {
      "cell_type": "code",
      "source": [
        "ces_qtly = ces_qtly.reset_index()\n",
        "ces_qtly.sample(3)"
      ],
      "metadata": {
        "colab": {
          "base_uri": "https://localhost:8080/",
          "height": 143
        },
        "id": "vm5yKsdqPm-1",
        "outputId": "8a7d4ac9-56a4-4f1a-b0a3-f8ec471533c7"
      },
      "execution_count": null,
      "outputs": [
        {
          "output_type": "execute_result",
          "data": {
            "text/plain": [
              "    Year  Quarter   Food-Away   Food-Home    Food-Total\n",
              "5   2018        2 459,031.065 928,724.215 1,387,755.280\n",
              "3   2017        4 484,434.239 882,863.461 1,367,297.700\n",
              "14  2020        3 365,744.502 971,213.854 1,336,958.356"
            ],
            "text/html": [
              "\n",
              "  <div id=\"df-f84365ad-2098-4c28-b6a1-2ddb4a769ad7\">\n",
              "    <div class=\"colab-df-container\">\n",
              "      <div>\n",
              "<style scoped>\n",
              "    .dataframe tbody tr th:only-of-type {\n",
              "        vertical-align: middle;\n",
              "    }\n",
              "\n",
              "    .dataframe tbody tr th {\n",
              "        vertical-align: top;\n",
              "    }\n",
              "\n",
              "    .dataframe thead th {\n",
              "        text-align: right;\n",
              "    }\n",
              "</style>\n",
              "<table border=\"1\" class=\"dataframe\">\n",
              "  <thead>\n",
              "    <tr style=\"text-align: right;\">\n",
              "      <th></th>\n",
              "      <th>Year</th>\n",
              "      <th>Quarter</th>\n",
              "      <th>Food-Away</th>\n",
              "      <th>Food-Home</th>\n",
              "      <th>Food-Total</th>\n",
              "    </tr>\n",
              "  </thead>\n",
              "  <tbody>\n",
              "    <tr>\n",
              "      <th>5</th>\n",
              "      <td>2018</td>\n",
              "      <td>2</td>\n",
              "      <td>459,031.065</td>\n",
              "      <td>928,724.215</td>\n",
              "      <td>1,387,755.280</td>\n",
              "    </tr>\n",
              "    <tr>\n",
              "      <th>3</th>\n",
              "      <td>2017</td>\n",
              "      <td>4</td>\n",
              "      <td>484,434.239</td>\n",
              "      <td>882,863.461</td>\n",
              "      <td>1,367,297.700</td>\n",
              "    </tr>\n",
              "    <tr>\n",
              "      <th>14</th>\n",
              "      <td>2020</td>\n",
              "      <td>3</td>\n",
              "      <td>365,744.502</td>\n",
              "      <td>971,213.854</td>\n",
              "      <td>1,336,958.356</td>\n",
              "    </tr>\n",
              "  </tbody>\n",
              "</table>\n",
              "</div>\n",
              "      <button class=\"colab-df-convert\" onclick=\"convertToInteractive('df-f84365ad-2098-4c28-b6a1-2ddb4a769ad7')\"\n",
              "              title=\"Convert this dataframe to an interactive table.\"\n",
              "              style=\"display:none;\">\n",
              "        \n",
              "  <svg xmlns=\"http://www.w3.org/2000/svg\" height=\"24px\"viewBox=\"0 0 24 24\"\n",
              "       width=\"24px\">\n",
              "    <path d=\"M0 0h24v24H0V0z\" fill=\"none\"/>\n",
              "    <path d=\"M18.56 5.44l.94 2.06.94-2.06 2.06-.94-2.06-.94-.94-2.06-.94 2.06-2.06.94zm-11 1L8.5 8.5l.94-2.06 2.06-.94-2.06-.94L8.5 2.5l-.94 2.06-2.06.94zm10 10l.94 2.06.94-2.06 2.06-.94-2.06-.94-.94-2.06-.94 2.06-2.06.94z\"/><path d=\"M17.41 7.96l-1.37-1.37c-.4-.4-.92-.59-1.43-.59-.52 0-1.04.2-1.43.59L10.3 9.45l-7.72 7.72c-.78.78-.78 2.05 0 2.83L4 21.41c.39.39.9.59 1.41.59.51 0 1.02-.2 1.41-.59l7.78-7.78 2.81-2.81c.8-.78.8-2.07 0-2.86zM5.41 20L4 18.59l7.72-7.72 1.47 1.35L5.41 20z\"/>\n",
              "  </svg>\n",
              "      </button>\n",
              "      \n",
              "  <style>\n",
              "    .colab-df-container {\n",
              "      display:flex;\n",
              "      flex-wrap:wrap;\n",
              "      gap: 12px;\n",
              "    }\n",
              "\n",
              "    .colab-df-convert {\n",
              "      background-color: #E8F0FE;\n",
              "      border: none;\n",
              "      border-radius: 50%;\n",
              "      cursor: pointer;\n",
              "      display: none;\n",
              "      fill: #1967D2;\n",
              "      height: 32px;\n",
              "      padding: 0 0 0 0;\n",
              "      width: 32px;\n",
              "    }\n",
              "\n",
              "    .colab-df-convert:hover {\n",
              "      background-color: #E2EBFA;\n",
              "      box-shadow: 0px 1px 2px rgba(60, 64, 67, 0.3), 0px 1px 3px 1px rgba(60, 64, 67, 0.15);\n",
              "      fill: #174EA6;\n",
              "    }\n",
              "\n",
              "    [theme=dark] .colab-df-convert {\n",
              "      background-color: #3B4455;\n",
              "      fill: #D2E3FC;\n",
              "    }\n",
              "\n",
              "    [theme=dark] .colab-df-convert:hover {\n",
              "      background-color: #434B5C;\n",
              "      box-shadow: 0px 1px 3px 1px rgba(0, 0, 0, 0.15);\n",
              "      filter: drop-shadow(0px 1px 2px rgba(0, 0, 0, 0.3));\n",
              "      fill: #FFFFFF;\n",
              "    }\n",
              "  </style>\n",
              "\n",
              "      <script>\n",
              "        const buttonEl =\n",
              "          document.querySelector('#df-f84365ad-2098-4c28-b6a1-2ddb4a769ad7 button.colab-df-convert');\n",
              "        buttonEl.style.display =\n",
              "          google.colab.kernel.accessAllowed ? 'block' : 'none';\n",
              "\n",
              "        async function convertToInteractive(key) {\n",
              "          const element = document.querySelector('#df-f84365ad-2098-4c28-b6a1-2ddb4a769ad7');\n",
              "          const dataTable =\n",
              "            await google.colab.kernel.invokeFunction('convertToInteractive',\n",
              "                                                     [key], {});\n",
              "          if (!dataTable) return;\n",
              "\n",
              "          const docLinkHtml = 'Like what you see? Visit the ' +\n",
              "            '<a target=\"_blank\" href=https://colab.research.google.com/notebooks/data_table.ipynb>data table notebook</a>'\n",
              "            + ' to learn more about interactive tables.';\n",
              "          element.innerHTML = '';\n",
              "          dataTable['output_type'] = 'display_data';\n",
              "          await google.colab.output.renderOutput(dataTable, element);\n",
              "          const docLink = document.createElement('div');\n",
              "          docLink.innerHTML = docLinkHtml;\n",
              "          element.appendChild(docLink);\n",
              "        }\n",
              "      </script>\n",
              "    </div>\n",
              "  </div>\n",
              "  "
            ]
          },
          "metadata": {},
          "execution_count": 181
        }
      ]
    },
    {
      "cell_type": "code",
      "source": [
        "fig, ax = plt.subplots(figsize = (12, 12))\n",
        "ax.set_title('Quarterly Food Away Spending Summaries - All States')\n",
        "\n",
        "sns.barplot(x = 'Quarter', y = 'Food-Away',\n",
        "            hue = 'Year',\n",
        "            data = ces_qtly)\n",
        "fig.show()"
      ],
      "metadata": {
        "colab": {
          "base_uri": "https://localhost:8080/",
          "height": 1000
        },
        "id": "nHLGUnuBPzdM",
        "outputId": "a587ef2b-605f-4c09-cb5a-fab3943b9075"
      },
      "execution_count": null,
      "outputs": [
        {
          "output_type": "display_data",
          "data": {
            "text/plain": [
              "<Figure size 1200x1200 with 1 Axes>"
            ],
            "image/png": "[encoded data removed]"
          },
          "metadata": {}
        }
      ]
    }
  ]
}