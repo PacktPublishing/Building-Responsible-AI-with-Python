{
  "cells": [
    {
      "cell_type": "markdown",
      "source": [
        "# CHAPTER 5: _Measuring Group Fairness_"
      ],
      "metadata": {
        "id": "TF0V3ZaYpmkE"
      }
    },
    {
      "cell_type": "markdown",
      "source": [
        "## The Preparations"
      ],
      "metadata": {
        "id": "P9PyrszVq2GC"
      }
    },
    {
      "cell_type": "markdown",
      "source": [
        "### Installing the Libraries"
      ],
      "metadata": {
        "id": "VEQJ62eEzZ4b"
      }
    },
    {
      "cell_type": "code",
      "source": [
        "%%capture\n",
        "!pip install aequitas\n",
        "!pip install solas-ai\n",
        "!pip install 'aif360[inFairness]'\n",
        "!pip install 'aif360[OptimalTransport]'"
      ],
      "metadata": {
        "id": "BI82ARlxzdCS"
      },
      "execution_count": 1,
      "outputs": []
    },
    {
      "cell_type": "markdown",
      "source": [
        "### Loading the Libraries"
      ],
      "metadata": {
        "id": "AJop5fzLrDuL"
      }
    },
    {
      "cell_type": "code",
      "source": [
        "import pandas as pd\n",
        "import numpy as np\n",
        "\n",
        "import xgboost as xgb\n",
        "\n",
        "from sklearn import metrics as sklearn_metrics\n",
        "from aif360.sklearn import metrics as aif_metrics\n",
        "\n",
        "from scipy.stats import ttest_ind\n",
        "from scipy.stats import describe\n",
        "\n",
        "from statsmodels.api import Logit\n",
        "from statsmodels.api import OLS\n",
        "\n",
        "from aequitas.group import Group\n",
        "from aequitas.bias import Bias\n",
        "from aequitas.fairness import Fairness\n",
        "from aequitas.plotting import Plot\n",
        "\n",
        "import aequitas.plot as ap\n",
        "\n",
        "import solas_disparity as sd"
      ],
      "metadata": {
        "id": "alJikGfqrGnU",
        "colab": {
          "base_uri": "https://localhost:8080/"
        },
        "outputId": "74544cec-2328-4dac-d499-66f6b82a0fe6"
      },
      "execution_count": 2,
      "outputs": [
        {
          "output_type": "stream",
          "name": "stderr",
          "text": [
            "/usr/local/lib/python3.10/dist-packages/inFairness/utils/ndcg.py:37: FutureWarning: We've integrated functorch into PyTorch. As the final step of the integration, `functorch.vmap` is deprecated as of PyTorch 2.0 and will be deleted in a future version of PyTorch >= 2.3. Please use `torch.vmap` instead; see the PyTorch 2.0 release notes and/or the `torch.func` migration guide for more details https://pytorch.org/docs/main/func.migrating.html\n",
            "  vect_normalized_discounted_cumulative_gain = vmap(\n",
            "/usr/local/lib/python3.10/dist-packages/inFairness/utils/ndcg.py:48: FutureWarning: We've integrated functorch into PyTorch. As the final step of the integration, `functorch.vmap` is deprecated as of PyTorch 2.0 and will be deleted in a future version of PyTorch >= 2.3. Please use `torch.vmap` instead; see the PyTorch 2.0 release notes and/or the `torch.func` migration guide for more details https://pytorch.org/docs/main/func.migrating.html\n",
            "  monte_carlo_vect_ndcg = vmap(vect_normalized_discounted_cumulative_gain, in_dims=(0,))\n"
          ]
        }
      ]
    },
    {
      "cell_type": "markdown",
      "source": [
        "## Importing and Preparing the Data"
      ],
      "metadata": {
        "id": "bY4tmXdrzlow"
      }
    },
    {
      "cell_type": "code",
      "execution_count": 3,
      "metadata": {
        "pycharm": {
          "name": "#%%\n"
        },
        "id": "sBdW5xHzpjA_"
      },
      "outputs": [],
      "source": [
        "url = 'https://raw.githubusercontent.com/PacktPublishing/Building-Responsible-AI-with-Python/main/data/hmda.csv'\n",
        "df = pd.read_csv(url, index_col=0)\n",
        "\n",
        "label = 'low_priced'\n",
        "features = [\n",
        "    'loan_amount', 'loan_to_value_ratio', 'no_intro_rate_period', 'intro_rate_period',\n",
        "    'property_value', 'income', 'debt_to_income_ratio', 'term_360', 'conforming',\n",
        "    'state_target_encoded', 'product_type_conventional', 'product_type_fha',\n",
        "    'product_type_fsa_rhs', 'product_type_va'\n",
        "]"
      ]
    },
    {
      "cell_type": "markdown",
      "metadata": {
        "pycharm": {
          "name": "#%% md\n"
        },
        "id": "o-nMMt3gpjA_"
      },
      "source": [
        "Below, we will split the data into a training set and a validation set using the `train` variable.  In this example, we use a relatively simple XGBoost gradient boosting machine algorithm to predict whether loans will be `low_priced`.  After building the model, we calculate predicted probabilities on the training and validation sets and then calculate the ROC-AUC statistics.  We see that the training and validation AUC values are quite high - over 0.90.  The percentage drop in the validation AUC relative to the training AUC is about 1.6%, small enough to indicate that the model is likely not overfitting the data."
      ]
    },
    {
      "cell_type": "code",
      "execution_count": 4,
      "metadata": {
        "pycharm": {
          "name": "#%%\n"
        },
        "id": "pW0T6tOrpjA_",
        "outputId": "d759f706-cbf6-48b1-d524-293411ad61f9",
        "colab": {
          "base_uri": "https://localhost:8080/"
        }
      },
      "outputs": [
        {
          "output_type": "stream",
          "name": "stdout",
          "text": [
            "Number of Observations: Training: 240,510; Validation: 59,490\n"
          ]
        }
      ],
      "source": [
        "train = df.loc[df['train'] == 'train', :].copy()\n",
        "valid = df.loc[df['train'] != 'train', :].copy()\n",
        "print(f\"Number of Observations: Training: {train.shape[0]:,.0f}; Validation: {valid.shape[0]:,.0f}\")"
      ]
    },
    {
      "cell_type": "code",
      "execution_count": 5,
      "metadata": {
        "pycharm": {
          "name": "#%%\n"
        },
        "id": "_IeuMWFEpjA_"
      },
      "outputs": [],
      "source": [
        "params = {\n",
        "    'n_estimators': 100,\n",
        "    'eval_metric': 'auc',\n",
        "    'random_state': 31415,\n",
        "}\n",
        "\n",
        "xgb_model = xgb.XGBClassifier(**params).fit(X=train[features], y=train[label])\n",
        "train['predictions'] = xgb_model.predict_proba(X=train[features])[:, 1]\n",
        "valid['predictions'] = xgb_model.predict_proba(X=valid[features])[:, 1]"
      ]
    },
    {
      "cell_type": "code",
      "execution_count": 6,
      "metadata": {
        "pycharm": {
          "name": "#%%\n"
        },
        "id": "7yNarnmYpjA_",
        "outputId": "115c7f93-ecb4-4ab3-83cd-cd7b38c4fd1b",
        "colab": {
          "base_uri": "https://localhost:8080/"
        }
      },
      "outputs": [
        {
          "output_type": "stream",
          "name": "stdout",
          "text": [
            "\n",
            "Training and Validation Set AUCs:  0.9325,  0.9159\n",
            "Percent Drop in AUC: Training to Validation: -1.786%\n"
          ]
        }
      ],
      "source": [
        "xgb_auc_train = sklearn_metrics.roc_auc_score(y_true=train[label], y_score=train['predictions'])\n",
        "xgb_auc_valid = sklearn_metrics.roc_auc_score(y_true=valid[label], y_score=valid['predictions'])\n",
        "print(\n",
        "    f\"\\nTraining and Validation Set AUCs: {xgb_auc_train: 0.4f}, {xgb_auc_valid: 0.4f}\"\n",
        "    f\"\\nPercent Drop in AUC: Training to Validation: {xgb_auc_valid / xgb_auc_train -1:0.3%}\"\n",
        ")"
      ]
    },
    {
      "cell_type": "code",
      "execution_count": 7,
      "metadata": {
        "pycharm": {
          "name": "#%%\n"
        },
        "id": "PurjIMCZpjBA"
      },
      "outputs": [],
      "source": [
        "def offer_function(\n",
        "        data: pd.DataFrame,\n",
        "        probability_cutoff_1 = 0.65,\n",
        "        dti_cutoff = 0.4,\n",
        "        probability_cutoff_2 = 0.90,\n",
        "):\n",
        "\n",
        "    offer_type1 = (data['predictions'] >= probability_cutoff_1) & \\\n",
        "                  (data['debt_to_income_ratio'] <= dti_cutoff)\n",
        "\n",
        "    offer_type2 = (data['predictions'] >= probability_cutoff_2)\n",
        "\n",
        "    offer = (offer_type1 | offer_type2).astype(int)\n",
        "\n",
        "    return offer\n",
        "\n",
        "valid['Low Priced Offer'] = offer_function(data=valid)"
      ]
    },
    {
      "cell_type": "markdown",
      "metadata": {
        "pycharm": {
          "name": "#%% md\n"
        },
        "id": "IXoZcWmIpjBA"
      },
      "source": [
        "### Measuring continuous outcomes of group fairness"
      ]
    },
    {
      "cell_type": "markdown",
      "source": [
        "#### Marginal Effect"
      ],
      "metadata": {
        "id": "AaTILBzPZr4R"
      }
    },
    {
      "cell_type": "code",
      "source": [
        "valid_known_race = valid.loc[(valid['race'] != 'Unknown'), :].copy()\n",
        "score_summary = valid_known_race.groupby(by='race')['predictions'].agg(['count', 'mean'])\n",
        "score_summary.columns = ['Observations', 'Average Score']\n",
        "\n",
        "prot_race_mask = (score_summary.index != 'White')\n",
        "\n",
        "ref_average = score_summary.loc[~prot_race_mask, 'Average Score'].values\n",
        "score_summary.loc[prot_race_mask, 'Marginal Effect'] = score_summary.loc[prot_race_mask, 'Average Score'] - ref_average\n",
        "format_dict = {\n",
        "    'Observations': '{:,.0f}',\n",
        "    'Average Score': '{:.1%}',\n",
        "    'Marginal Effect': '{:.1%}'\n",
        "}\n",
        "\n",
        "score_summary.style.format(format_dict, na_rep='-')"
      ],
      "metadata": {
        "colab": {
          "base_uri": "https://localhost:8080/",
          "height": 238
        },
        "id": "SmzKbp4YbOuF",
        "outputId": "44e49afe-e80a-4db9-ce93-d105aab3e913"
      },
      "execution_count": 8,
      "outputs": [
        {
          "output_type": "execute_result",
          "data": {
            "text/plain": [
              "<pandas.io.formats.style.Styler at 0x7cfeb2dfbb20>"
            ],
            "text/html": [
              "<style type=\"text/css\">\n",
              "</style>\n",
              "<table id=\"T_6f0db\" class=\"dataframe\">\n",
              "  <thead>\n",
              "    <tr>\n",
              "      <th class=\"blank level0\" >&nbsp;</th>\n",
              "      <th id=\"T_6f0db_level0_col0\" class=\"col_heading level0 col0\" >Observations</th>\n",
              "      <th id=\"T_6f0db_level0_col1\" class=\"col_heading level0 col1\" >Average Score</th>\n",
              "      <th id=\"T_6f0db_level0_col2\" class=\"col_heading level0 col2\" >Marginal Effect</th>\n",
              "    </tr>\n",
              "    <tr>\n",
              "      <th class=\"index_name level0\" >race</th>\n",
              "      <th class=\"blank col0\" >&nbsp;</th>\n",
              "      <th class=\"blank col1\" >&nbsp;</th>\n",
              "      <th class=\"blank col2\" >&nbsp;</th>\n",
              "    </tr>\n",
              "  </thead>\n",
              "  <tbody>\n",
              "    <tr>\n",
              "      <th id=\"T_6f0db_level0_row0\" class=\"row_heading level0 row0\" >Asian</th>\n",
              "      <td id=\"T_6f0db_row0_col0\" class=\"data row0 col0\" >4,014</td>\n",
              "      <td id=\"T_6f0db_row0_col1\" class=\"data row0 col1\" >94.4%</td>\n",
              "      <td id=\"T_6f0db_row0_col2\" class=\"data row0 col2\" >3.7%</td>\n",
              "    </tr>\n",
              "    <tr>\n",
              "      <th id=\"T_6f0db_level0_row1\" class=\"row_heading level0 row1\" >Black</th>\n",
              "      <td id=\"T_6f0db_row1_col0\" class=\"data row1 col0\" >3,999</td>\n",
              "      <td id=\"T_6f0db_row1_col1\" class=\"data row1 col1\" >82.3%</td>\n",
              "      <td id=\"T_6f0db_row1_col2\" class=\"data row1 col2\" >-8.4%</td>\n",
              "    </tr>\n",
              "    <tr>\n",
              "      <th id=\"T_6f0db_level0_row2\" class=\"row_heading level0 row2\" >Hawaiian or pacific islander</th>\n",
              "      <td id=\"T_6f0db_row2_col0\" class=\"data row2 col0\" >141</td>\n",
              "      <td id=\"T_6f0db_row2_col1\" class=\"data row2 col1\" >89.2%</td>\n",
              "      <td id=\"T_6f0db_row2_col2\" class=\"data row2 col2\" >-1.5%</td>\n",
              "    </tr>\n",
              "    <tr>\n",
              "      <th id=\"T_6f0db_level0_row3\" class=\"row_heading level0 row3\" >Native american</th>\n",
              "      <td id=\"T_6f0db_row3_col0\" class=\"data row3 col0\" >227</td>\n",
              "      <td id=\"T_6f0db_row3_col1\" class=\"data row3 col1\" >85.4%</td>\n",
              "      <td id=\"T_6f0db_row3_col2\" class=\"data row3 col2\" >-5.3%</td>\n",
              "    </tr>\n",
              "    <tr>\n",
              "      <th id=\"T_6f0db_level0_row4\" class=\"row_heading level0 row4\" >White</th>\n",
              "      <td id=\"T_6f0db_row4_col0\" class=\"data row4 col0\" >42,788</td>\n",
              "      <td id=\"T_6f0db_row4_col1\" class=\"data row4 col1\" >90.7%</td>\n",
              "      <td id=\"T_6f0db_row4_col2\" class=\"data row4 col2\" >-</td>\n",
              "    </tr>\n",
              "  </tbody>\n",
              "</table>\n"
            ]
          },
          "metadata": {},
          "execution_count": 8
        }
      ]
    },
    {
      "cell_type": "markdown",
      "metadata": {
        "pycharm": {
          "name": "#%% md\n"
        },
        "id": "xL2Dy1hspjBA"
      },
      "source": [
        "#### Determining statistical significance of continuous outcomes"
      ]
    },
    {
      "cell_type": "code",
      "source": [
        "for race_i in [x for x in valid_known_race['race'].unique() if x != 'White']:\n",
        "    t, p = ttest_ind(\n",
        "        a=valid_known_race.loc[valid['race'] == race_i, 'predictions'],\n",
        "        b=valid_known_race.loc[valid['white'] == 1, 'predictions'],\n",
        "        equal_var=True,\n",
        "        alternative='two-sided'\n",
        "    )\n",
        "    score_summary.loc[race_i, ['T-Statistic', 'P-Value']] = t, p\n",
        "\n",
        "format_dict = {\n",
        "    'Observations': '{:0,.0f}',\n",
        "    'Average Score': '{:0.1%}',\n",
        "    'Marginal Effect': '{:0.2%}',\n",
        "    'T-Statistic': '{:0.2f}',\n",
        "    'P-Value': '{:0.1%}',\n",
        "}\n",
        "\n",
        "score_summary.style.format(format_dict, na_rep='-')"
      ],
      "metadata": {
        "colab": {
          "base_uri": "https://localhost:8080/",
          "height": 238
        },
        "id": "nV0gDufYuOSG",
        "outputId": "64a1c152-48e9-4c93-db11-0c15aecf4166"
      },
      "execution_count": 9,
      "outputs": [
        {
          "output_type": "execute_result",
          "data": {
            "text/plain": [
              "<pandas.io.formats.style.Styler at 0x7cfeb2df9a80>"
            ],
            "text/html": [
              "<style type=\"text/css\">\n",
              "</style>\n",
              "<table id=\"T_4065e\" class=\"dataframe\">\n",
              "  <thead>\n",
              "    <tr>\n",
              "      <th class=\"blank level0\" >&nbsp;</th>\n",
              "      <th id=\"T_4065e_level0_col0\" class=\"col_heading level0 col0\" >Observations</th>\n",
              "      <th id=\"T_4065e_level0_col1\" class=\"col_heading level0 col1\" >Average Score</th>\n",
              "      <th id=\"T_4065e_level0_col2\" class=\"col_heading level0 col2\" >Marginal Effect</th>\n",
              "      <th id=\"T_4065e_level0_col3\" class=\"col_heading level0 col3\" >T-Statistic</th>\n",
              "      <th id=\"T_4065e_level0_col4\" class=\"col_heading level0 col4\" >P-Value</th>\n",
              "    </tr>\n",
              "    <tr>\n",
              "      <th class=\"index_name level0\" >race</th>\n",
              "      <th class=\"blank col0\" >&nbsp;</th>\n",
              "      <th class=\"blank col1\" >&nbsp;</th>\n",
              "      <th class=\"blank col2\" >&nbsp;</th>\n",
              "      <th class=\"blank col3\" >&nbsp;</th>\n",
              "      <th class=\"blank col4\" >&nbsp;</th>\n",
              "    </tr>\n",
              "  </thead>\n",
              "  <tbody>\n",
              "    <tr>\n",
              "      <th id=\"T_4065e_level0_row0\" class=\"row_heading level0 row0\" >Asian</th>\n",
              "      <td id=\"T_4065e_row0_col0\" class=\"data row0 col0\" >4,014</td>\n",
              "      <td id=\"T_4065e_row0_col1\" class=\"data row0 col1\" >94.4%</td>\n",
              "      <td id=\"T_4065e_row0_col2\" class=\"data row0 col2\" >3.75%</td>\n",
              "      <td id=\"T_4065e_row0_col3\" class=\"data row0 col3\" >13.54</td>\n",
              "      <td id=\"T_4065e_row0_col4\" class=\"data row0 col4\" >0.0%</td>\n",
              "    </tr>\n",
              "    <tr>\n",
              "      <th id=\"T_4065e_level0_row1\" class=\"row_heading level0 row1\" >Black</th>\n",
              "      <td id=\"T_4065e_row1_col0\" class=\"data row1 col0\" >3,999</td>\n",
              "      <td id=\"T_4065e_row1_col1\" class=\"data row1 col1\" >82.3%</td>\n",
              "      <td id=\"T_4065e_row1_col2\" class=\"data row1 col2\" >-8.35%</td>\n",
              "      <td id=\"T_4065e_row1_col3\" class=\"data row1 col3\" >-29.18</td>\n",
              "      <td id=\"T_4065e_row1_col4\" class=\"data row1 col4\" >0.0%</td>\n",
              "    </tr>\n",
              "    <tr>\n",
              "      <th id=\"T_4065e_level0_row2\" class=\"row_heading level0 row2\" >Hawaiian or pacific islander</th>\n",
              "      <td id=\"T_4065e_row2_col0\" class=\"data row2 col0\" >141</td>\n",
              "      <td id=\"T_4065e_row2_col1\" class=\"data row2 col1\" >89.2%</td>\n",
              "      <td id=\"T_4065e_row2_col2\" class=\"data row2 col2\" >-1.46%</td>\n",
              "      <td id=\"T_4065e_row2_col3\" class=\"data row2 col3\" >-1.02</td>\n",
              "      <td id=\"T_4065e_row2_col4\" class=\"data row2 col4\" >30.6%</td>\n",
              "    </tr>\n",
              "    <tr>\n",
              "      <th id=\"T_4065e_level0_row3\" class=\"row_heading level0 row3\" >Native american</th>\n",
              "      <td id=\"T_4065e_row3_col0\" class=\"data row3 col0\" >227</td>\n",
              "      <td id=\"T_4065e_row3_col1\" class=\"data row3 col1\" >85.4%</td>\n",
              "      <td id=\"T_4065e_row3_col2\" class=\"data row3 col2\" >-5.28%</td>\n",
              "      <td id=\"T_4065e_row3_col3\" class=\"data row3 col3\" >-4.69</td>\n",
              "      <td id=\"T_4065e_row3_col4\" class=\"data row3 col4\" >0.0%</td>\n",
              "    </tr>\n",
              "    <tr>\n",
              "      <th id=\"T_4065e_level0_row4\" class=\"row_heading level0 row4\" >White</th>\n",
              "      <td id=\"T_4065e_row4_col0\" class=\"data row4 col0\" >42,788</td>\n",
              "      <td id=\"T_4065e_row4_col1\" class=\"data row4 col1\" >90.7%</td>\n",
              "      <td id=\"T_4065e_row4_col2\" class=\"data row4 col2\" >-</td>\n",
              "      <td id=\"T_4065e_row4_col3\" class=\"data row4 col3\" >-</td>\n",
              "      <td id=\"T_4065e_row4_col4\" class=\"data row4 col4\" >-</td>\n",
              "    </tr>\n",
              "  </tbody>\n",
              "</table>\n"
            ]
          },
          "metadata": {},
          "execution_count": 9
        }
      ]
    },
    {
      "cell_type": "code",
      "execution_count": 10,
      "metadata": {
        "pycharm": {
          "name": "#%%\n"
        },
        "id": "xnDeVUJxpjBA"
      },
      "outputs": [],
      "source": [
        "score_reg_data = pd.get_dummies(data=valid_known_race[['race', 'predictions']], columns=['race'])\n",
        "score_reg_data.columns = [x[5:] if x.startswith('race_') else x for x in score_reg_data.columns]\n",
        "score_reg_data['intercept'] = 1\n",
        "score_reg_data.drop(columns='White', inplace=True)"
      ]
    },
    {
      "cell_type": "code",
      "source": [
        "score_reg_fit = OLS(\n",
        "  endog=score_reg_data['predictions'],\n",
        "  exog=score_reg_data.drop(columns=['predictions'])).fit()\n",
        "\n",
        "table_01 = score_reg_fit.summary().tables[1].data\n",
        "table_01 = pd.DataFrame(data=table_01[1:], columns=table_01[0])\n",
        "\n",
        "table_01 = table_01.set_index(keys='').drop(columns=['[0.025', '0.975]'])\n",
        "table_01"
      ],
      "metadata": {
        "colab": {
          "base_uri": "https://localhost:8080/",
          "height": 220
        },
        "id": "03GeiXQciLGa",
        "outputId": "d782938f-8c13-4152-8ffe-8def532d369e"
      },
      "execution_count": 11,
      "outputs": [
        {
          "output_type": "execute_result",
          "data": {
            "text/plain": [
              "                                    coef    std err          t   P>|t|\n",
              "                                                                      \n",
              "Asian                             0.0375      0.003     13.208   0.000\n",
              "Black                            -0.0835      0.003    -29.390   0.000\n",
              "Hawaiian or pacific islander     -0.0146      0.014     -1.007   0.314\n",
              "Native american                  -0.0528      0.011     -4.617   0.000\n",
              "intercept                         0.9069      0.001   1091.520   0.000"
            ],
            "text/html": [
              "\n",
              "  <div id=\"df-696d4845-2c9b-49a6-a024-d70cb848b357\" class=\"colab-df-container\">\n",
              "    <div>\n",
              "<style scoped>\n",
              "    .dataframe tbody tr th:only-of-type {\n",
              "        vertical-align: middle;\n",
              "    }\n",
              "\n",
              "    .dataframe tbody tr th {\n",
              "        vertical-align: top;\n",
              "    }\n",
              "\n",
              "    .dataframe thead th {\n",
              "        text-align: right;\n",
              "    }\n",
              "</style>\n",
              "<table border=\"1\" class=\"dataframe\">\n",
              "  <thead>\n",
              "    <tr style=\"text-align: right;\">\n",
              "      <th></th>\n",
              "      <th>coef</th>\n",
              "      <th>std err</th>\n",
              "      <th>t</th>\n",
              "      <th>P&gt;|t|</th>\n",
              "    </tr>\n",
              "    <tr>\n",
              "      <th></th>\n",
              "      <th></th>\n",
              "      <th></th>\n",
              "      <th></th>\n",
              "      <th></th>\n",
              "    </tr>\n",
              "  </thead>\n",
              "  <tbody>\n",
              "    <tr>\n",
              "      <th>Asian</th>\n",
              "      <td>0.0375</td>\n",
              "      <td>0.003</td>\n",
              "      <td>13.208</td>\n",
              "      <td>0.000</td>\n",
              "    </tr>\n",
              "    <tr>\n",
              "      <th>Black</th>\n",
              "      <td>-0.0835</td>\n",
              "      <td>0.003</td>\n",
              "      <td>-29.390</td>\n",
              "      <td>0.000</td>\n",
              "    </tr>\n",
              "    <tr>\n",
              "      <th>Hawaiian or pacific islander</th>\n",
              "      <td>-0.0146</td>\n",
              "      <td>0.014</td>\n",
              "      <td>-1.007</td>\n",
              "      <td>0.314</td>\n",
              "    </tr>\n",
              "    <tr>\n",
              "      <th>Native american</th>\n",
              "      <td>-0.0528</td>\n",
              "      <td>0.011</td>\n",
              "      <td>-4.617</td>\n",
              "      <td>0.000</td>\n",
              "    </tr>\n",
              "    <tr>\n",
              "      <th>intercept</th>\n",
              "      <td>0.9069</td>\n",
              "      <td>0.001</td>\n",
              "      <td>1091.520</td>\n",
              "      <td>0.000</td>\n",
              "    </tr>\n",
              "  </tbody>\n",
              "</table>\n",
              "</div>\n",
              "    <div class=\"colab-df-buttons\">\n",
              "\n",
              "  <div class=\"colab-df-container\">\n",
              "    <button class=\"colab-df-convert\" onclick=\"convertToInteractive('df-696d4845-2c9b-49a6-a024-d70cb848b357')\"\n",
              "            title=\"Convert this dataframe to an interactive table.\"\n",
              "            style=\"display:none;\">\n",
              "\n",
              "  <svg xmlns=\"http://www.w3.org/2000/svg\" height=\"24px\" viewBox=\"0 -960 960 960\">\n",
              "    <path d=\"M120-120v-720h720v720H120Zm60-500h600v-160H180v160Zm220 220h160v-160H400v160Zm0 220h160v-160H400v160ZM180-400h160v-160H180v160Zm440 0h160v-160H620v160ZM180-180h160v-160H180v160Zm440 0h160v-160H620v160Z\"/>\n",
              "  </svg>\n",
              "    </button>\n",
              "\n",
              "  <style>\n",
              "    .colab-df-container {\n",
              "      display:flex;\n",
              "      gap: 12px;\n",
              "    }\n",
              "\n",
              "    .colab-df-convert {\n",
              "      background-color: #E8F0FE;\n",
              "      border: none;\n",
              "      border-radius: 50%;\n",
              "      cursor: pointer;\n",
              "      display: none;\n",
              "      fill: #1967D2;\n",
              "      height: 32px;\n",
              "      padding: 0 0 0 0;\n",
              "      width: 32px;\n",
              "    }\n",
              "\n",
              "    .colab-df-convert:hover {\n",
              "      background-color: #E2EBFA;\n",
              "      box-shadow: 0px 1px 2px rgba(60, 64, 67, 0.3), 0px 1px 3px 1px rgba(60, 64, 67, 0.15);\n",
              "      fill: #174EA6;\n",
              "    }\n",
              "\n",
              "    .colab-df-buttons div {\n",
              "      margin-bottom: 4px;\n",
              "    }\n",
              "\n",
              "    [theme=dark] .colab-df-convert {\n",
              "      background-color: #3B4455;\n",
              "      fill: #D2E3FC;\n",
              "    }\n",
              "\n",
              "    [theme=dark] .colab-df-convert:hover {\n",
              "      background-color: #434B5C;\n",
              "      box-shadow: 0px 1px 3px 1px rgba(0, 0, 0, 0.15);\n",
              "      filter: drop-shadow(0px 1px 2px rgba(0, 0, 0, 0.3));\n",
              "      fill: #FFFFFF;\n",
              "    }\n",
              "  </style>\n",
              "\n",
              "    <script>\n",
              "      const buttonEl =\n",
              "        document.querySelector('#df-696d4845-2c9b-49a6-a024-d70cb848b357 button.colab-df-convert');\n",
              "      buttonEl.style.display =\n",
              "        google.colab.kernel.accessAllowed ? 'block' : 'none';\n",
              "\n",
              "      async function convertToInteractive(key) {\n",
              "        const element = document.querySelector('#df-696d4845-2c9b-49a6-a024-d70cb848b357');\n",
              "        const dataTable =\n",
              "          await google.colab.kernel.invokeFunction('convertToInteractive',\n",
              "                                                    [key], {});\n",
              "        if (!dataTable) return;\n",
              "\n",
              "        const docLinkHtml = 'Like what you see? Visit the ' +\n",
              "          '<a target=\"_blank\" href=https://colab.research.google.com/notebooks/data_table.ipynb>data table notebook</a>'\n",
              "          + ' to learn more about interactive tables.';\n",
              "        element.innerHTML = '';\n",
              "        dataTable['output_type'] = 'display_data';\n",
              "        await google.colab.output.renderOutput(dataTable, element);\n",
              "        const docLink = document.createElement('div');\n",
              "        docLink.innerHTML = docLinkHtml;\n",
              "        element.appendChild(docLink);\n",
              "      }\n",
              "    </script>\n",
              "  </div>\n",
              "\n",
              "\n",
              "<div id=\"df-2d0911ac-f690-48b8-8e26-9c3a1d6fe506\">\n",
              "  <button class=\"colab-df-quickchart\" onclick=\"quickchart('df-2d0911ac-f690-48b8-8e26-9c3a1d6fe506')\"\n",
              "            title=\"Suggest charts\"\n",
              "            style=\"display:none;\">\n",
              "\n",
              "<svg xmlns=\"http://www.w3.org/2000/svg\" height=\"24px\"viewBox=\"0 0 24 24\"\n",
              "     width=\"24px\">\n",
              "    <g>\n",
              "        <path d=\"M19 3H5c-1.1 0-2 .9-2 2v14c0 1.1.9 2 2 2h14c1.1 0 2-.9 2-2V5c0-1.1-.9-2-2-2zM9 17H7v-7h2v7zm4 0h-2V7h2v10zm4 0h-2v-4h2v4z\"/>\n",
              "    </g>\n",
              "</svg>\n",
              "  </button>\n",
              "\n",
              "<style>\n",
              "  .colab-df-quickchart {\n",
              "      --bg-color: #E8F0FE;\n",
              "      --fill-color: #1967D2;\n",
              "      --hover-bg-color: #E2EBFA;\n",
              "      --hover-fill-color: #174EA6;\n",
              "      --disabled-fill-color: #AAA;\n",
              "      --disabled-bg-color: #DDD;\n",
              "  }\n",
              "\n",
              "  [theme=dark] .colab-df-quickchart {\n",
              "      --bg-color: #3B4455;\n",
              "      --fill-color: #D2E3FC;\n",
              "      --hover-bg-color: #434B5C;\n",
              "      --hover-fill-color: #FFFFFF;\n",
              "      --disabled-bg-color: #3B4455;\n",
              "      --disabled-fill-color: #666;\n",
              "  }\n",
              "\n",
              "  .colab-df-quickchart {\n",
              "    background-color: var(--bg-color);\n",
              "    border: none;\n",
              "    border-radius: 50%;\n",
              "    cursor: pointer;\n",
              "    display: none;\n",
              "    fill: var(--fill-color);\n",
              "    height: 32px;\n",
              "    padding: 0;\n",
              "    width: 32px;\n",
              "  }\n",
              "\n",
              "  .colab-df-quickchart:hover {\n",
              "    background-color: var(--hover-bg-color);\n",
              "    box-shadow: 0 1px 2px rgba(60, 64, 67, 0.3), 0 1px 3px 1px rgba(60, 64, 67, 0.15);\n",
              "    fill: var(--button-hover-fill-color);\n",
              "  }\n",
              "\n",
              "  .colab-df-quickchart-complete:disabled,\n",
              "  .colab-df-quickchart-complete:disabled:hover {\n",
              "    background-color: var(--disabled-bg-color);\n",
              "    fill: var(--disabled-fill-color);\n",
              "    box-shadow: none;\n",
              "  }\n",
              "\n",
              "  .colab-df-spinner {\n",
              "    border: 2px solid var(--fill-color);\n",
              "    border-color: transparent;\n",
              "    border-bottom-color: var(--fill-color);\n",
              "    animation:\n",
              "      spin 1s steps(1) infinite;\n",
              "  }\n",
              "\n",
              "  @keyframes spin {\n",
              "    0% {\n",
              "      border-color: transparent;\n",
              "      border-bottom-color: var(--fill-color);\n",
              "      border-left-color: var(--fill-color);\n",
              "    }\n",
              "    20% {\n",
              "      border-color: transparent;\n",
              "      border-left-color: var(--fill-color);\n",
              "      border-top-color: var(--fill-color);\n",
              "    }\n",
              "    30% {\n",
              "      border-color: transparent;\n",
              "      border-left-color: var(--fill-color);\n",
              "      border-top-color: var(--fill-color);\n",
              "      border-right-color: var(--fill-color);\n",
              "    }\n",
              "    40% {\n",
              "      border-color: transparent;\n",
              "      border-right-color: var(--fill-color);\n",
              "      border-top-color: var(--fill-color);\n",
              "    }\n",
              "    60% {\n",
              "      border-color: transparent;\n",
              "      border-right-color: var(--fill-color);\n",
              "    }\n",
              "    80% {\n",
              "      border-color: transparent;\n",
              "      border-right-color: var(--fill-color);\n",
              "      border-bottom-color: var(--fill-color);\n",
              "    }\n",
              "    90% {\n",
              "      border-color: transparent;\n",
              "      border-bottom-color: var(--fill-color);\n",
              "    }\n",
              "  }\n",
              "</style>\n",
              "\n",
              "  <script>\n",
              "    async function quickchart(key) {\n",
              "      const quickchartButtonEl =\n",
              "        document.querySelector('#' + key + ' button');\n",
              "      quickchartButtonEl.disabled = true;  // To prevent multiple clicks.\n",
              "      quickchartButtonEl.classList.add('colab-df-spinner');\n",
              "      try {\n",
              "        const charts = await google.colab.kernel.invokeFunction(\n",
              "            'suggestCharts', [key], {});\n",
              "      } catch (error) {\n",
              "        console.error('Error during call to suggestCharts:', error);\n",
              "      }\n",
              "      quickchartButtonEl.classList.remove('colab-df-spinner');\n",
              "      quickchartButtonEl.classList.add('colab-df-quickchart-complete');\n",
              "    }\n",
              "    (() => {\n",
              "      let quickchartButtonEl =\n",
              "        document.querySelector('#df-2d0911ac-f690-48b8-8e26-9c3a1d6fe506 button');\n",
              "      quickchartButtonEl.style.display =\n",
              "        google.colab.kernel.accessAllowed ? 'block' : 'none';\n",
              "    })();\n",
              "  </script>\n",
              "</div>\n",
              "\n",
              "  <div id=\"id_af289fab-3248-4dcd-9ba1-37b711a3b760\">\n",
              "    <style>\n",
              "      .colab-df-generate {\n",
              "        background-color: #E8F0FE;\n",
              "        border: none;\n",
              "        border-radius: 50%;\n",
              "        cursor: pointer;\n",
              "        display: none;\n",
              "        fill: #1967D2;\n",
              "        height: 32px;\n",
              "        padding: 0 0 0 0;\n",
              "        width: 32px;\n",
              "      }\n",
              "\n",
              "      .colab-df-generate:hover {\n",
              "        background-color: #E2EBFA;\n",
              "        box-shadow: 0px 1px 2px rgba(60, 64, 67, 0.3), 0px 1px 3px 1px rgba(60, 64, 67, 0.15);\n",
              "        fill: #174EA6;\n",
              "      }\n",
              "\n",
              "      [theme=dark] .colab-df-generate {\n",
              "        background-color: #3B4455;\n",
              "        fill: #D2E3FC;\n",
              "      }\n",
              "\n",
              "      [theme=dark] .colab-df-generate:hover {\n",
              "        background-color: #434B5C;\n",
              "        box-shadow: 0px 1px 3px 1px rgba(0, 0, 0, 0.15);\n",
              "        filter: drop-shadow(0px 1px 2px rgba(0, 0, 0, 0.3));\n",
              "        fill: #FFFFFF;\n",
              "      }\n",
              "    </style>\n",
              "    <button class=\"colab-df-generate\" onclick=\"generateWithVariable('table_01')\"\n",
              "            title=\"Generate code using this dataframe.\"\n",
              "            style=\"display:none;\">\n",
              "\n",
              "  <svg xmlns=\"http://www.w3.org/2000/svg\" height=\"24px\"viewBox=\"0 0 24 24\"\n",
              "       width=\"24px\">\n",
              "    <path d=\"M7,19H8.4L18.45,9,17,7.55,7,17.6ZM5,21V16.75L18.45,3.32a2,2,0,0,1,2.83,0l1.4,1.43a1.91,1.91,0,0,1,.58,1.4,1.91,1.91,0,0,1-.58,1.4L9.25,21ZM18.45,9,17,7.55Zm-12,3A5.31,5.31,0,0,0,4.9,8.1,5.31,5.31,0,0,0,1,6.5,5.31,5.31,0,0,0,4.9,4.9,5.31,5.31,0,0,0,6.5,1,5.31,5.31,0,0,0,8.1,4.9,5.31,5.31,0,0,0,12,6.5,5.46,5.46,0,0,0,6.5,12Z\"/>\n",
              "  </svg>\n",
              "    </button>\n",
              "    <script>\n",
              "      (() => {\n",
              "      const buttonEl =\n",
              "        document.querySelector('#id_af289fab-3248-4dcd-9ba1-37b711a3b760 button.colab-df-generate');\n",
              "      buttonEl.style.display =\n",
              "        google.colab.kernel.accessAllowed ? 'block' : 'none';\n",
              "\n",
              "      buttonEl.onclick = () => {\n",
              "        google.colab.notebook.generateWithVariable('table_01');\n",
              "      }\n",
              "      })();\n",
              "    </script>\n",
              "  </div>\n",
              "\n",
              "    </div>\n",
              "  </div>\n"
            ],
            "application/vnd.google.colaboratory.intrinsic+json": {
              "type": "dataframe",
              "variable_name": "table_01",
              "summary": "{\n  \"name\": \"table_01\",\n  \"rows\": 5,\n  \"fields\": [\n    {\n      \"column\": \"coef\",\n      \"properties\": {\n        \"dtype\": \"string\",\n        \"num_unique_values\": 5,\n        \"samples\": [\n          \"   -0.0835\",\n          \"    0.9069\",\n          \"   -0.0146\"\n        ],\n        \"semantic_type\": \"\",\n        \"description\": \"\"\n      }\n    },\n    {\n      \"column\": \"std err\",\n      \"properties\": {\n        \"dtype\": \"string\",\n        \"num_unique_values\": 4,\n        \"samples\": [\n          \"    0.014\",\n          \"    0.001\",\n          \"    0.003\"\n        ],\n        \"semantic_type\": \"\",\n        \"description\": \"\"\n      }\n    },\n    {\n      \"column\": \"t\",\n      \"properties\": {\n        \"dtype\": \"string\",\n        \"num_unique_values\": 5,\n        \"samples\": [\n          \"  -29.390\",\n          \" 1091.520\",\n          \"   -1.007\"\n        ],\n        \"semantic_type\": \"\",\n        \"description\": \"\"\n      }\n    },\n    {\n      \"column\": \"P>|t|\",\n      \"properties\": {\n        \"dtype\": \"category\",\n        \"num_unique_values\": 2,\n        \"samples\": [\n          \" 0.314\",\n          \" 0.000\"\n        ],\n        \"semantic_type\": \"\",\n        \"description\": \"\"\n      }\n    }\n  ]\n}"
            }
          },
          "metadata": {},
          "execution_count": 11
        }
      ]
    },
    {
      "cell_type": "markdown",
      "metadata": {
        "pycharm": {
          "name": "#%% md\n"
        },
        "id": "kwwmnJ01pjBA"
      },
      "source": [
        "#### Determining the practical significance of continuous outcomes"
      ]
    },
    {
      "cell_type": "code",
      "execution_count": 12,
      "metadata": {
        "pycharm": {
          "name": "#%%\n"
        },
        "id": "xHqNixmppjBA",
        "outputId": "17aed488-19d4-4774-df87-291761157085",
        "colab": {
          "base_uri": "https://localhost:8080/",
          "height": 238
        }
      },
      "outputs": [
        {
          "output_type": "execute_result",
          "data": {
            "text/plain": [
              "<pandas.io.formats.style.Styler at 0x7cfd763b2a40>"
            ],
            "text/html": [
              "<style type=\"text/css\">\n",
              "</style>\n",
              "<table id=\"T_8bd91\" class=\"dataframe\">\n",
              "  <thead>\n",
              "    <tr>\n",
              "      <th class=\"blank level0\" >&nbsp;</th>\n",
              "      <th id=\"T_8bd91_level0_col0\" class=\"col_heading level0 col0\" >Observations</th>\n",
              "      <th id=\"T_8bd91_level0_col1\" class=\"col_heading level0 col1\" >Average Score</th>\n",
              "      <th id=\"T_8bd91_level0_col2\" class=\"col_heading level0 col2\" >Marginal Effect</th>\n",
              "      <th id=\"T_8bd91_level0_col3\" class=\"col_heading level0 col3\" >T-Statistic</th>\n",
              "      <th id=\"T_8bd91_level0_col4\" class=\"col_heading level0 col4\" >P-Value</th>\n",
              "      <th id=\"T_8bd91_level0_col5\" class=\"col_heading level0 col5\" >SMD</th>\n",
              "      <th id=\"T_8bd91_level0_col6\" class=\"col_heading level0 col6\" >Significant</th>\n",
              "    </tr>\n",
              "    <tr>\n",
              "      <th class=\"index_name level0\" >race</th>\n",
              "      <th class=\"blank col0\" >&nbsp;</th>\n",
              "      <th class=\"blank col1\" >&nbsp;</th>\n",
              "      <th class=\"blank col2\" >&nbsp;</th>\n",
              "      <th class=\"blank col3\" >&nbsp;</th>\n",
              "      <th class=\"blank col4\" >&nbsp;</th>\n",
              "      <th class=\"blank col5\" >&nbsp;</th>\n",
              "      <th class=\"blank col6\" >&nbsp;</th>\n",
              "    </tr>\n",
              "  </thead>\n",
              "  <tbody>\n",
              "    <tr>\n",
              "      <th id=\"T_8bd91_level0_row0\" class=\"row_heading level0 row0\" >Asian</th>\n",
              "      <td id=\"T_8bd91_row0_col0\" class=\"data row0 col0\" >4,014</td>\n",
              "      <td id=\"T_8bd91_row0_col1\" class=\"data row0 col1\" >94.4%</td>\n",
              "      <td id=\"T_8bd91_row0_col2\" class=\"data row0 col2\" >3.75%</td>\n",
              "      <td id=\"T_8bd91_row0_col3\" class=\"data row0 col3\" >13.54</td>\n",
              "      <td id=\"T_8bd91_row0_col4\" class=\"data row0 col4\" >0.0%</td>\n",
              "      <td id=\"T_8bd91_row0_col5\" class=\"data row0 col5\" >0.216</td>\n",
              "      <td id=\"T_8bd91_row0_col6\" class=\"data row0 col6\" ></td>\n",
              "    </tr>\n",
              "    <tr>\n",
              "      <th id=\"T_8bd91_level0_row1\" class=\"row_heading level0 row1\" >Black</th>\n",
              "      <td id=\"T_8bd91_row1_col0\" class=\"data row1 col0\" >3,999</td>\n",
              "      <td id=\"T_8bd91_row1_col1\" class=\"data row1 col1\" >82.3%</td>\n",
              "      <td id=\"T_8bd91_row1_col2\" class=\"data row1 col2\" >-8.35%</td>\n",
              "      <td id=\"T_8bd91_row1_col3\" class=\"data row1 col3\" >-29.18</td>\n",
              "      <td id=\"T_8bd91_row1_col4\" class=\"data row1 col4\" >0.0%</td>\n",
              "      <td id=\"T_8bd91_row1_col5\" class=\"data row1 col5\" >-0.482</td>\n",
              "      <td id=\"T_8bd91_row1_col6\" class=\"data row1 col6\" >Yes</td>\n",
              "    </tr>\n",
              "    <tr>\n",
              "      <th id=\"T_8bd91_level0_row2\" class=\"row_heading level0 row2\" >Hawaiian or pacific islander</th>\n",
              "      <td id=\"T_8bd91_row2_col0\" class=\"data row2 col0\" >141</td>\n",
              "      <td id=\"T_8bd91_row2_col1\" class=\"data row2 col1\" >89.2%</td>\n",
              "      <td id=\"T_8bd91_row2_col2\" class=\"data row2 col2\" >-1.46%</td>\n",
              "      <td id=\"T_8bd91_row2_col3\" class=\"data row2 col3\" >-1.02</td>\n",
              "      <td id=\"T_8bd91_row2_col4\" class=\"data row2 col4\" >30.6%</td>\n",
              "      <td id=\"T_8bd91_row2_col5\" class=\"data row2 col5\" >-0.084</td>\n",
              "      <td id=\"T_8bd91_row2_col6\" class=\"data row2 col6\" ></td>\n",
              "    </tr>\n",
              "    <tr>\n",
              "      <th id=\"T_8bd91_level0_row3\" class=\"row_heading level0 row3\" >Native american</th>\n",
              "      <td id=\"T_8bd91_row3_col0\" class=\"data row3 col0\" >227</td>\n",
              "      <td id=\"T_8bd91_row3_col1\" class=\"data row3 col1\" >85.4%</td>\n",
              "      <td id=\"T_8bd91_row3_col2\" class=\"data row3 col2\" >-5.28%</td>\n",
              "      <td id=\"T_8bd91_row3_col3\" class=\"data row3 col3\" >-4.69</td>\n",
              "      <td id=\"T_8bd91_row3_col4\" class=\"data row3 col4\" >0.0%</td>\n",
              "      <td id=\"T_8bd91_row3_col5\" class=\"data row3 col5\" >-0.305</td>\n",
              "      <td id=\"T_8bd91_row3_col6\" class=\"data row3 col6\" >Yes</td>\n",
              "    </tr>\n",
              "    <tr>\n",
              "      <th id=\"T_8bd91_level0_row4\" class=\"row_heading level0 row4\" >White</th>\n",
              "      <td id=\"T_8bd91_row4_col0\" class=\"data row4 col0\" >42,788</td>\n",
              "      <td id=\"T_8bd91_row4_col1\" class=\"data row4 col1\" >90.7%</td>\n",
              "      <td id=\"T_8bd91_row4_col2\" class=\"data row4 col2\" >-</td>\n",
              "      <td id=\"T_8bd91_row4_col3\" class=\"data row4 col3\" >-</td>\n",
              "      <td id=\"T_8bd91_row4_col4\" class=\"data row4 col4\" >-</td>\n",
              "      <td id=\"T_8bd91_row4_col5\" class=\"data row4 col5\" >-</td>\n",
              "      <td id=\"T_8bd91_row4_col6\" class=\"data row4 col6\" ></td>\n",
              "    </tr>\n",
              "  </tbody>\n",
              "</table>\n"
            ]
          },
          "metadata": {},
          "execution_count": 12
        }
      ],
      "source": [
        "score_std_dev = valid['predictions'].std()\n",
        "score_summary['SMD'] = score_summary['Marginal Effect'] / score_std_dev\n",
        "score_summary['Significant'] = ''\n",
        "score_summary.loc[(score_summary['P-Value'] < 0.05) & (score_summary['SMD'] < -0.3), 'Significant'] = \"Yes\"\n",
        "format_dict = {\n",
        "    'Observations': '{:0,.0f}',\n",
        "    'Average Score': '{:0.1%}',\n",
        "    'Marginal Effect': '{:0.2%}',\n",
        "    'T-Statistic': '{:0.2f}',\n",
        "    'P-Value': '{:0.1%}',\n",
        "    'SMD': '{:0.3f}'\n",
        "}\n",
        "score_summary.style.format(format_dict, na_rep='-')"
      ]
    },
    {
      "cell_type": "markdown",
      "metadata": {
        "pycharm": {
          "name": "#%% md\n"
        },
        "id": "ue2Aub3fpjBB"
      },
      "source": [
        "#### Measuring categorical outcomes of group fairness"
      ]
    },
    {
      "cell_type": "code",
      "execution_count": 13,
      "metadata": {
        "pycharm": {
          "name": "#%%\n"
        },
        "id": "EL5Fm0CLpjBB",
        "outputId": "0d063bf5-4f72-4654-be1d-93d83d8afcf9",
        "colab": {
          "base_uri": "https://localhost:8080/",
          "height": 238
        }
      },
      "outputs": [
        {
          "output_type": "execute_result",
          "data": {
            "text/plain": [
              "<pandas.io.formats.style.Styler at 0x7cfd75de9570>"
            ],
            "text/html": [
              "<style type=\"text/css\">\n",
              "</style>\n",
              "<table id=\"T_507e2\" class=\"dataframe\">\n",
              "  <thead>\n",
              "    <tr>\n",
              "      <th class=\"blank level0\" >&nbsp;</th>\n",
              "      <th id=\"T_507e2_level0_col0\" class=\"col_heading level0 col0\" >Observations</th>\n",
              "      <th id=\"T_507e2_level0_col1\" class=\"col_heading level0 col1\" >Offers</th>\n",
              "      <th id=\"T_507e2_level0_col2\" class=\"col_heading level0 col2\" >Percent Offer</th>\n",
              "    </tr>\n",
              "    <tr>\n",
              "      <th class=\"index_name level0\" >race</th>\n",
              "      <th class=\"blank col0\" >&nbsp;</th>\n",
              "      <th class=\"blank col1\" >&nbsp;</th>\n",
              "      <th class=\"blank col2\" >&nbsp;</th>\n",
              "    </tr>\n",
              "  </thead>\n",
              "  <tbody>\n",
              "    <tr>\n",
              "      <th id=\"T_507e2_level0_row0\" class=\"row_heading level0 row0\" >Asian</th>\n",
              "      <td id=\"T_507e2_row0_col0\" class=\"data row0 col0\" >4,014</td>\n",
              "      <td id=\"T_507e2_row0_col1\" class=\"data row0 col1\" >3,656</td>\n",
              "      <td id=\"T_507e2_row0_col2\" class=\"data row0 col2\" >91.08%</td>\n",
              "    </tr>\n",
              "    <tr>\n",
              "      <th id=\"T_507e2_level0_row1\" class=\"row_heading level0 row1\" >Black</th>\n",
              "      <td id=\"T_507e2_row1_col0\" class=\"data row1 col0\" >3,999</td>\n",
              "      <td id=\"T_507e2_row1_col1\" class=\"data row1 col1\" >2,507</td>\n",
              "      <td id=\"T_507e2_row1_col2\" class=\"data row1 col2\" >62.69%</td>\n",
              "    </tr>\n",
              "    <tr>\n",
              "      <th id=\"T_507e2_level0_row2\" class=\"row_heading level0 row2\" >Hawaiian or pacific islander</th>\n",
              "      <td id=\"T_507e2_row2_col0\" class=\"data row2 col0\" >141</td>\n",
              "      <td id=\"T_507e2_row2_col1\" class=\"data row2 col1\" >108</td>\n",
              "      <td id=\"T_507e2_row2_col2\" class=\"data row2 col2\" >76.60%</td>\n",
              "    </tr>\n",
              "    <tr>\n",
              "      <th id=\"T_507e2_level0_row3\" class=\"row_heading level0 row3\" >Native american</th>\n",
              "      <td id=\"T_507e2_row3_col0\" class=\"data row3 col0\" >227</td>\n",
              "      <td id=\"T_507e2_row3_col1\" class=\"data row3 col1\" >166</td>\n",
              "      <td id=\"T_507e2_row3_col2\" class=\"data row3 col2\" >73.13%</td>\n",
              "    </tr>\n",
              "    <tr>\n",
              "      <th id=\"T_507e2_level0_row4\" class=\"row_heading level0 row4\" >White</th>\n",
              "      <td id=\"T_507e2_row4_col0\" class=\"data row4 col0\" >42,788</td>\n",
              "      <td id=\"T_507e2_row4_col1\" class=\"data row4 col1\" >35,329</td>\n",
              "      <td id=\"T_507e2_row4_col2\" class=\"data row4 col2\" >82.57%</td>\n",
              "    </tr>\n",
              "  </tbody>\n",
              "</table>\n"
            ]
          },
          "metadata": {},
          "execution_count": 13
        }
      ],
      "source": [
        "offer_summary =  valid_known_race.groupby(by='race')['Low Priced Offer'].agg(['count', 'sum', 'mean'])\n",
        "offer_summary.columns = ['Observations', 'Offers', 'Percent Offer']\n",
        "\n",
        "format_dict = {\n",
        "    'Observations': '{:0,.0f}',\n",
        "    'Offers': '{:0,.0f}',\n",
        "    'Percent Offer': '{:0.2%}',\n",
        "}\n",
        "offer_summary.style.format(format_dict)"
      ]
    },
    {
      "cell_type": "code",
      "execution_count": 14,
      "metadata": {
        "pycharm": {
          "name": "#%%\n"
        },
        "id": "9vMNr2w3pjBB",
        "colab": {
          "base_uri": "https://localhost:8080/"
        },
        "outputId": "dc044bca-0e9b-4676-8af3-777bd0b86026"
      },
      "outputs": [
        {
          "output_type": "stream",
          "name": "stdout",
          "text": [
            "Optimization terminated successfully.\n",
            "         Current function value: 0.466188\n",
            "         Iterations 6\n"
          ]
        }
      ],
      "source": [
        "score_reg_data['Low Priced Offer'] = valid['Low Priced Offer']\n",
        "offer_logit_fit = Logit(endog=score_reg_data['Low Priced Offer'], exog=score_reg_data.drop(columns=['predictions', 'Low Priced Offer'])).fit()"
      ]
    },
    {
      "cell_type": "code",
      "source": [
        "reference_pct = offer_summary.at['White', 'Percent Offer']\n",
        "\n",
        "prot_race_mask_offer = (offer_summary.index != 'White')\n",
        "\n",
        "offer_summary['Marginal Effect'] = offer_summary.loc[prot_race_mask_offer, 'Percent Offer'] - reference_pct\n",
        "offer_summary['AIR'] = offer_summary.loc[prot_race_mask_offer, 'Percent Offer'] / reference_pct\n",
        "\n",
        "offer_summary['Odds'] = offer_summary['Percent Offer'] / (1 - offer_summary['Percent Offer'])\n",
        "reference_odds = offer_summary.at['White', 'Odds']\n",
        "offer_summary['Odds Ratio'] = offer_summary.loc[prot_race_mask_offer, 'Odds'] / reference_odds\n",
        "\n",
        "offer_summary['Z-Statistic'] = offer_logit_fit.tvalues[prot_race_mask_offer]\n",
        "offer_summary['P-Value'] = offer_logit_fit.pvalues[prot_race_mask_offer]\n",
        "\n",
        "format_dict = {keys: '{:0.1%}' for keys in ['Percent Offer', 'P-Value', 'Marginal Effect']}\n",
        "format_dict = {**format_dict, **{keys:'{:0.2f}' for keys in ['AIR', 'Odds', 'Odds Ratio', 'Z-Statistic']}}\n",
        "format_dict = {**format_dict, **{keys:'{:,.0f}' for keys in ['Observations', 'Offers']}}\n",
        "offer_summary.style.format(format_dict, na_rep='-')"
      ],
      "metadata": {
        "colab": {
          "base_uri": "https://localhost:8080/",
          "height": 238
        },
        "id": "iWMOZa68q8yS",
        "outputId": "50dd1d22-eab3-4f73-c505-93220aeab3b2"
      },
      "execution_count": 15,
      "outputs": [
        {
          "output_type": "execute_result",
          "data": {
            "text/plain": [
              "<pandas.io.formats.style.Styler at 0x7cfd7636b160>"
            ],
            "text/html": [
              "<style type=\"text/css\">\n",
              "</style>\n",
              "<table id=\"T_3b35a\" class=\"dataframe\">\n",
              "  <thead>\n",
              "    <tr>\n",
              "      <th class=\"blank level0\" >&nbsp;</th>\n",
              "      <th id=\"T_3b35a_level0_col0\" class=\"col_heading level0 col0\" >Observations</th>\n",
              "      <th id=\"T_3b35a_level0_col1\" class=\"col_heading level0 col1\" >Offers</th>\n",
              "      <th id=\"T_3b35a_level0_col2\" class=\"col_heading level0 col2\" >Percent Offer</th>\n",
              "      <th id=\"T_3b35a_level0_col3\" class=\"col_heading level0 col3\" >Marginal Effect</th>\n",
              "      <th id=\"T_3b35a_level0_col4\" class=\"col_heading level0 col4\" >AIR</th>\n",
              "      <th id=\"T_3b35a_level0_col5\" class=\"col_heading level0 col5\" >Odds</th>\n",
              "      <th id=\"T_3b35a_level0_col6\" class=\"col_heading level0 col6\" >Odds Ratio</th>\n",
              "      <th id=\"T_3b35a_level0_col7\" class=\"col_heading level0 col7\" >Z-Statistic</th>\n",
              "      <th id=\"T_3b35a_level0_col8\" class=\"col_heading level0 col8\" >P-Value</th>\n",
              "    </tr>\n",
              "    <tr>\n",
              "      <th class=\"index_name level0\" >race</th>\n",
              "      <th class=\"blank col0\" >&nbsp;</th>\n",
              "      <th class=\"blank col1\" >&nbsp;</th>\n",
              "      <th class=\"blank col2\" >&nbsp;</th>\n",
              "      <th class=\"blank col3\" >&nbsp;</th>\n",
              "      <th class=\"blank col4\" >&nbsp;</th>\n",
              "      <th class=\"blank col5\" >&nbsp;</th>\n",
              "      <th class=\"blank col6\" >&nbsp;</th>\n",
              "      <th class=\"blank col7\" >&nbsp;</th>\n",
              "      <th class=\"blank col8\" >&nbsp;</th>\n",
              "    </tr>\n",
              "  </thead>\n",
              "  <tbody>\n",
              "    <tr>\n",
              "      <th id=\"T_3b35a_level0_row0\" class=\"row_heading level0 row0\" >Asian</th>\n",
              "      <td id=\"T_3b35a_row0_col0\" class=\"data row0 col0\" >4,014</td>\n",
              "      <td id=\"T_3b35a_row0_col1\" class=\"data row0 col1\" >3,656</td>\n",
              "      <td id=\"T_3b35a_row0_col2\" class=\"data row0 col2\" >91.1%</td>\n",
              "      <td id=\"T_3b35a_row0_col3\" class=\"data row0 col3\" >8.5%</td>\n",
              "      <td id=\"T_3b35a_row0_col4\" class=\"data row0 col4\" >1.10</td>\n",
              "      <td id=\"T_3b35a_row0_col5\" class=\"data row0 col5\" >10.21</td>\n",
              "      <td id=\"T_3b35a_row0_col6\" class=\"data row0 col6\" >2.16</td>\n",
              "      <td id=\"T_3b35a_row0_col7\" class=\"data row0 col7\" >13.52</td>\n",
              "      <td id=\"T_3b35a_row0_col8\" class=\"data row0 col8\" >0.0%</td>\n",
              "    </tr>\n",
              "    <tr>\n",
              "      <th id=\"T_3b35a_level0_row1\" class=\"row_heading level0 row1\" >Black</th>\n",
              "      <td id=\"T_3b35a_row1_col0\" class=\"data row1 col0\" >3,999</td>\n",
              "      <td id=\"T_3b35a_row1_col1\" class=\"data row1 col1\" >2,507</td>\n",
              "      <td id=\"T_3b35a_row1_col2\" class=\"data row1 col2\" >62.7%</td>\n",
              "      <td id=\"T_3b35a_row1_col3\" class=\"data row1 col3\" >-19.9%</td>\n",
              "      <td id=\"T_3b35a_row1_col4\" class=\"data row1 col4\" >0.76</td>\n",
              "      <td id=\"T_3b35a_row1_col5\" class=\"data row1 col5\" >1.68</td>\n",
              "      <td id=\"T_3b35a_row1_col6\" class=\"data row1 col6\" >0.35</td>\n",
              "      <td id=\"T_3b35a_row1_col7\" class=\"data row1 col7\" >-29.53</td>\n",
              "      <td id=\"T_3b35a_row1_col8\" class=\"data row1 col8\" >0.0%</td>\n",
              "    </tr>\n",
              "    <tr>\n",
              "      <th id=\"T_3b35a_level0_row2\" class=\"row_heading level0 row2\" >Hawaiian or pacific islander</th>\n",
              "      <td id=\"T_3b35a_row2_col0\" class=\"data row2 col0\" >141</td>\n",
              "      <td id=\"T_3b35a_row2_col1\" class=\"data row2 col1\" >108</td>\n",
              "      <td id=\"T_3b35a_row2_col2\" class=\"data row2 col2\" >76.6%</td>\n",
              "      <td id=\"T_3b35a_row2_col3\" class=\"data row2 col3\" >-6.0%</td>\n",
              "      <td id=\"T_3b35a_row2_col4\" class=\"data row2 col4\" >0.93</td>\n",
              "      <td id=\"T_3b35a_row2_col5\" class=\"data row2 col5\" >3.27</td>\n",
              "      <td id=\"T_3b35a_row2_col6\" class=\"data row2 col6\" >0.69</td>\n",
              "      <td id=\"T_3b35a_row2_col7\" class=\"data row2 col7\" >-1.85</td>\n",
              "      <td id=\"T_3b35a_row2_col8\" class=\"data row2 col8\" >6.4%</td>\n",
              "    </tr>\n",
              "    <tr>\n",
              "      <th id=\"T_3b35a_level0_row3\" class=\"row_heading level0 row3\" >Native american</th>\n",
              "      <td id=\"T_3b35a_row3_col0\" class=\"data row3 col0\" >227</td>\n",
              "      <td id=\"T_3b35a_row3_col1\" class=\"data row3 col1\" >166</td>\n",
              "      <td id=\"T_3b35a_row3_col2\" class=\"data row3 col2\" >73.1%</td>\n",
              "      <td id=\"T_3b35a_row3_col3\" class=\"data row3 col3\" >-9.4%</td>\n",
              "      <td id=\"T_3b35a_row3_col4\" class=\"data row3 col4\" >0.89</td>\n",
              "      <td id=\"T_3b35a_row3_col5\" class=\"data row3 col5\" >2.72</td>\n",
              "      <td id=\"T_3b35a_row3_col6\" class=\"data row3 col6\" >0.57</td>\n",
              "      <td id=\"T_3b35a_row3_col7\" class=\"data row3 col7\" >-3.69</td>\n",
              "      <td id=\"T_3b35a_row3_col8\" class=\"data row3 col8\" >0.0%</td>\n",
              "    </tr>\n",
              "    <tr>\n",
              "      <th id=\"T_3b35a_level0_row4\" class=\"row_heading level0 row4\" >White</th>\n",
              "      <td id=\"T_3b35a_row4_col0\" class=\"data row4 col0\" >42,788</td>\n",
              "      <td id=\"T_3b35a_row4_col1\" class=\"data row4 col1\" >35,329</td>\n",
              "      <td id=\"T_3b35a_row4_col2\" class=\"data row4 col2\" >82.6%</td>\n",
              "      <td id=\"T_3b35a_row4_col3\" class=\"data row4 col3\" >-</td>\n",
              "      <td id=\"T_3b35a_row4_col4\" class=\"data row4 col4\" >-</td>\n",
              "      <td id=\"T_3b35a_row4_col5\" class=\"data row4 col5\" >4.74</td>\n",
              "      <td id=\"T_3b35a_row4_col6\" class=\"data row4 col6\" >-</td>\n",
              "      <td id=\"T_3b35a_row4_col7\" class=\"data row4 col7\" >-</td>\n",
              "      <td id=\"T_3b35a_row4_col8\" class=\"data row4 col8\" >-</td>\n",
              "    </tr>\n",
              "  </tbody>\n",
              "</table>\n"
            ]
          },
          "metadata": {},
          "execution_count": 15
        }
      ]
    },
    {
      "cell_type": "code",
      "source": [
        "valid_known_race['50% Probability Cutoff'] = (valid_known_race['predictions'] >= 0.5).astype(int)\n",
        "\n",
        "offer_comparison = valid_known_race.groupby(by='race')[['Low Priced Offer', '50% Probability Cutoff']].mean()\n",
        "\n",
        "reference_true_pct, reference_cutoff_pct = offer_comparison.loc['White', :]\n",
        "offer_comparison['AIR - True Offer Rate'] = offer_comparison['Low Priced Offer'] / reference_true_pct\n",
        "offer_comparison['AIR - 50% Cutoff Rate'] = offer_comparison['50% Probability Cutoff'] / reference_cutoff_pct\n",
        "offer_comparison[['AIR - True Offer Rate', 'AIR - 50% Cutoff Rate']].drop(labels='White').style.format('{:0.2f}')"
      ],
      "metadata": {
        "colab": {
          "base_uri": "https://localhost:8080/",
          "height": 206
        },
        "id": "xwCNWODbYzfq",
        "outputId": "ae6b6bbc-0f77-4468-ed5c-ac0743a77cdb"
      },
      "execution_count": 16,
      "outputs": [
        {
          "output_type": "execute_result",
          "data": {
            "text/plain": [
              "<pandas.io.formats.style.Styler at 0x7cfeb2dfa260>"
            ],
            "text/html": [
              "<style type=\"text/css\">\n",
              "</style>\n",
              "<table id=\"T_a4eb6\" class=\"dataframe\">\n",
              "  <thead>\n",
              "    <tr>\n",
              "      <th class=\"blank level0\" >&nbsp;</th>\n",
              "      <th id=\"T_a4eb6_level0_col0\" class=\"col_heading level0 col0\" >AIR - True Offer Rate</th>\n",
              "      <th id=\"T_a4eb6_level0_col1\" class=\"col_heading level0 col1\" >AIR - 50% Cutoff Rate</th>\n",
              "    </tr>\n",
              "    <tr>\n",
              "      <th class=\"index_name level0\" >race</th>\n",
              "      <th class=\"blank col0\" >&nbsp;</th>\n",
              "      <th class=\"blank col1\" >&nbsp;</th>\n",
              "    </tr>\n",
              "  </thead>\n",
              "  <tbody>\n",
              "    <tr>\n",
              "      <th id=\"T_a4eb6_level0_row0\" class=\"row_heading level0 row0\" >Asian</th>\n",
              "      <td id=\"T_a4eb6_row0_col0\" class=\"data row0 col0\" >1.10</td>\n",
              "      <td id=\"T_a4eb6_row0_col1\" class=\"data row0 col1\" >1.01</td>\n",
              "    </tr>\n",
              "    <tr>\n",
              "      <th id=\"T_a4eb6_level0_row1\" class=\"row_heading level0 row1\" >Black</th>\n",
              "      <td id=\"T_a4eb6_row1_col0\" class=\"data row1 col0\" >0.76</td>\n",
              "      <td id=\"T_a4eb6_row1_col1\" class=\"data row1 col1\" >0.95</td>\n",
              "    </tr>\n",
              "    <tr>\n",
              "      <th id=\"T_a4eb6_level0_row2\" class=\"row_heading level0 row2\" >Hawaiian or pacific islander</th>\n",
              "      <td id=\"T_a4eb6_row2_col0\" class=\"data row2 col0\" >0.93</td>\n",
              "      <td id=\"T_a4eb6_row2_col1\" class=\"data row2 col1\" >0.97</td>\n",
              "    </tr>\n",
              "    <tr>\n",
              "      <th id=\"T_a4eb6_level0_row3\" class=\"row_heading level0 row3\" >Native american</th>\n",
              "      <td id=\"T_a4eb6_row3_col0\" class=\"data row3 col0\" >0.89</td>\n",
              "      <td id=\"T_a4eb6_row3_col1\" class=\"data row3 col1\" >0.96</td>\n",
              "    </tr>\n",
              "  </tbody>\n",
              "</table>\n"
            ]
          },
          "metadata": {},
          "execution_count": 16
        }
      ]
    },
    {
      "cell_type": "markdown",
      "metadata": {
        "collapsed": false,
        "pycharm": {
          "name": "#%% md\n"
        },
        "id": "Hno2X_r7pjBB"
      },
      "source": [
        "## Measuring group disparities using open-source software"
      ]
    },
    {
      "cell_type": "code",
      "execution_count": 17,
      "metadata": {
        "id": "LY_n0qwRpjBH",
        "outputId": "52eb0058-7178-44b5-8bfe-9d2f0962a72c",
        "colab": {
          "base_uri": "https://localhost:8080/"
        }
      },
      "outputs": [
        {
          "output_type": "stream",
          "name": "stdout",
          "text": [
            "Non-Hispanic    44966\n",
            "Unknown          8306\n",
            "Hispanic         6218\n",
            "Name: ethnicity, dtype: int64\n",
            "\n",
            "White                           42788\n",
            "Unknown                          8321\n",
            "Asian                            4014\n",
            "Black                            3999\n",
            "Native american                   227\n",
            "Hawaiian or pacific islander      141\n",
            "Name: race, dtype: int64\n"
          ]
        }
      ],
      "source": [
        "print(f\"{valid['ethnicity'].value_counts()}\")\n",
        "print(f\"\\n{valid['race'].value_counts()}\")"
      ]
    },
    {
      "cell_type": "code",
      "execution_count": 18,
      "metadata": {
        "id": "toUEzd2spjBH",
        "outputId": "e90d05e8-227a-4a1d-8124-34d0a6adef04",
        "colab": {
          "base_uri": "https://localhost:8080/"
        }
      },
      "outputs": [
        {
          "output_type": "stream",
          "name": "stdout",
          "text": [
            "hispanic         6218.0\n",
            "non-hispanic    44966.0\n",
            "Black            3999.0\n",
            "White           42788.0\n",
            "Asian            4014.0\n",
            "dtype: float64\n"
          ]
        }
      ],
      "source": [
        "valid.loc[valid['ethnicity'] == 'Hispanic', 'hispanic'] = 1\n",
        "valid.loc[valid['ethnicity'] == 'Non-Hispanic', 'hispanic'] = 0\n",
        "valid['non-hispanic'] = 1 - valid['hispanic']\n",
        "\n",
        "valid.loc[valid['race'] == 'Black', 'Black'] = 1\n",
        "valid.loc[valid['race'] == 'Asian', 'Asian'] = 1\n",
        "valid.loc[valid['race'] == 'White', 'White'] = 1\n",
        "valid.loc[valid['race'].isin(['Black', 'Asian']), 'White'] = 0\n",
        "valid.loc[valid['race'].isin(['Black', 'White']), 'Asian'] = 0\n",
        "valid.loc[valid['race'].isin(['White', 'Asian']), 'Black'] = 0\n",
        "\n",
        "print(f\"{valid[['hispanic', 'non-hispanic', 'Black', 'White', 'Asian']].sum()}\")"
      ]
    },
    {
      "cell_type": "markdown",
      "metadata": {
        "id": "ecRv1XSlpjBH"
      },
      "source": [
        "\n",
        "#### Calculating Group Fairness with SolasAI"
      ]
    },
    {
      "cell_type": "code",
      "execution_count": 19,
      "metadata": {
        "id": "cs-JFhAUpjBH"
      },
      "outputs": [],
      "source": [
        "solas_air = sd.adverse_impact_ratio(\n",
        "    group_data=valid,\n",
        "    protected_groups=['Black', 'Asian', 'female'],\n",
        "    reference_groups=['White', 'White', 'male'],\n",
        "    group_categories=['Race',  'Race',  'Gender'],\n",
        "    outcome=valid['Low Priced Offer'],\n",
        "    air_threshold=0.8,\n",
        "    percent_difference_threshold=0,\n",
        ")\n",
        "solas_air_summary_table = solas_air.summary_table.drop(columns=['Observations', 'Percent Missing'])"
      ]
    },
    {
      "cell_type": "markdown",
      "source": [
        "### Question to Nick [3]\n",
        "\n",
        "1.\t**What do you want to highlight here?**\n",
        "2.\t**Did you want to keep all the columns?**\n",
        "3.\t**What did we learn from the shortfall column?**\n"
      ],
      "metadata": {
        "id": "lqOlJQc7_RB2"
      }
    },
    {
      "cell_type": "code",
      "execution_count": 20,
      "metadata": {
        "id": "Hjy0vw7SpjBI",
        "outputId": "36349030-ec56-4497-81e3-071042ea3304",
        "colab": {
          "base_uri": "https://localhost:8080/",
          "height": 224
        }
      },
      "outputs": [
        {
          "output_type": "display_data",
          "data": {
            "text/plain": [
              "<IPython.core.display.HTML object>"
            ],
            "text/html": [
              "<div>\n",
              "<style scoped>\n",
              "    .dataframe tbody tr th:only-of-type {\n",
              "        vertical-align: middle;\n",
              "    }\n",
              "\n",
              "    .dataframe tbody tr th {\n",
              "        vertical-align: top;\n",
              "    }\n",
              "\n",
              "    .dataframe thead th {\n",
              "        text-align: right;\n",
              "    }\n",
              "</style>\n",
              "<table class=\"dataframe disparity-table\" id=\"disp-output\">\n",
              "  <thead>\n",
              "    <tr style=\"text-align: right;\">\n",
              "      <th>Group</th>\n",
              "      <th>Reference Group</th>\n",
              "      <th>Group Category</th>\n",
              "      <th>Total</th>\n",
              "      <th>Favorable</th>\n",
              "      <th>Percent Favorable</th>\n",
              "      <th>Percent Difference Favorable</th>\n",
              "      <th>AIR</th>\n",
              "      <th>P-Values</th>\n",
              "      <th>Practically Significant</th>\n",
              "      <th>Shortfall</th>\n",
              "    </tr>\n",
              "  </thead>\n",
              "  <tbody>\n",
              "    <tr>\n",
              "      <td>Black</td>\n",
              "      <td>White</td>\n",
              "      <td>Race</td>\n",
              "      <td>3,999.0</td>\n",
              "      <td>2,507.0</td>\n",
              "      <td>62.69%</td>\n",
              "      <td>19.88%</td>\n",
              "      <td>0.759</td>\n",
              "      <td>0.000</td>\n",
              "      <td>Yes</td>\n",
              "      <td>794.9</td>\n",
              "    </tr>\n",
              "    <tr>\n",
              "      <td>Asian</td>\n",
              "      <td>White</td>\n",
              "      <td>Race</td>\n",
              "      <td>4,014.0</td>\n",
              "      <td>3,656.0</td>\n",
              "      <td>91.08%</td>\n",
              "      <td>-8.51%</td>\n",
              "      <td>1.103</td>\n",
              "      <td>0.000</td>\n",
              "      <td>No</td>\n",
              "      <td></td>\n",
              "    </tr>\n",
              "    <tr>\n",
              "      <td>White</td>\n",
              "      <td></td>\n",
              "      <td>Race</td>\n",
              "      <td>42,788.0</td>\n",
              "      <td>35,329.0</td>\n",
              "      <td>82.57%</td>\n",
              "      <td></td>\n",
              "      <td></td>\n",
              "      <td></td>\n",
              "      <td></td>\n",
              "      <td></td>\n",
              "    </tr>\n",
              "    <tr>\n",
              "      <td>female</td>\n",
              "      <td>male</td>\n",
              "      <td>Gender</td>\n",
              "      <td>12,383.0</td>\n",
              "      <td>9,379.0</td>\n",
              "      <td>75.74%</td>\n",
              "      <td>4.75%</td>\n",
              "      <td>0.941</td>\n",
              "      <td>0.000</td>\n",
              "      <td>No</td>\n",
              "      <td></td>\n",
              "    </tr>\n",
              "    <tr>\n",
              "      <td>male</td>\n",
              "      <td></td>\n",
              "      <td>Gender</td>\n",
              "      <td>19,701.0</td>\n",
              "      <td>15,858.0</td>\n",
              "      <td>80.49%</td>\n",
              "      <td></td>\n",
              "      <td></td>\n",
              "      <td></td>\n",
              "      <td></td>\n",
              "      <td></td>\n",
              "    </tr>\n",
              "  </tbody>\n",
              "</table>\n",
              "</div>"
            ]
          },
          "metadata": {}
        }
      ],
      "source": [
        "sd.ui.show(solas_air_summary_table)"
      ]
    },
    {
      "cell_type": "markdown",
      "source": [
        "### Question to Nick [4]\n",
        "\n",
        "1.\t**Is this the formatted output you want to show in the book?**\n"
      ],
      "metadata": {
        "id": "D82WBPV6ANLF"
      }
    },
    {
      "cell_type": "code",
      "execution_count": 21,
      "metadata": {
        "id": "m1GXSpSipjBI",
        "outputId": "4e1317f0-f1e0-41c2-f296-e729bb3e6796",
        "colab": {
          "base_uri": "https://localhost:8080/",
          "height": 206
        }
      },
      "outputs": [
        {
          "output_type": "execute_result",
          "data": {
            "text/plain": [
              "<pandas.io.formats.style.Styler at 0x7cfd75dea170>"
            ],
            "text/html": [
              "<style type=\"text/css\">\n",
              "#T_42926 th {\n",
              "  text-align: right;\n",
              "}\n",
              "#T_42926_row0_col0, #T_42926_row0_col1, #T_42926_row0_col2, #T_42926_row0_col3, #T_42926_row0_col4, #T_42926_row0_col5, #T_42926_row0_col6, #T_42926_row0_col7, #T_42926_row1_col0, #T_42926_row1_col1, #T_42926_row1_col2, #T_42926_row1_col3, #T_42926_row1_col4, #T_42926_row1_col5, #T_42926_row1_col6, #T_42926_row1_col7, #T_42926_row2_col0, #T_42926_row2_col1, #T_42926_row2_col2, #T_42926_row2_col3, #T_42926_row2_col4, #T_42926_row2_col5, #T_42926_row2_col6, #T_42926_row2_col7, #T_42926_row3_col0, #T_42926_row3_col1, #T_42926_row3_col2, #T_42926_row3_col3, #T_42926_row3_col4, #T_42926_row3_col5, #T_42926_row3_col6, #T_42926_row3_col7, #T_42926_row4_col0, #T_42926_row4_col1, #T_42926_row4_col2, #T_42926_row4_col3, #T_42926_row4_col4, #T_42926_row4_col5, #T_42926_row4_col6, #T_42926_row4_col7 {\n",
              "  text-align: right;\n",
              "}\n",
              "</style>\n",
              "<table id=\"T_42926\" class=\"dataframe\">\n",
              "  <thead>\n",
              "    <tr>\n",
              "      <th id=\"T_42926_level0_col0\" class=\"col_heading level0 col0\" >Reference Group</th>\n",
              "      <th id=\"T_42926_level0_col1\" class=\"col_heading level0 col1\" >Group Category</th>\n",
              "      <th id=\"T_42926_level0_col2\" class=\"col_heading level0 col2\" >Total</th>\n",
              "      <th id=\"T_42926_level0_col3\" class=\"col_heading level0 col3\" >Favorable</th>\n",
              "      <th id=\"T_42926_level0_col4\" class=\"col_heading level0 col4\" >Percent Favorable</th>\n",
              "      <th id=\"T_42926_level0_col5\" class=\"col_heading level0 col5\" >AIR</th>\n",
              "      <th id=\"T_42926_level0_col6\" class=\"col_heading level0 col6\" >P-Values</th>\n",
              "      <th id=\"T_42926_level0_col7\" class=\"col_heading level0 col7\" >Practically Significant</th>\n",
              "    </tr>\n",
              "  </thead>\n",
              "  <tbody>\n",
              "    <tr>\n",
              "      <td id=\"T_42926_row0_col0\" class=\"data row0 col0\" >White</td>\n",
              "      <td id=\"T_42926_row0_col1\" class=\"data row0 col1\" >Race</td>\n",
              "      <td id=\"T_42926_row0_col2\" class=\"data row0 col2\" >3,999.0</td>\n",
              "      <td id=\"T_42926_row0_col3\" class=\"data row0 col3\" >2,507.0</td>\n",
              "      <td id=\"T_42926_row0_col4\" class=\"data row0 col4\" >62.69%</td>\n",
              "      <td id=\"T_42926_row0_col5\" class=\"data row0 col5\" >0.759</td>\n",
              "      <td id=\"T_42926_row0_col6\" class=\"data row0 col6\" >0.000</td>\n",
              "      <td id=\"T_42926_row0_col7\" class=\"data row0 col7\" >Yes</td>\n",
              "    </tr>\n",
              "    <tr>\n",
              "      <td id=\"T_42926_row1_col0\" class=\"data row1 col0\" >White</td>\n",
              "      <td id=\"T_42926_row1_col1\" class=\"data row1 col1\" >Race</td>\n",
              "      <td id=\"T_42926_row1_col2\" class=\"data row1 col2\" >4,014.0</td>\n",
              "      <td id=\"T_42926_row1_col3\" class=\"data row1 col3\" >3,656.0</td>\n",
              "      <td id=\"T_42926_row1_col4\" class=\"data row1 col4\" >91.08%</td>\n",
              "      <td id=\"T_42926_row1_col5\" class=\"data row1 col5\" >1.103</td>\n",
              "      <td id=\"T_42926_row1_col6\" class=\"data row1 col6\" >0.000</td>\n",
              "      <td id=\"T_42926_row1_col7\" class=\"data row1 col7\" >No</td>\n",
              "    </tr>\n",
              "    <tr>\n",
              "      <td id=\"T_42926_row2_col0\" class=\"data row2 col0\" ></td>\n",
              "      <td id=\"T_42926_row2_col1\" class=\"data row2 col1\" >Race</td>\n",
              "      <td id=\"T_42926_row2_col2\" class=\"data row2 col2\" >42,788.0</td>\n",
              "      <td id=\"T_42926_row2_col3\" class=\"data row2 col3\" >35,329.0</td>\n",
              "      <td id=\"T_42926_row2_col4\" class=\"data row2 col4\" >82.57%</td>\n",
              "      <td id=\"T_42926_row2_col5\" class=\"data row2 col5\" ></td>\n",
              "      <td id=\"T_42926_row2_col6\" class=\"data row2 col6\" ></td>\n",
              "      <td id=\"T_42926_row2_col7\" class=\"data row2 col7\" ></td>\n",
              "    </tr>\n",
              "    <tr>\n",
              "      <td id=\"T_42926_row3_col0\" class=\"data row3 col0\" >male</td>\n",
              "      <td id=\"T_42926_row3_col1\" class=\"data row3 col1\" >Gender</td>\n",
              "      <td id=\"T_42926_row3_col2\" class=\"data row3 col2\" >12,383.0</td>\n",
              "      <td id=\"T_42926_row3_col3\" class=\"data row3 col3\" >9,379.0</td>\n",
              "      <td id=\"T_42926_row3_col4\" class=\"data row3 col4\" >75.74%</td>\n",
              "      <td id=\"T_42926_row3_col5\" class=\"data row3 col5\" >0.941</td>\n",
              "      <td id=\"T_42926_row3_col6\" class=\"data row3 col6\" >0.000</td>\n",
              "      <td id=\"T_42926_row3_col7\" class=\"data row3 col7\" >No</td>\n",
              "    </tr>\n",
              "    <tr>\n",
              "      <td id=\"T_42926_row4_col0\" class=\"data row4 col0\" ></td>\n",
              "      <td id=\"T_42926_row4_col1\" class=\"data row4 col1\" >Gender</td>\n",
              "      <td id=\"T_42926_row4_col2\" class=\"data row4 col2\" >19,701.0</td>\n",
              "      <td id=\"T_42926_row4_col3\" class=\"data row4 col3\" >15,858.0</td>\n",
              "      <td id=\"T_42926_row4_col4\" class=\"data row4 col4\" >80.49%</td>\n",
              "      <td id=\"T_42926_row4_col5\" class=\"data row4 col5\" ></td>\n",
              "      <td id=\"T_42926_row4_col6\" class=\"data row4 col6\" ></td>\n",
              "      <td id=\"T_42926_row4_col7\" class=\"data row4 col7\" ></td>\n",
              "    </tr>\n",
              "  </tbody>\n",
              "</table>\n"
            ]
          },
          "metadata": {},
          "execution_count": 21
        }
      ],
      "source": [
        "solas_format_dict = sd.ui.df_to_html_defaults(solas_air.summary_table)['formatters']\n",
        "table_xx01 = (solas_air_summary_table\n",
        "             .drop(columns=['Percent Difference Favorable', 'Shortfall'])\n",
        "             .style\n",
        "             .format(formatter=solas_format_dict, na_rep='')\n",
        "             .hide(axis='index')\n",
        "             .set_properties(**{'text-align': 'right'})\n",
        "             .set_table_styles([dict(selector='th', props=[('text-align', 'right')])])\n",
        "             )\n",
        "# dfi.export(table_xx01, 'figure_5_8.png')\n",
        "table_xx01\n"
      ]
    },
    {
      "cell_type": "code",
      "execution_count": 22,
      "metadata": {
        "id": "DNLFmjHjpjBI",
        "outputId": "f71dcde1-5a2d-417d-81a3-186ff58d5550",
        "colab": {
          "base_uri": "https://localhost:8080/",
          "height": 580
        }
      },
      "outputs": [
        {
          "output_type": "display_data",
          "data": {
            "text/html": [
              "<html>\n",
              "<head><meta charset=\"utf-8\" /></head>\n",
              "<body>\n",
              "    <div>            <script src=\"https://cdnjs.cloudflare.com/ajax/libs/mathjax/2.7.5/MathJax.js?config=TeX-AMS-MML_SVG\"></script><script type=\"text/javascript\">if (window.MathJax && window.MathJax.Hub && window.MathJax.Hub.Config) {window.MathJax.Hub.Config({SVG: {font: \"STIX-Web\"}});}</script>                <script type=\"text/javascript\">window.PlotlyConfig = {MathJaxConfig: 'local'};</script>\n",
              "        <script charset=\"utf-8\" src=\"https://cdn.plot.ly/plotly-2.35.2.min.js\"></script>                <div id=\"822af74b-7375-4c91-abeb-077fdcd6793a\" class=\"plotly-graph-div\" style=\"height:563px; width:900px;\"></div>            <script type=\"text/javascript\">                                    window.PLOTLYENV=window.PLOTLYENV || {};                                    if (document.getElementById(\"822af74b-7375-4c91-abeb-077fdcd6793a\")) {                    Plotly.newPlot(                        \"822af74b-7375-4c91-abeb-077fdcd6793a\",                        [{\"hoverlabel\":{\"font\":{\"color\":\"Black\"}},\"hovertemplate\":\"%{x}, %{y}\",\"legendgroup\":\"Race\",\"legendgrouptitle\":{\"text\":\"Race\"},\"marker\":{\"color\":\"RGBA(78, 121, 167, 1.0)\",\"line\":{\"color\":\"rgb(8,48,107)\"},\"pattern\":{\"shape\":\"\\u002f\"}},\"name\":\"Black\",\"text\":\"0.759\",\"textfont\":{\"color\":\"Black\"},\"x\":[[\"Race\"],[\"Black\"]],\"y\":[0.7592653350294466],\"type\":\"bar\"},{\"hoverlabel\":{\"font\":{\"color\":\"Black\"}},\"hovertemplate\":\"%{x}, %{y}\",\"legendgroup\":\"Race\",\"legendgrouptitle\":{\"text\":\"Race\"},\"marker\":{\"color\":\"RGBA(78, 121, 167, 0.8333333333333334)\",\"line\":{\"color\":\"rgb(8,48,107)\"},\"pattern\":{\"shape\":\"\"}},\"name\":\"Asian\",\"text\":\"1.103\",\"textfont\":{\"color\":\"Black\"},\"x\":[[\"Race\"],[\"Asian\"]],\"y\":[1.1031116248103474],\"type\":\"bar\"},{\"hoverlabel\":{\"font\":{\"color\":\"Black\"}},\"hovertemplate\":\"%{x}, %{y}\",\"legendgroup\":\"Gender\",\"legendgrouptitle\":{\"text\":\"Gender\"},\"marker\":{\"color\":\"RGBA(242, 142, 45, 1.0)\",\"line\":{\"color\":\"rgb(8,48,107)\"},\"pattern\":{\"shape\":\"\"}},\"name\":\"female\",\"text\":\"0.941\",\"textfont\":{\"color\":\"Black\"},\"x\":[[\"Gender\"],[\"female\"]],\"y\":[0.9409586098183195],\"type\":\"bar\"},{\"legendgroup\":\"AIR Threshold\",\"legendgrouptitle\":{\"text\":\"Threshold\"},\"line\":{\"color\":\"Black\",\"dash\":\"dot\",\"width\":1.25},\"mode\":\"lines\",\"name\":\"AIR Threshold\",\"showlegend\":true,\"x\":[null],\"y\":[null],\"type\":\"scatter\"}],                        {\"template\":{\"data\":{\"histogram2dcontour\":[{\"type\":\"histogram2dcontour\",\"colorbar\":{\"outlinewidth\":0,\"ticks\":\"\"},\"colorscale\":[[0.0,\"#0d0887\"],[0.1111111111111111,\"#46039f\"],[0.2222222222222222,\"#7201a8\"],[0.3333333333333333,\"#9c179e\"],[0.4444444444444444,\"#bd3786\"],[0.5555555555555556,\"#d8576b\"],[0.6666666666666666,\"#ed7953\"],[0.7777777777777778,\"#fb9f3a\"],[0.8888888888888888,\"#fdca26\"],[1.0,\"#f0f921\"]]}],\"choropleth\":[{\"type\":\"choropleth\",\"colorbar\":{\"outlinewidth\":0,\"ticks\":\"\"}}],\"histogram2d\":[{\"type\":\"histogram2d\",\"colorbar\":{\"outlinewidth\":0,\"ticks\":\"\"},\"colorscale\":[[0.0,\"#0d0887\"],[0.1111111111111111,\"#46039f\"],[0.2222222222222222,\"#7201a8\"],[0.3333333333333333,\"#9c179e\"],[0.4444444444444444,\"#bd3786\"],[0.5555555555555556,\"#d8576b\"],[0.6666666666666666,\"#ed7953\"],[0.7777777777777778,\"#fb9f3a\"],[0.8888888888888888,\"#fdca26\"],[1.0,\"#f0f921\"]]}],\"heatmap\":[{\"type\":\"heatmap\",\"colorbar\":{\"outlinewidth\":0,\"ticks\":\"\"},\"colorscale\":[[0.0,\"#0d0887\"],[0.1111111111111111,\"#46039f\"],[0.2222222222222222,\"#7201a8\"],[0.3333333333333333,\"#9c179e\"],[0.4444444444444444,\"#bd3786\"],[0.5555555555555556,\"#d8576b\"],[0.6666666666666666,\"#ed7953\"],[0.7777777777777778,\"#fb9f3a\"],[0.8888888888888888,\"#fdca26\"],[1.0,\"#f0f921\"]]}],\"heatmapgl\":[{\"type\":\"heatmapgl\",\"colorbar\":{\"outlinewidth\":0,\"ticks\":\"\"},\"colorscale\":[[0.0,\"#0d0887\"],[0.1111111111111111,\"#46039f\"],[0.2222222222222222,\"#7201a8\"],[0.3333333333333333,\"#9c179e\"],[0.4444444444444444,\"#bd3786\"],[0.5555555555555556,\"#d8576b\"],[0.6666666666666666,\"#ed7953\"],[0.7777777777777778,\"#fb9f3a\"],[0.8888888888888888,\"#fdca26\"],[1.0,\"#f0f921\"]]}],\"contourcarpet\":[{\"type\":\"contourcarpet\",\"colorbar\":{\"outlinewidth\":0,\"ticks\":\"\"}}],\"contour\":[{\"type\":\"contour\",\"colorbar\":{\"outlinewidth\":0,\"ticks\":\"\"},\"colorscale\":[[0.0,\"#0d0887\"],[0.1111111111111111,\"#46039f\"],[0.2222222222222222,\"#7201a8\"],[0.3333333333333333,\"#9c179e\"],[0.4444444444444444,\"#bd3786\"],[0.5555555555555556,\"#d8576b\"],[0.6666666666666666,\"#ed7953\"],[0.7777777777777778,\"#fb9f3a\"],[0.8888888888888888,\"#fdca26\"],[1.0,\"#f0f921\"]]}],\"surface\":[{\"type\":\"surface\",\"colorbar\":{\"outlinewidth\":0,\"ticks\":\"\"},\"colorscale\":[[0.0,\"#0d0887\"],[0.1111111111111111,\"#46039f\"],[0.2222222222222222,\"#7201a8\"],[0.3333333333333333,\"#9c179e\"],[0.4444444444444444,\"#bd3786\"],[0.5555555555555556,\"#d8576b\"],[0.6666666666666666,\"#ed7953\"],[0.7777777777777778,\"#fb9f3a\"],[0.8888888888888888,\"#fdca26\"],[1.0,\"#f0f921\"]]}],\"mesh3d\":[{\"type\":\"mesh3d\",\"colorbar\":{\"outlinewidth\":0,\"ticks\":\"\"}}],\"scatter\":[{\"fillpattern\":{\"fillmode\":\"overlay\",\"size\":10,\"solidity\":0.2},\"type\":\"scatter\"}],\"parcoords\":[{\"type\":\"parcoords\",\"line\":{\"colorbar\":{\"outlinewidth\":0,\"ticks\":\"\"}}}],\"scatterpolargl\":[{\"type\":\"scatterpolargl\",\"marker\":{\"colorbar\":{\"outlinewidth\":0,\"ticks\":\"\"}}}],\"bar\":[{\"error_x\":{\"color\":\"#2a3f5f\"},\"error_y\":{\"color\":\"#2a3f5f\"},\"marker\":{\"line\":{\"color\":\"#E5ECF6\",\"width\":0.5},\"pattern\":{\"fillmode\":\"overlay\",\"size\":10,\"solidity\":0.2}},\"type\":\"bar\"}],\"scattergeo\":[{\"type\":\"scattergeo\",\"marker\":{\"colorbar\":{\"outlinewidth\":0,\"ticks\":\"\"}}}],\"scatterpolar\":[{\"type\":\"scatterpolar\",\"marker\":{\"colorbar\":{\"outlinewidth\":0,\"ticks\":\"\"}}}],\"histogram\":[{\"marker\":{\"pattern\":{\"fillmode\":\"overlay\",\"size\":10,\"solidity\":0.2}},\"type\":\"histogram\"}],\"scattergl\":[{\"type\":\"scattergl\",\"marker\":{\"colorbar\":{\"outlinewidth\":0,\"ticks\":\"\"}}}],\"scatter3d\":[{\"type\":\"scatter3d\",\"line\":{\"colorbar\":{\"outlinewidth\":0,\"ticks\":\"\"}},\"marker\":{\"colorbar\":{\"outlinewidth\":0,\"ticks\":\"\"}}}],\"scattermapbox\":[{\"type\":\"scattermapbox\",\"marker\":{\"colorbar\":{\"outlinewidth\":0,\"ticks\":\"\"}}}],\"scatterternary\":[{\"type\":\"scatterternary\",\"marker\":{\"colorbar\":{\"outlinewidth\":0,\"ticks\":\"\"}}}],\"scattercarpet\":[{\"type\":\"scattercarpet\",\"marker\":{\"colorbar\":{\"outlinewidth\":0,\"ticks\":\"\"}}}],\"carpet\":[{\"aaxis\":{\"endlinecolor\":\"#2a3f5f\",\"gridcolor\":\"white\",\"linecolor\":\"white\",\"minorgridcolor\":\"white\",\"startlinecolor\":\"#2a3f5f\"},\"baxis\":{\"endlinecolor\":\"#2a3f5f\",\"gridcolor\":\"white\",\"linecolor\":\"white\",\"minorgridcolor\":\"white\",\"startlinecolor\":\"#2a3f5f\"},\"type\":\"carpet\"}],\"table\":[{\"cells\":{\"fill\":{\"color\":\"#EBF0F8\"},\"line\":{\"color\":\"white\"}},\"header\":{\"fill\":{\"color\":\"#C8D4E3\"},\"line\":{\"color\":\"white\"}},\"type\":\"table\"}],\"barpolar\":[{\"marker\":{\"line\":{\"color\":\"#E5ECF6\",\"width\":0.5},\"pattern\":{\"fillmode\":\"overlay\",\"size\":10,\"solidity\":0.2}},\"type\":\"barpolar\"}],\"pie\":[{\"automargin\":true,\"type\":\"pie\"}]},\"layout\":{\"autotypenumbers\":\"strict\",\"colorway\":[\"#636efa\",\"#EF553B\",\"#00cc96\",\"#ab63fa\",\"#FFA15A\",\"#19d3f3\",\"#FF6692\",\"#B6E880\",\"#FF97FF\",\"#FECB52\"],\"font\":{\"color\":\"#2a3f5f\"},\"hovermode\":\"closest\",\"hoverlabel\":{\"align\":\"left\"},\"paper_bgcolor\":\"white\",\"plot_bgcolor\":\"#E5ECF6\",\"polar\":{\"bgcolor\":\"#E5ECF6\",\"angularaxis\":{\"gridcolor\":\"white\",\"linecolor\":\"white\",\"ticks\":\"\"},\"radialaxis\":{\"gridcolor\":\"white\",\"linecolor\":\"white\",\"ticks\":\"\"}},\"ternary\":{\"bgcolor\":\"#E5ECF6\",\"aaxis\":{\"gridcolor\":\"white\",\"linecolor\":\"white\",\"ticks\":\"\"},\"baxis\":{\"gridcolor\":\"white\",\"linecolor\":\"white\",\"ticks\":\"\"},\"caxis\":{\"gridcolor\":\"white\",\"linecolor\":\"white\",\"ticks\":\"\"}},\"coloraxis\":{\"colorbar\":{\"outlinewidth\":0,\"ticks\":\"\"}},\"colorscale\":{\"sequential\":[[0.0,\"#0d0887\"],[0.1111111111111111,\"#46039f\"],[0.2222222222222222,\"#7201a8\"],[0.3333333333333333,\"#9c179e\"],[0.4444444444444444,\"#bd3786\"],[0.5555555555555556,\"#d8576b\"],[0.6666666666666666,\"#ed7953\"],[0.7777777777777778,\"#fb9f3a\"],[0.8888888888888888,\"#fdca26\"],[1.0,\"#f0f921\"]],\"sequentialminus\":[[0.0,\"#0d0887\"],[0.1111111111111111,\"#46039f\"],[0.2222222222222222,\"#7201a8\"],[0.3333333333333333,\"#9c179e\"],[0.4444444444444444,\"#bd3786\"],[0.5555555555555556,\"#d8576b\"],[0.6666666666666666,\"#ed7953\"],[0.7777777777777778,\"#fb9f3a\"],[0.8888888888888888,\"#fdca26\"],[1.0,\"#f0f921\"]],\"diverging\":[[0,\"#8e0152\"],[0.1,\"#c51b7d\"],[0.2,\"#de77ae\"],[0.3,\"#f1b6da\"],[0.4,\"#fde0ef\"],[0.5,\"#f7f7f7\"],[0.6,\"#e6f5d0\"],[0.7,\"#b8e186\"],[0.8,\"#7fbc41\"],[0.9,\"#4d9221\"],[1,\"#276419\"]]},\"xaxis\":{\"gridcolor\":\"white\",\"linecolor\":\"white\",\"ticks\":\"\",\"title\":{\"standoff\":15},\"zerolinecolor\":\"white\",\"automargin\":true,\"zerolinewidth\":2},\"yaxis\":{\"gridcolor\":\"white\",\"linecolor\":\"white\",\"ticks\":\"\",\"title\":{\"standoff\":15},\"zerolinecolor\":\"white\",\"automargin\":true,\"zerolinewidth\":2},\"scene\":{\"xaxis\":{\"backgroundcolor\":\"#E5ECF6\",\"gridcolor\":\"white\",\"linecolor\":\"white\",\"showbackground\":true,\"ticks\":\"\",\"zerolinecolor\":\"white\",\"gridwidth\":2},\"yaxis\":{\"backgroundcolor\":\"#E5ECF6\",\"gridcolor\":\"white\",\"linecolor\":\"white\",\"showbackground\":true,\"ticks\":\"\",\"zerolinecolor\":\"white\",\"gridwidth\":2},\"zaxis\":{\"backgroundcolor\":\"#E5ECF6\",\"gridcolor\":\"white\",\"linecolor\":\"white\",\"showbackground\":true,\"ticks\":\"\",\"zerolinecolor\":\"white\",\"gridwidth\":2}},\"shapedefaults\":{\"line\":{\"color\":\"#2a3f5f\"}},\"annotationdefaults\":{\"arrowcolor\":\"#2a3f5f\",\"arrowhead\":0,\"arrowwidth\":1},\"geo\":{\"bgcolor\":\"white\",\"landcolor\":\"#E5ECF6\",\"subunitcolor\":\"white\",\"showland\":true,\"showlakes\":true,\"lakecolor\":\"white\"},\"title\":{\"x\":0.05},\"mapbox\":{\"style\":\"light\"}}},\"yaxis\":{\"tickformat\":\"0,.3f\",\"title\":{\"text\":\"AIR\"},\"fixedrange\":true,\"ticksuffix\":\"  \"},\"scene\":{\"yaxis\":{\"exponentformat\":\"none\",\"separatethousands\":true}},\"font\":{\"color\":\"Black\"},\"legend\":{\"itemclick\":false,\"itemdoubleclick\":false},\"title\":{\"text\":\"AIR\"},\"width\":900,\"height\":563,\"xaxis\":{\"title\":{\"text\":\"Group\"},\"fixedrange\":true},\"shapes\":[{\"line\":{\"color\":\"Black\",\"dash\":\"dot\",\"width\":1.25},\"name\":\"AIR Threshold\",\"type\":\"line\",\"x0\":0,\"x1\":1,\"xref\":\"paper\",\"y0\":0.8,\"y1\":0.8,\"yref\":\"y\"}]},                        {\"responsive\": true}                    ).then(function(){\n",
              "                            \n",
              "var gd = document.getElementById('822af74b-7375-4c91-abeb-077fdcd6793a');\n",
              "var x = new MutationObserver(function (mutations, observer) {{\n",
              "        var display = window.getComputedStyle(gd).display;\n",
              "        if (!display || display === 'none') {{\n",
              "            console.log([gd, 'removed!']);\n",
              "            Plotly.purge(gd);\n",
              "            observer.disconnect();\n",
              "        }}\n",
              "}});\n",
              "\n",
              "// Listen for the removal of the full notebook cells\n",
              "var notebookContainer = gd.closest('#notebook-container');\n",
              "if (notebookContainer) {{\n",
              "    x.observe(notebookContainer, {childList: true});\n",
              "}}\n",
              "\n",
              "// Listen for the clearing of the current output cell\n",
              "var outputEl = gd.closest('.output');\n",
              "if (outputEl) {{\n",
              "    x.observe(outputEl, {childList: true});\n",
              "}}\n",
              "\n",
              "                        })                };                            </script>        </div>\n",
              "</body>\n",
              "</html>"
            ]
          },
          "metadata": {}
        }
      ],
      "source": [
        "solas_air.plot()"
      ]
    },
    {
      "cell_type": "markdown",
      "source": [],
      "metadata": {
        "id": "933tPQCbBJTf"
      }
    },
    {
      "cell_type": "code",
      "execution_count": 23,
      "metadata": {
        "id": "2mcq99_JpjBI",
        "outputId": "7313f01b-dfb9-4da2-fff2-575a8eaf898e",
        "colab": {
          "base_uri": "https://localhost:8080/",
          "height": 580
        }
      },
      "outputs": [
        {
          "output_type": "display_data",
          "data": {
            "text/html": [
              "<html>\n",
              "<head><meta charset=\"utf-8\" /></head>\n",
              "<body>\n",
              "    <div>            <script src=\"https://cdnjs.cloudflare.com/ajax/libs/mathjax/2.7.5/MathJax.js?config=TeX-AMS-MML_SVG\"></script><script type=\"text/javascript\">if (window.MathJax && window.MathJax.Hub && window.MathJax.Hub.Config) {window.MathJax.Hub.Config({SVG: {font: \"STIX-Web\"}});}</script>                <script type=\"text/javascript\">window.PlotlyConfig = {MathJaxConfig: 'local'};</script>\n",
              "        <script charset=\"utf-8\" src=\"https://cdn.plot.ly/plotly-2.35.2.min.js\"></script>                <div id=\"9a60e1ea-232a-43e4-b937-019a9abd89b8\" class=\"plotly-graph-div\" style=\"height:563px; width:900px;\"></div>            <script type=\"text/javascript\">                                    window.PLOTLYENV=window.PLOTLYENV || {};                                    if (document.getElementById(\"9a60e1ea-232a-43e4-b937-019a9abd89b8\")) {                    Plotly.newPlot(                        \"9a60e1ea-232a-43e4-b937-019a9abd89b8\",                        [{\"hoverlabel\":{\"font\":{\"color\":\"Black\"}},\"hovertemplate\":\"%{x}, %{y}\",\"legendgroup\":\"Race\",\"legendgrouptitle\":{\"text\":\"Race\"},\"marker\":{\"color\":\"RGBA(78, 121, 167, 1.0)\",\"line\":{\"color\":\"rgb(8,48,107)\"},\"pattern\":{\"shape\":\"\"}},\"name\":\"Black\",\"text\":\"3,999.0\",\"textfont\":{\"color\":\"Black\"},\"x\":[[\"Race\"],[\"Black\"]],\"y\":[3999.0],\"type\":\"bar\"},{\"hoverlabel\":{\"font\":{\"color\":\"Black\"}},\"hovertemplate\":\"%{x}, %{y}\",\"legendgroup\":\"Race\",\"legendgrouptitle\":{\"text\":\"Race\"},\"marker\":{\"color\":\"RGBA(78, 121, 167, 0.8333333333333334)\",\"line\":{\"color\":\"rgb(8,48,107)\"},\"pattern\":{\"shape\":\"\"}},\"name\":\"Asian\",\"text\":\"4,014.0\",\"textfont\":{\"color\":\"Black\"},\"x\":[[\"Race\"],[\"Asian\"]],\"y\":[4014.0],\"type\":\"bar\"},{\"hoverlabel\":{\"font\":{\"color\":\"Black\"}},\"hovertemplate\":\"%{x}, %{y}\",\"legendgroup\":\"Race\",\"legendgrouptitle\":{\"text\":\"Race\"},\"marker\":{\"color\":\"RGBA(78, 121, 167, 0.6666666666666666)\",\"line\":{\"color\":\"rgb(8,48,107)\"},\"pattern\":{\"shape\":\"\"}},\"name\":\"White\",\"text\":\"42,788.0\",\"textfont\":{\"color\":\"Black\"},\"x\":[[\"Race\"],[\"White\"]],\"y\":[42788.0],\"type\":\"bar\"},{\"hoverlabel\":{\"font\":{\"color\":\"Black\"}},\"hovertemplate\":\"%{x}, %{y}\",\"legendgroup\":\"Gender\",\"legendgrouptitle\":{\"text\":\"Gender\"},\"marker\":{\"color\":\"RGBA(242, 142, 45, 1.0)\",\"line\":{\"color\":\"rgb(8,48,107)\"},\"pattern\":{\"shape\":\"\"}},\"name\":\"female\",\"text\":\"12,383.0\",\"textfont\":{\"color\":\"Black\"},\"x\":[[\"Gender\"],[\"female\"]],\"y\":[12383.0],\"type\":\"bar\"},{\"hoverlabel\":{\"font\":{\"color\":\"Black\"}},\"hovertemplate\":\"%{x}, %{y}\",\"legendgroup\":\"Gender\",\"legendgrouptitle\":{\"text\":\"Gender\"},\"marker\":{\"color\":\"RGBA(242, 142, 45, 0.75)\",\"line\":{\"color\":\"rgb(8,48,107)\"},\"pattern\":{\"shape\":\"\"}},\"name\":\"male\",\"text\":\"19,701.0\",\"textfont\":{\"color\":\"Black\"},\"x\":[[\"Gender\"],[\"male\"]],\"y\":[19701.0],\"type\":\"bar\"}],                        {\"template\":{\"data\":{\"histogram2dcontour\":[{\"type\":\"histogram2dcontour\",\"colorbar\":{\"outlinewidth\":0,\"ticks\":\"\"},\"colorscale\":[[0.0,\"#0d0887\"],[0.1111111111111111,\"#46039f\"],[0.2222222222222222,\"#7201a8\"],[0.3333333333333333,\"#9c179e\"],[0.4444444444444444,\"#bd3786\"],[0.5555555555555556,\"#d8576b\"],[0.6666666666666666,\"#ed7953\"],[0.7777777777777778,\"#fb9f3a\"],[0.8888888888888888,\"#fdca26\"],[1.0,\"#f0f921\"]]}],\"choropleth\":[{\"type\":\"choropleth\",\"colorbar\":{\"outlinewidth\":0,\"ticks\":\"\"}}],\"histogram2d\":[{\"type\":\"histogram2d\",\"colorbar\":{\"outlinewidth\":0,\"ticks\":\"\"},\"colorscale\":[[0.0,\"#0d0887\"],[0.1111111111111111,\"#46039f\"],[0.2222222222222222,\"#7201a8\"],[0.3333333333333333,\"#9c179e\"],[0.4444444444444444,\"#bd3786\"],[0.5555555555555556,\"#d8576b\"],[0.6666666666666666,\"#ed7953\"],[0.7777777777777778,\"#fb9f3a\"],[0.8888888888888888,\"#fdca26\"],[1.0,\"#f0f921\"]]}],\"heatmap\":[{\"type\":\"heatmap\",\"colorbar\":{\"outlinewidth\":0,\"ticks\":\"\"},\"colorscale\":[[0.0,\"#0d0887\"],[0.1111111111111111,\"#46039f\"],[0.2222222222222222,\"#7201a8\"],[0.3333333333333333,\"#9c179e\"],[0.4444444444444444,\"#bd3786\"],[0.5555555555555556,\"#d8576b\"],[0.6666666666666666,\"#ed7953\"],[0.7777777777777778,\"#fb9f3a\"],[0.8888888888888888,\"#fdca26\"],[1.0,\"#f0f921\"]]}],\"heatmapgl\":[{\"type\":\"heatmapgl\",\"colorbar\":{\"outlinewidth\":0,\"ticks\":\"\"},\"colorscale\":[[0.0,\"#0d0887\"],[0.1111111111111111,\"#46039f\"],[0.2222222222222222,\"#7201a8\"],[0.3333333333333333,\"#9c179e\"],[0.4444444444444444,\"#bd3786\"],[0.5555555555555556,\"#d8576b\"],[0.6666666666666666,\"#ed7953\"],[0.7777777777777778,\"#fb9f3a\"],[0.8888888888888888,\"#fdca26\"],[1.0,\"#f0f921\"]]}],\"contourcarpet\":[{\"type\":\"contourcarpet\",\"colorbar\":{\"outlinewidth\":0,\"ticks\":\"\"}}],\"contour\":[{\"type\":\"contour\",\"colorbar\":{\"outlinewidth\":0,\"ticks\":\"\"},\"colorscale\":[[0.0,\"#0d0887\"],[0.1111111111111111,\"#46039f\"],[0.2222222222222222,\"#7201a8\"],[0.3333333333333333,\"#9c179e\"],[0.4444444444444444,\"#bd3786\"],[0.5555555555555556,\"#d8576b\"],[0.6666666666666666,\"#ed7953\"],[0.7777777777777778,\"#fb9f3a\"],[0.8888888888888888,\"#fdca26\"],[1.0,\"#f0f921\"]]}],\"surface\":[{\"type\":\"surface\",\"colorbar\":{\"outlinewidth\":0,\"ticks\":\"\"},\"colorscale\":[[0.0,\"#0d0887\"],[0.1111111111111111,\"#46039f\"],[0.2222222222222222,\"#7201a8\"],[0.3333333333333333,\"#9c179e\"],[0.4444444444444444,\"#bd3786\"],[0.5555555555555556,\"#d8576b\"],[0.6666666666666666,\"#ed7953\"],[0.7777777777777778,\"#fb9f3a\"],[0.8888888888888888,\"#fdca26\"],[1.0,\"#f0f921\"]]}],\"mesh3d\":[{\"type\":\"mesh3d\",\"colorbar\":{\"outlinewidth\":0,\"ticks\":\"\"}}],\"scatter\":[{\"fillpattern\":{\"fillmode\":\"overlay\",\"size\":10,\"solidity\":0.2},\"type\":\"scatter\"}],\"parcoords\":[{\"type\":\"parcoords\",\"line\":{\"colorbar\":{\"outlinewidth\":0,\"ticks\":\"\"}}}],\"scatterpolargl\":[{\"type\":\"scatterpolargl\",\"marker\":{\"colorbar\":{\"outlinewidth\":0,\"ticks\":\"\"}}}],\"bar\":[{\"error_x\":{\"color\":\"#2a3f5f\"},\"error_y\":{\"color\":\"#2a3f5f\"},\"marker\":{\"line\":{\"color\":\"#E5ECF6\",\"width\":0.5},\"pattern\":{\"fillmode\":\"overlay\",\"size\":10,\"solidity\":0.2}},\"type\":\"bar\"}],\"scattergeo\":[{\"type\":\"scattergeo\",\"marker\":{\"colorbar\":{\"outlinewidth\":0,\"ticks\":\"\"}}}],\"scatterpolar\":[{\"type\":\"scatterpolar\",\"marker\":{\"colorbar\":{\"outlinewidth\":0,\"ticks\":\"\"}}}],\"histogram\":[{\"marker\":{\"pattern\":{\"fillmode\":\"overlay\",\"size\":10,\"solidity\":0.2}},\"type\":\"histogram\"}],\"scattergl\":[{\"type\":\"scattergl\",\"marker\":{\"colorbar\":{\"outlinewidth\":0,\"ticks\":\"\"}}}],\"scatter3d\":[{\"type\":\"scatter3d\",\"line\":{\"colorbar\":{\"outlinewidth\":0,\"ticks\":\"\"}},\"marker\":{\"colorbar\":{\"outlinewidth\":0,\"ticks\":\"\"}}}],\"scattermapbox\":[{\"type\":\"scattermapbox\",\"marker\":{\"colorbar\":{\"outlinewidth\":0,\"ticks\":\"\"}}}],\"scatterternary\":[{\"type\":\"scatterternary\",\"marker\":{\"colorbar\":{\"outlinewidth\":0,\"ticks\":\"\"}}}],\"scattercarpet\":[{\"type\":\"scattercarpet\",\"marker\":{\"colorbar\":{\"outlinewidth\":0,\"ticks\":\"\"}}}],\"carpet\":[{\"aaxis\":{\"endlinecolor\":\"#2a3f5f\",\"gridcolor\":\"white\",\"linecolor\":\"white\",\"minorgridcolor\":\"white\",\"startlinecolor\":\"#2a3f5f\"},\"baxis\":{\"endlinecolor\":\"#2a3f5f\",\"gridcolor\":\"white\",\"linecolor\":\"white\",\"minorgridcolor\":\"white\",\"startlinecolor\":\"#2a3f5f\"},\"type\":\"carpet\"}],\"table\":[{\"cells\":{\"fill\":{\"color\":\"#EBF0F8\"},\"line\":{\"color\":\"white\"}},\"header\":{\"fill\":{\"color\":\"#C8D4E3\"},\"line\":{\"color\":\"white\"}},\"type\":\"table\"}],\"barpolar\":[{\"marker\":{\"line\":{\"color\":\"#E5ECF6\",\"width\":0.5},\"pattern\":{\"fillmode\":\"overlay\",\"size\":10,\"solidity\":0.2}},\"type\":\"barpolar\"}],\"pie\":[{\"automargin\":true,\"type\":\"pie\"}]},\"layout\":{\"autotypenumbers\":\"strict\",\"colorway\":[\"#636efa\",\"#EF553B\",\"#00cc96\",\"#ab63fa\",\"#FFA15A\",\"#19d3f3\",\"#FF6692\",\"#B6E880\",\"#FF97FF\",\"#FECB52\"],\"font\":{\"color\":\"#2a3f5f\"},\"hovermode\":\"closest\",\"hoverlabel\":{\"align\":\"left\"},\"paper_bgcolor\":\"white\",\"plot_bgcolor\":\"#E5ECF6\",\"polar\":{\"bgcolor\":\"#E5ECF6\",\"angularaxis\":{\"gridcolor\":\"white\",\"linecolor\":\"white\",\"ticks\":\"\"},\"radialaxis\":{\"gridcolor\":\"white\",\"linecolor\":\"white\",\"ticks\":\"\"}},\"ternary\":{\"bgcolor\":\"#E5ECF6\",\"aaxis\":{\"gridcolor\":\"white\",\"linecolor\":\"white\",\"ticks\":\"\"},\"baxis\":{\"gridcolor\":\"white\",\"linecolor\":\"white\",\"ticks\":\"\"},\"caxis\":{\"gridcolor\":\"white\",\"linecolor\":\"white\",\"ticks\":\"\"}},\"coloraxis\":{\"colorbar\":{\"outlinewidth\":0,\"ticks\":\"\"}},\"colorscale\":{\"sequential\":[[0.0,\"#0d0887\"],[0.1111111111111111,\"#46039f\"],[0.2222222222222222,\"#7201a8\"],[0.3333333333333333,\"#9c179e\"],[0.4444444444444444,\"#bd3786\"],[0.5555555555555556,\"#d8576b\"],[0.6666666666666666,\"#ed7953\"],[0.7777777777777778,\"#fb9f3a\"],[0.8888888888888888,\"#fdca26\"],[1.0,\"#f0f921\"]],\"sequentialminus\":[[0.0,\"#0d0887\"],[0.1111111111111111,\"#46039f\"],[0.2222222222222222,\"#7201a8\"],[0.3333333333333333,\"#9c179e\"],[0.4444444444444444,\"#bd3786\"],[0.5555555555555556,\"#d8576b\"],[0.6666666666666666,\"#ed7953\"],[0.7777777777777778,\"#fb9f3a\"],[0.8888888888888888,\"#fdca26\"],[1.0,\"#f0f921\"]],\"diverging\":[[0,\"#8e0152\"],[0.1,\"#c51b7d\"],[0.2,\"#de77ae\"],[0.3,\"#f1b6da\"],[0.4,\"#fde0ef\"],[0.5,\"#f7f7f7\"],[0.6,\"#e6f5d0\"],[0.7,\"#b8e186\"],[0.8,\"#7fbc41\"],[0.9,\"#4d9221\"],[1,\"#276419\"]]},\"xaxis\":{\"gridcolor\":\"white\",\"linecolor\":\"white\",\"ticks\":\"\",\"title\":{\"standoff\":15},\"zerolinecolor\":\"white\",\"automargin\":true,\"zerolinewidth\":2},\"yaxis\":{\"gridcolor\":\"white\",\"linecolor\":\"white\",\"ticks\":\"\",\"title\":{\"standoff\":15},\"zerolinecolor\":\"white\",\"automargin\":true,\"zerolinewidth\":2},\"scene\":{\"xaxis\":{\"backgroundcolor\":\"#E5ECF6\",\"gridcolor\":\"white\",\"linecolor\":\"white\",\"showbackground\":true,\"ticks\":\"\",\"zerolinecolor\":\"white\",\"gridwidth\":2},\"yaxis\":{\"backgroundcolor\":\"#E5ECF6\",\"gridcolor\":\"white\",\"linecolor\":\"white\",\"showbackground\":true,\"ticks\":\"\",\"zerolinecolor\":\"white\",\"gridwidth\":2},\"zaxis\":{\"backgroundcolor\":\"#E5ECF6\",\"gridcolor\":\"white\",\"linecolor\":\"white\",\"showbackground\":true,\"ticks\":\"\",\"zerolinecolor\":\"white\",\"gridwidth\":2}},\"shapedefaults\":{\"line\":{\"color\":\"#2a3f5f\"}},\"annotationdefaults\":{\"arrowcolor\":\"#2a3f5f\",\"arrowhead\":0,\"arrowwidth\":1},\"geo\":{\"bgcolor\":\"white\",\"landcolor\":\"#E5ECF6\",\"subunitcolor\":\"white\",\"showland\":true,\"showlakes\":true,\"lakecolor\":\"white\"},\"title\":{\"x\":0.05},\"mapbox\":{\"style\":\"light\"}}},\"yaxis\":{\"tickformat\":\"0,.1f\",\"title\":{\"text\":\"Total\"},\"fixedrange\":true,\"ticksuffix\":\"  \"},\"scene\":{\"yaxis\":{\"exponentformat\":\"none\",\"separatethousands\":true}},\"font\":{\"color\":\"Black\"},\"legend\":{\"itemclick\":false,\"itemdoubleclick\":false},\"title\":{\"text\":\"Total\"},\"width\":900,\"height\":563,\"xaxis\":{\"title\":{\"text\":\"Group\"},\"fixedrange\":true}},                        {\"responsive\": true}                    ).then(function(){\n",
              "                            \n",
              "var gd = document.getElementById('9a60e1ea-232a-43e4-b937-019a9abd89b8');\n",
              "var x = new MutationObserver(function (mutations, observer) {{\n",
              "        var display = window.getComputedStyle(gd).display;\n",
              "        if (!display || display === 'none') {{\n",
              "            console.log([gd, 'removed!']);\n",
              "            Plotly.purge(gd);\n",
              "            observer.disconnect();\n",
              "        }}\n",
              "}});\n",
              "\n",
              "// Listen for the removal of the full notebook cells\n",
              "var notebookContainer = gd.closest('#notebook-container');\n",
              "if (notebookContainer) {{\n",
              "    x.observe(notebookContainer, {childList: true});\n",
              "}}\n",
              "\n",
              "// Listen for the clearing of the current output cell\n",
              "var outputEl = gd.closest('.output');\n",
              "if (outputEl) {{\n",
              "    x.observe(outputEl, {childList: true});\n",
              "}}\n",
              "\n",
              "                        })                };                            </script>        </div>\n",
              "</body>\n",
              "</html>"
            ]
          },
          "metadata": {}
        }
      ],
      "source": [
        "solas_air.plot(column='Total')"
      ]
    },
    {
      "cell_type": "code",
      "execution_count": 24,
      "metadata": {
        "id": "D93XI3yEpjBI"
      },
      "outputs": [],
      "source": [
        "sd.const.AVERAGE_OUTCOME = 'Average Prediction'  # Was Average Outcome\n",
        "sd.const.AVERAGE_LABEL = 'Percent Low-Priced'  # was Average Label\n",
        "\n",
        "solas_smd = sd.standardized_mean_difference(\n",
        "    group_data=valid,\n",
        "    protected_groups=['Black', 'Asian', 'female'],\n",
        "    reference_groups=['White', 'White', 'male'],\n",
        "    group_categories=['Race', 'Race', 'Gender'],\n",
        "    outcome=valid['predictions'],\n",
        "    label=valid['low_priced'],\n",
        "    smd_threshold=-30,\n",
        "    lower_score_favorable=False,\n",
        ")"
      ]
    },
    {
      "cell_type": "code",
      "execution_count": 25,
      "metadata": {
        "id": "1td3RwbcpjBI",
        "outputId": "ef4d1bee-8e61-403c-b59c-48b4a83ffd3e",
        "colab": {
          "base_uri": "https://localhost:8080/",
          "height": 224
        }
      },
      "outputs": [
        {
          "output_type": "display_data",
          "data": {
            "text/plain": [
              "<IPython.core.display.HTML object>"
            ],
            "text/html": [
              "<div>\n",
              "<style scoped>\n",
              "    .dataframe tbody tr th:only-of-type {\n",
              "        vertical-align: middle;\n",
              "    }\n",
              "\n",
              "    .dataframe tbody tr th {\n",
              "        vertical-align: top;\n",
              "    }\n",
              "\n",
              "    .dataframe thead th {\n",
              "        text-align: right;\n",
              "    }\n",
              "</style>\n",
              "<table class=\"dataframe disparity-table\" id=\"disp-output\">\n",
              "  <thead>\n",
              "    <tr style=\"text-align: right;\">\n",
              "      <th>Group</th>\n",
              "      <th>Reference Group</th>\n",
              "      <th>Group Category</th>\n",
              "      <th>Observations</th>\n",
              "      <th>Total</th>\n",
              "      <th>Percent Low-Priced</th>\n",
              "      <th>Average Prediction</th>\n",
              "      <th>Difference in Average Outcome</th>\n",
              "      <th>SMD</th>\n",
              "      <th>P-Values</th>\n",
              "      <th>Practically Significant</th>\n",
              "    </tr>\n",
              "  </thead>\n",
              "  <tbody>\n",
              "    <tr>\n",
              "      <td>Black</td>\n",
              "      <td>White</td>\n",
              "      <td>Race</td>\n",
              "      <td>50,801</td>\n",
              "      <td>3,999.0</td>\n",
              "      <td>0.80</td>\n",
              "      <td>0.82</td>\n",
              "      <td>-0.083519</td>\n",
              "      <td>-48.238</td>\n",
              "      <td>0.000</td>\n",
              "      <td>Yes</td>\n",
              "    </tr>\n",
              "    <tr>\n",
              "      <td>Asian</td>\n",
              "      <td>White</td>\n",
              "      <td>Race</td>\n",
              "      <td>50,801</td>\n",
              "      <td>4,014.0</td>\n",
              "      <td>0.95</td>\n",
              "      <td>0.94</td>\n",
              "      <td>0.037469</td>\n",
              "      <td>21.641</td>\n",
              "      <td>0.000</td>\n",
              "      <td>No</td>\n",
              "    </tr>\n",
              "    <tr>\n",
              "      <td>White</td>\n",
              "      <td></td>\n",
              "      <td>Race</td>\n",
              "      <td>50,801</td>\n",
              "      <td>42,788.0</td>\n",
              "      <td>0.91</td>\n",
              "      <td>0.91</td>\n",
              "      <td></td>\n",
              "      <td></td>\n",
              "      <td></td>\n",
              "      <td></td>\n",
              "    </tr>\n",
              "    <tr>\n",
              "      <td>female</td>\n",
              "      <td>male</td>\n",
              "      <td>Gender</td>\n",
              "      <td>32,084</td>\n",
              "      <td>12,383.0</td>\n",
              "      <td>0.87</td>\n",
              "      <td>0.88</td>\n",
              "      <td>-0.020178</td>\n",
              "      <td>-11.654</td>\n",
              "      <td>0.000</td>\n",
              "      <td>No</td>\n",
              "    </tr>\n",
              "    <tr>\n",
              "      <td>male</td>\n",
              "      <td></td>\n",
              "      <td>Gender</td>\n",
              "      <td>32,084</td>\n",
              "      <td>19,701.0</td>\n",
              "      <td>0.90</td>\n",
              "      <td>0.90</td>\n",
              "      <td></td>\n",
              "      <td></td>\n",
              "      <td></td>\n",
              "      <td></td>\n",
              "    </tr>\n",
              "  </tbody>\n",
              "</table>\n",
              "</div>"
            ]
          },
          "metadata": {}
        }
      ],
      "source": [
        "sd.ui.show(solas_smd.summary_table.drop(columns=['Std. Dev. of Outcomes', 'Percent Missing']))"
      ]
    },
    {
      "cell_type": "code",
      "execution_count": 26,
      "metadata": {
        "id": "qmTmX1x5pjBI",
        "outputId": "15f576f0-39e4-4c98-c2fd-fa8c6f4baa93",
        "colab": {
          "base_uri": "https://localhost:8080/",
          "height": 580
        }
      },
      "outputs": [
        {
          "output_type": "display_data",
          "data": {
            "text/html": [
              "<html>\n",
              "<head><meta charset=\"utf-8\" /></head>\n",
              "<body>\n",
              "    <div>            <script src=\"https://cdnjs.cloudflare.com/ajax/libs/mathjax/2.7.5/MathJax.js?config=TeX-AMS-MML_SVG\"></script><script type=\"text/javascript\">if (window.MathJax && window.MathJax.Hub && window.MathJax.Hub.Config) {window.MathJax.Hub.Config({SVG: {font: \"STIX-Web\"}});}</script>                <script type=\"text/javascript\">window.PlotlyConfig = {MathJaxConfig: 'local'};</script>\n",
              "        <script charset=\"utf-8\" src=\"https://cdn.plot.ly/plotly-2.35.2.min.js\"></script>                <div id=\"a3d84b93-a5d3-449d-8961-32b0bdc08d88\" class=\"plotly-graph-div\" style=\"height:563px; width:900px;\"></div>            <script type=\"text/javascript\">                                    window.PLOTLYENV=window.PLOTLYENV || {};                                    if (document.getElementById(\"a3d84b93-a5d3-449d-8961-32b0bdc08d88\")) {                    Plotly.newPlot(                        \"a3d84b93-a5d3-449d-8961-32b0bdc08d88\",                        [{\"hoverlabel\":{\"font\":{\"color\":\"Black\"}},\"hovertemplate\":\"%{x}, %{y}\",\"legendgroup\":\"Race\",\"legendgrouptitle\":{\"text\":\"Race\"},\"marker\":{\"color\":\"RGBA(78, 121, 167, 1.0)\",\"line\":{\"color\":\"rgb(8,48,107)\"},\"pattern\":{\"shape\":\"\\u002f\"}},\"name\":\"Black\",\"text\":\"-48.238\",\"textfont\":{\"color\":\"Black\"},\"x\":[[\"Race\"],[\"Black\"]],\"y\":[-48.23787973989982],\"type\":\"bar\"},{\"hoverlabel\":{\"font\":{\"color\":\"Black\"}},\"hovertemplate\":\"%{x}, %{y}\",\"legendgroup\":\"Race\",\"legendgrouptitle\":{\"text\":\"Race\"},\"marker\":{\"color\":\"RGBA(78, 121, 167, 0.8333333333333334)\",\"line\":{\"color\":\"rgb(8,48,107)\"},\"pattern\":{\"shape\":\"\"}},\"name\":\"Asian\",\"text\":\"21.641\",\"textfont\":{\"color\":\"Black\"},\"x\":[[\"Race\"],[\"Asian\"]],\"y\":[21.640814391336782],\"type\":\"bar\"},{\"hoverlabel\":{\"font\":{\"color\":\"Black\"}},\"hovertemplate\":\"%{x}, %{y}\",\"legendgroup\":\"Gender\",\"legendgrouptitle\":{\"text\":\"Gender\"},\"marker\":{\"color\":\"RGBA(242, 142, 45, 1.0)\",\"line\":{\"color\":\"rgb(8,48,107)\"},\"pattern\":{\"shape\":\"\"}},\"name\":\"female\",\"text\":\"-11.654\",\"textfont\":{\"color\":\"Black\"},\"x\":[[\"Gender\"],[\"female\"]],\"y\":[-11.653875186319295],\"type\":\"bar\"},{\"legendgroup\":\"SMD Threshold\",\"legendgrouptitle\":{\"text\":\"Threshold\"},\"line\":{\"color\":\"Black\",\"dash\":\"dot\",\"width\":1.25},\"mode\":\"lines\",\"name\":\"SMD Threshold\",\"showlegend\":true,\"x\":[null],\"y\":[null],\"type\":\"scatter\"}],                        {\"template\":{\"data\":{\"histogram2dcontour\":[{\"type\":\"histogram2dcontour\",\"colorbar\":{\"outlinewidth\":0,\"ticks\":\"\"},\"colorscale\":[[0.0,\"#0d0887\"],[0.1111111111111111,\"#46039f\"],[0.2222222222222222,\"#7201a8\"],[0.3333333333333333,\"#9c179e\"],[0.4444444444444444,\"#bd3786\"],[0.5555555555555556,\"#d8576b\"],[0.6666666666666666,\"#ed7953\"],[0.7777777777777778,\"#fb9f3a\"],[0.8888888888888888,\"#fdca26\"],[1.0,\"#f0f921\"]]}],\"choropleth\":[{\"type\":\"choropleth\",\"colorbar\":{\"outlinewidth\":0,\"ticks\":\"\"}}],\"histogram2d\":[{\"type\":\"histogram2d\",\"colorbar\":{\"outlinewidth\":0,\"ticks\":\"\"},\"colorscale\":[[0.0,\"#0d0887\"],[0.1111111111111111,\"#46039f\"],[0.2222222222222222,\"#7201a8\"],[0.3333333333333333,\"#9c179e\"],[0.4444444444444444,\"#bd3786\"],[0.5555555555555556,\"#d8576b\"],[0.6666666666666666,\"#ed7953\"],[0.7777777777777778,\"#fb9f3a\"],[0.8888888888888888,\"#fdca26\"],[1.0,\"#f0f921\"]]}],\"heatmap\":[{\"type\":\"heatmap\",\"colorbar\":{\"outlinewidth\":0,\"ticks\":\"\"},\"colorscale\":[[0.0,\"#0d0887\"],[0.1111111111111111,\"#46039f\"],[0.2222222222222222,\"#7201a8\"],[0.3333333333333333,\"#9c179e\"],[0.4444444444444444,\"#bd3786\"],[0.5555555555555556,\"#d8576b\"],[0.6666666666666666,\"#ed7953\"],[0.7777777777777778,\"#fb9f3a\"],[0.8888888888888888,\"#fdca26\"],[1.0,\"#f0f921\"]]}],\"heatmapgl\":[{\"type\":\"heatmapgl\",\"colorbar\":{\"outlinewidth\":0,\"ticks\":\"\"},\"colorscale\":[[0.0,\"#0d0887\"],[0.1111111111111111,\"#46039f\"],[0.2222222222222222,\"#7201a8\"],[0.3333333333333333,\"#9c179e\"],[0.4444444444444444,\"#bd3786\"],[0.5555555555555556,\"#d8576b\"],[0.6666666666666666,\"#ed7953\"],[0.7777777777777778,\"#fb9f3a\"],[0.8888888888888888,\"#fdca26\"],[1.0,\"#f0f921\"]]}],\"contourcarpet\":[{\"type\":\"contourcarpet\",\"colorbar\":{\"outlinewidth\":0,\"ticks\":\"\"}}],\"contour\":[{\"type\":\"contour\",\"colorbar\":{\"outlinewidth\":0,\"ticks\":\"\"},\"colorscale\":[[0.0,\"#0d0887\"],[0.1111111111111111,\"#46039f\"],[0.2222222222222222,\"#7201a8\"],[0.3333333333333333,\"#9c179e\"],[0.4444444444444444,\"#bd3786\"],[0.5555555555555556,\"#d8576b\"],[0.6666666666666666,\"#ed7953\"],[0.7777777777777778,\"#fb9f3a\"],[0.8888888888888888,\"#fdca26\"],[1.0,\"#f0f921\"]]}],\"surface\":[{\"type\":\"surface\",\"colorbar\":{\"outlinewidth\":0,\"ticks\":\"\"},\"colorscale\":[[0.0,\"#0d0887\"],[0.1111111111111111,\"#46039f\"],[0.2222222222222222,\"#7201a8\"],[0.3333333333333333,\"#9c179e\"],[0.4444444444444444,\"#bd3786\"],[0.5555555555555556,\"#d8576b\"],[0.6666666666666666,\"#ed7953\"],[0.7777777777777778,\"#fb9f3a\"],[0.8888888888888888,\"#fdca26\"],[1.0,\"#f0f921\"]]}],\"mesh3d\":[{\"type\":\"mesh3d\",\"colorbar\":{\"outlinewidth\":0,\"ticks\":\"\"}}],\"scatter\":[{\"fillpattern\":{\"fillmode\":\"overlay\",\"size\":10,\"solidity\":0.2},\"type\":\"scatter\"}],\"parcoords\":[{\"type\":\"parcoords\",\"line\":{\"colorbar\":{\"outlinewidth\":0,\"ticks\":\"\"}}}],\"scatterpolargl\":[{\"type\":\"scatterpolargl\",\"marker\":{\"colorbar\":{\"outlinewidth\":0,\"ticks\":\"\"}}}],\"bar\":[{\"error_x\":{\"color\":\"#2a3f5f\"},\"error_y\":{\"color\":\"#2a3f5f\"},\"marker\":{\"line\":{\"color\":\"#E5ECF6\",\"width\":0.5},\"pattern\":{\"fillmode\":\"overlay\",\"size\":10,\"solidity\":0.2}},\"type\":\"bar\"}],\"scattergeo\":[{\"type\":\"scattergeo\",\"marker\":{\"colorbar\":{\"outlinewidth\":0,\"ticks\":\"\"}}}],\"scatterpolar\":[{\"type\":\"scatterpolar\",\"marker\":{\"colorbar\":{\"outlinewidth\":0,\"ticks\":\"\"}}}],\"histogram\":[{\"marker\":{\"pattern\":{\"fillmode\":\"overlay\",\"size\":10,\"solidity\":0.2}},\"type\":\"histogram\"}],\"scattergl\":[{\"type\":\"scattergl\",\"marker\":{\"colorbar\":{\"outlinewidth\":0,\"ticks\":\"\"}}}],\"scatter3d\":[{\"type\":\"scatter3d\",\"line\":{\"colorbar\":{\"outlinewidth\":0,\"ticks\":\"\"}},\"marker\":{\"colorbar\":{\"outlinewidth\":0,\"ticks\":\"\"}}}],\"scattermapbox\":[{\"type\":\"scattermapbox\",\"marker\":{\"colorbar\":{\"outlinewidth\":0,\"ticks\":\"\"}}}],\"scatterternary\":[{\"type\":\"scatterternary\",\"marker\":{\"colorbar\":{\"outlinewidth\":0,\"ticks\":\"\"}}}],\"scattercarpet\":[{\"type\":\"scattercarpet\",\"marker\":{\"colorbar\":{\"outlinewidth\":0,\"ticks\":\"\"}}}],\"carpet\":[{\"aaxis\":{\"endlinecolor\":\"#2a3f5f\",\"gridcolor\":\"white\",\"linecolor\":\"white\",\"minorgridcolor\":\"white\",\"startlinecolor\":\"#2a3f5f\"},\"baxis\":{\"endlinecolor\":\"#2a3f5f\",\"gridcolor\":\"white\",\"linecolor\":\"white\",\"minorgridcolor\":\"white\",\"startlinecolor\":\"#2a3f5f\"},\"type\":\"carpet\"}],\"table\":[{\"cells\":{\"fill\":{\"color\":\"#EBF0F8\"},\"line\":{\"color\":\"white\"}},\"header\":{\"fill\":{\"color\":\"#C8D4E3\"},\"line\":{\"color\":\"white\"}},\"type\":\"table\"}],\"barpolar\":[{\"marker\":{\"line\":{\"color\":\"#E5ECF6\",\"width\":0.5},\"pattern\":{\"fillmode\":\"overlay\",\"size\":10,\"solidity\":0.2}},\"type\":\"barpolar\"}],\"pie\":[{\"automargin\":true,\"type\":\"pie\"}]},\"layout\":{\"autotypenumbers\":\"strict\",\"colorway\":[\"#636efa\",\"#EF553B\",\"#00cc96\",\"#ab63fa\",\"#FFA15A\",\"#19d3f3\",\"#FF6692\",\"#B6E880\",\"#FF97FF\",\"#FECB52\"],\"font\":{\"color\":\"#2a3f5f\"},\"hovermode\":\"closest\",\"hoverlabel\":{\"align\":\"left\"},\"paper_bgcolor\":\"white\",\"plot_bgcolor\":\"#E5ECF6\",\"polar\":{\"bgcolor\":\"#E5ECF6\",\"angularaxis\":{\"gridcolor\":\"white\",\"linecolor\":\"white\",\"ticks\":\"\"},\"radialaxis\":{\"gridcolor\":\"white\",\"linecolor\":\"white\",\"ticks\":\"\"}},\"ternary\":{\"bgcolor\":\"#E5ECF6\",\"aaxis\":{\"gridcolor\":\"white\",\"linecolor\":\"white\",\"ticks\":\"\"},\"baxis\":{\"gridcolor\":\"white\",\"linecolor\":\"white\",\"ticks\":\"\"},\"caxis\":{\"gridcolor\":\"white\",\"linecolor\":\"white\",\"ticks\":\"\"}},\"coloraxis\":{\"colorbar\":{\"outlinewidth\":0,\"ticks\":\"\"}},\"colorscale\":{\"sequential\":[[0.0,\"#0d0887\"],[0.1111111111111111,\"#46039f\"],[0.2222222222222222,\"#7201a8\"],[0.3333333333333333,\"#9c179e\"],[0.4444444444444444,\"#bd3786\"],[0.5555555555555556,\"#d8576b\"],[0.6666666666666666,\"#ed7953\"],[0.7777777777777778,\"#fb9f3a\"],[0.8888888888888888,\"#fdca26\"],[1.0,\"#f0f921\"]],\"sequentialminus\":[[0.0,\"#0d0887\"],[0.1111111111111111,\"#46039f\"],[0.2222222222222222,\"#7201a8\"],[0.3333333333333333,\"#9c179e\"],[0.4444444444444444,\"#bd3786\"],[0.5555555555555556,\"#d8576b\"],[0.6666666666666666,\"#ed7953\"],[0.7777777777777778,\"#fb9f3a\"],[0.8888888888888888,\"#fdca26\"],[1.0,\"#f0f921\"]],\"diverging\":[[0,\"#8e0152\"],[0.1,\"#c51b7d\"],[0.2,\"#de77ae\"],[0.3,\"#f1b6da\"],[0.4,\"#fde0ef\"],[0.5,\"#f7f7f7\"],[0.6,\"#e6f5d0\"],[0.7,\"#b8e186\"],[0.8,\"#7fbc41\"],[0.9,\"#4d9221\"],[1,\"#276419\"]]},\"xaxis\":{\"gridcolor\":\"white\",\"linecolor\":\"white\",\"ticks\":\"\",\"title\":{\"standoff\":15},\"zerolinecolor\":\"white\",\"automargin\":true,\"zerolinewidth\":2},\"yaxis\":{\"gridcolor\":\"white\",\"linecolor\":\"white\",\"ticks\":\"\",\"title\":{\"standoff\":15},\"zerolinecolor\":\"white\",\"automargin\":true,\"zerolinewidth\":2},\"scene\":{\"xaxis\":{\"backgroundcolor\":\"#E5ECF6\",\"gridcolor\":\"white\",\"linecolor\":\"white\",\"showbackground\":true,\"ticks\":\"\",\"zerolinecolor\":\"white\",\"gridwidth\":2},\"yaxis\":{\"backgroundcolor\":\"#E5ECF6\",\"gridcolor\":\"white\",\"linecolor\":\"white\",\"showbackground\":true,\"ticks\":\"\",\"zerolinecolor\":\"white\",\"gridwidth\":2},\"zaxis\":{\"backgroundcolor\":\"#E5ECF6\",\"gridcolor\":\"white\",\"linecolor\":\"white\",\"showbackground\":true,\"ticks\":\"\",\"zerolinecolor\":\"white\",\"gridwidth\":2}},\"shapedefaults\":{\"line\":{\"color\":\"#2a3f5f\"}},\"annotationdefaults\":{\"arrowcolor\":\"#2a3f5f\",\"arrowhead\":0,\"arrowwidth\":1},\"geo\":{\"bgcolor\":\"white\",\"landcolor\":\"#E5ECF6\",\"subunitcolor\":\"white\",\"showland\":true,\"showlakes\":true,\"lakecolor\":\"white\"},\"title\":{\"x\":0.05},\"mapbox\":{\"style\":\"light\"}}},\"yaxis\":{\"tickformat\":\"0,.3f\",\"title\":{\"text\":\"SMD\"},\"fixedrange\":true,\"ticksuffix\":\"  \"},\"scene\":{\"yaxis\":{\"exponentformat\":\"none\",\"separatethousands\":true}},\"font\":{\"color\":\"Black\"},\"legend\":{\"itemclick\":false,\"itemdoubleclick\":false},\"title\":{\"text\":\"SMD\"},\"width\":900,\"height\":563,\"xaxis\":{\"title\":{\"text\":\"Group\"},\"fixedrange\":true},\"shapes\":[{\"line\":{\"color\":\"Black\",\"dash\":\"dot\",\"width\":1.25},\"name\":\"SMD Threshold\",\"type\":\"line\",\"x0\":0,\"x1\":1,\"xref\":\"paper\",\"y0\":-30.0,\"y1\":-30.0,\"yref\":\"y\"}]},                        {\"responsive\": true}                    ).then(function(){\n",
              "                            \n",
              "var gd = document.getElementById('a3d84b93-a5d3-449d-8961-32b0bdc08d88');\n",
              "var x = new MutationObserver(function (mutations, observer) {{\n",
              "        var display = window.getComputedStyle(gd).display;\n",
              "        if (!display || display === 'none') {{\n",
              "            console.log([gd, 'removed!']);\n",
              "            Plotly.purge(gd);\n",
              "            observer.disconnect();\n",
              "        }}\n",
              "}});\n",
              "\n",
              "// Listen for the removal of the full notebook cells\n",
              "var notebookContainer = gd.closest('#notebook-container');\n",
              "if (notebookContainer) {{\n",
              "    x.observe(notebookContainer, {childList: true});\n",
              "}}\n",
              "\n",
              "// Listen for the clearing of the current output cell\n",
              "var outputEl = gd.closest('.output');\n",
              "if (outputEl) {{\n",
              "    x.observe(outputEl, {childList: true});\n",
              "}}\n",
              "\n",
              "                        })                };                            </script>        </div>\n",
              "</body>\n",
              "</html>"
            ]
          },
          "metadata": {}
        }
      ],
      "source": [
        "sd.const.SMD_SMD_PLOT_TITLE = \"Standardized Mean Difference of Low-Priced Predictions\"\n",
        "solas_smd.plot()"
      ]
    },
    {
      "cell_type": "markdown",
      "metadata": {
        "pycharm": {
          "name": "#%% md\n"
        },
        "id": "UNqFpcUcpjBB"
      },
      "source": [
        "\n",
        "### Measuring Group Fairness Using `Aequitas`"
      ]
    },
    {
      "cell_type": "code",
      "execution_count": 27,
      "metadata": {
        "pycharm": {
          "name": "#%%\n"
        },
        "id": "xlWnSiPSpjBB"
      },
      "outputs": [],
      "source": [
        "aeq_group = Group()\n",
        "aeq_bias = Bias()\n",
        "aeq_fairness = Fairness()\n",
        "aeq_plot = Plot()"
      ]
    },
    {
      "cell_type": "markdown",
      "metadata": {
        "pycharm": {
          "name": "#%% md\n"
        },
        "id": "nDnMGIjlpjBB"
      },
      "source": [
        "\n",
        "#### Aequitas Preprocessing  "
      ]
    },
    {
      "cell_type": "code",
      "source": [
        "aequitas_valid = valid[['sex', 'race', 'low_priced', 'Low Priced Offer']].copy()\n",
        "\n",
        "aequitas_valid.rename(\n",
        "    columns={\n",
        "    'Low Priced Offer': 'score',\n",
        "    'low_priced': 'label_value',\n",
        "    },\n",
        "    inplace=True\n",
        ")\n",
        "aequitas_valid.sample(n=5, random_state=1618)"
      ],
      "metadata": {
        "colab": {
          "base_uri": "https://localhost:8080/",
          "height": 206
        },
        "id": "sOq3Hdv6goJs",
        "outputId": "5ff02943-2468-4529-c5cb-a420cf506f6b"
      },
      "execution_count": 28,
      "outputs": [
        {
          "output_type": "execute_result",
          "data": {
            "text/plain": [
              "             sex     race  label_value  score\n",
              "5271564     Male    White          0.0      0\n",
              "4204482     Male  Unknown          1.0      1\n",
              "3927406  Unknown    White          1.0      1\n",
              "4390283  Unknown    White          1.0      1\n",
              "4390039  Unknown  Unknown          1.0      1"
            ],
            "text/html": [
              "\n",
              "  <div id=\"df-098e2e3e-dde5-4331-841a-846c3bdbf01c\" class=\"colab-df-container\">\n",
              "    <div>\n",
              "<style scoped>\n",
              "    .dataframe tbody tr th:only-of-type {\n",
              "        vertical-align: middle;\n",
              "    }\n",
              "\n",
              "    .dataframe tbody tr th {\n",
              "        vertical-align: top;\n",
              "    }\n",
              "\n",
              "    .dataframe thead th {\n",
              "        text-align: right;\n",
              "    }\n",
              "</style>\n",
              "<table border=\"1\" class=\"dataframe\">\n",
              "  <thead>\n",
              "    <tr style=\"text-align: right;\">\n",
              "      <th></th>\n",
              "      <th>sex</th>\n",
              "      <th>race</th>\n",
              "      <th>label_value</th>\n",
              "      <th>score</th>\n",
              "    </tr>\n",
              "  </thead>\n",
              "  <tbody>\n",
              "    <tr>\n",
              "      <th>5271564</th>\n",
              "      <td>Male</td>\n",
              "      <td>White</td>\n",
              "      <td>0.0</td>\n",
              "      <td>0</td>\n",
              "    </tr>\n",
              "    <tr>\n",
              "      <th>4204482</th>\n",
              "      <td>Male</td>\n",
              "      <td>Unknown</td>\n",
              "      <td>1.0</td>\n",
              "      <td>1</td>\n",
              "    </tr>\n",
              "    <tr>\n",
              "      <th>3927406</th>\n",
              "      <td>Unknown</td>\n",
              "      <td>White</td>\n",
              "      <td>1.0</td>\n",
              "      <td>1</td>\n",
              "    </tr>\n",
              "    <tr>\n",
              "      <th>4390283</th>\n",
              "      <td>Unknown</td>\n",
              "      <td>White</td>\n",
              "      <td>1.0</td>\n",
              "      <td>1</td>\n",
              "    </tr>\n",
              "    <tr>\n",
              "      <th>4390039</th>\n",
              "      <td>Unknown</td>\n",
              "      <td>Unknown</td>\n",
              "      <td>1.0</td>\n",
              "      <td>1</td>\n",
              "    </tr>\n",
              "  </tbody>\n",
              "</table>\n",
              "</div>\n",
              "    <div class=\"colab-df-buttons\">\n",
              "\n",
              "  <div class=\"colab-df-container\">\n",
              "    <button class=\"colab-df-convert\" onclick=\"convertToInteractive('df-098e2e3e-dde5-4331-841a-846c3bdbf01c')\"\n",
              "            title=\"Convert this dataframe to an interactive table.\"\n",
              "            style=\"display:none;\">\n",
              "\n",
              "  <svg xmlns=\"http://www.w3.org/2000/svg\" height=\"24px\" viewBox=\"0 -960 960 960\">\n",
              "    <path d=\"M120-120v-720h720v720H120Zm60-500h600v-160H180v160Zm220 220h160v-160H400v160Zm0 220h160v-160H400v160ZM180-400h160v-160H180v160Zm440 0h160v-160H620v160ZM180-180h160v-160H180v160Zm440 0h160v-160H620v160Z\"/>\n",
              "  </svg>\n",
              "    </button>\n",
              "\n",
              "  <style>\n",
              "    .colab-df-container {\n",
              "      display:flex;\n",
              "      gap: 12px;\n",
              "    }\n",
              "\n",
              "    .colab-df-convert {\n",
              "      background-color: #E8F0FE;\n",
              "      border: none;\n",
              "      border-radius: 50%;\n",
              "      cursor: pointer;\n",
              "      display: none;\n",
              "      fill: #1967D2;\n",
              "      height: 32px;\n",
              "      padding: 0 0 0 0;\n",
              "      width: 32px;\n",
              "    }\n",
              "\n",
              "    .colab-df-convert:hover {\n",
              "      background-color: #E2EBFA;\n",
              "      box-shadow: 0px 1px 2px rgba(60, 64, 67, 0.3), 0px 1px 3px 1px rgba(60, 64, 67, 0.15);\n",
              "      fill: #174EA6;\n",
              "    }\n",
              "\n",
              "    .colab-df-buttons div {\n",
              "      margin-bottom: 4px;\n",
              "    }\n",
              "\n",
              "    [theme=dark] .colab-df-convert {\n",
              "      background-color: #3B4455;\n",
              "      fill: #D2E3FC;\n",
              "    }\n",
              "\n",
              "    [theme=dark] .colab-df-convert:hover {\n",
              "      background-color: #434B5C;\n",
              "      box-shadow: 0px 1px 3px 1px rgba(0, 0, 0, 0.15);\n",
              "      filter: drop-shadow(0px 1px 2px rgba(0, 0, 0, 0.3));\n",
              "      fill: #FFFFFF;\n",
              "    }\n",
              "  </style>\n",
              "\n",
              "    <script>\n",
              "      const buttonEl =\n",
              "        document.querySelector('#df-098e2e3e-dde5-4331-841a-846c3bdbf01c button.colab-df-convert');\n",
              "      buttonEl.style.display =\n",
              "        google.colab.kernel.accessAllowed ? 'block' : 'none';\n",
              "\n",
              "      async function convertToInteractive(key) {\n",
              "        const element = document.querySelector('#df-098e2e3e-dde5-4331-841a-846c3bdbf01c');\n",
              "        const dataTable =\n",
              "          await google.colab.kernel.invokeFunction('convertToInteractive',\n",
              "                                                    [key], {});\n",
              "        if (!dataTable) return;\n",
              "\n",
              "        const docLinkHtml = 'Like what you see? Visit the ' +\n",
              "          '<a target=\"_blank\" href=https://colab.research.google.com/notebooks/data_table.ipynb>data table notebook</a>'\n",
              "          + ' to learn more about interactive tables.';\n",
              "        element.innerHTML = '';\n",
              "        dataTable['output_type'] = 'display_data';\n",
              "        await google.colab.output.renderOutput(dataTable, element);\n",
              "        const docLink = document.createElement('div');\n",
              "        docLink.innerHTML = docLinkHtml;\n",
              "        element.appendChild(docLink);\n",
              "      }\n",
              "    </script>\n",
              "  </div>\n",
              "\n",
              "\n",
              "<div id=\"df-8ad6d4f4-34f1-44d7-9d56-5c0957a7dbe1\">\n",
              "  <button class=\"colab-df-quickchart\" onclick=\"quickchart('df-8ad6d4f4-34f1-44d7-9d56-5c0957a7dbe1')\"\n",
              "            title=\"Suggest charts\"\n",
              "            style=\"display:none;\">\n",
              "\n",
              "<svg xmlns=\"http://www.w3.org/2000/svg\" height=\"24px\"viewBox=\"0 0 24 24\"\n",
              "     width=\"24px\">\n",
              "    <g>\n",
              "        <path d=\"M19 3H5c-1.1 0-2 .9-2 2v14c0 1.1.9 2 2 2h14c1.1 0 2-.9 2-2V5c0-1.1-.9-2-2-2zM9 17H7v-7h2v7zm4 0h-2V7h2v10zm4 0h-2v-4h2v4z\"/>\n",
              "    </g>\n",
              "</svg>\n",
              "  </button>\n",
              "\n",
              "<style>\n",
              "  .colab-df-quickchart {\n",
              "      --bg-color: #E8F0FE;\n",
              "      --fill-color: #1967D2;\n",
              "      --hover-bg-color: #E2EBFA;\n",
              "      --hover-fill-color: #174EA6;\n",
              "      --disabled-fill-color: #AAA;\n",
              "      --disabled-bg-color: #DDD;\n",
              "  }\n",
              "\n",
              "  [theme=dark] .colab-df-quickchart {\n",
              "      --bg-color: #3B4455;\n",
              "      --fill-color: #D2E3FC;\n",
              "      --hover-bg-color: #434B5C;\n",
              "      --hover-fill-color: #FFFFFF;\n",
              "      --disabled-bg-color: #3B4455;\n",
              "      --disabled-fill-color: #666;\n",
              "  }\n",
              "\n",
              "  .colab-df-quickchart {\n",
              "    background-color: var(--bg-color);\n",
              "    border: none;\n",
              "    border-radius: 50%;\n",
              "    cursor: pointer;\n",
              "    display: none;\n",
              "    fill: var(--fill-color);\n",
              "    height: 32px;\n",
              "    padding: 0;\n",
              "    width: 32px;\n",
              "  }\n",
              "\n",
              "  .colab-df-quickchart:hover {\n",
              "    background-color: var(--hover-bg-color);\n",
              "    box-shadow: 0 1px 2px rgba(60, 64, 67, 0.3), 0 1px 3px 1px rgba(60, 64, 67, 0.15);\n",
              "    fill: var(--button-hover-fill-color);\n",
              "  }\n",
              "\n",
              "  .colab-df-quickchart-complete:disabled,\n",
              "  .colab-df-quickchart-complete:disabled:hover {\n",
              "    background-color: var(--disabled-bg-color);\n",
              "    fill: var(--disabled-fill-color);\n",
              "    box-shadow: none;\n",
              "  }\n",
              "\n",
              "  .colab-df-spinner {\n",
              "    border: 2px solid var(--fill-color);\n",
              "    border-color: transparent;\n",
              "    border-bottom-color: var(--fill-color);\n",
              "    animation:\n",
              "      spin 1s steps(1) infinite;\n",
              "  }\n",
              "\n",
              "  @keyframes spin {\n",
              "    0% {\n",
              "      border-color: transparent;\n",
              "      border-bottom-color: var(--fill-color);\n",
              "      border-left-color: var(--fill-color);\n",
              "    }\n",
              "    20% {\n",
              "      border-color: transparent;\n",
              "      border-left-color: var(--fill-color);\n",
              "      border-top-color: var(--fill-color);\n",
              "    }\n",
              "    30% {\n",
              "      border-color: transparent;\n",
              "      border-left-color: var(--fill-color);\n",
              "      border-top-color: var(--fill-color);\n",
              "      border-right-color: var(--fill-color);\n",
              "    }\n",
              "    40% {\n",
              "      border-color: transparent;\n",
              "      border-right-color: var(--fill-color);\n",
              "      border-top-color: var(--fill-color);\n",
              "    }\n",
              "    60% {\n",
              "      border-color: transparent;\n",
              "      border-right-color: var(--fill-color);\n",
              "    }\n",
              "    80% {\n",
              "      border-color: transparent;\n",
              "      border-right-color: var(--fill-color);\n",
              "      border-bottom-color: var(--fill-color);\n",
              "    }\n",
              "    90% {\n",
              "      border-color: transparent;\n",
              "      border-bottom-color: var(--fill-color);\n",
              "    }\n",
              "  }\n",
              "</style>\n",
              "\n",
              "  <script>\n",
              "    async function quickchart(key) {\n",
              "      const quickchartButtonEl =\n",
              "        document.querySelector('#' + key + ' button');\n",
              "      quickchartButtonEl.disabled = true;  // To prevent multiple clicks.\n",
              "      quickchartButtonEl.classList.add('colab-df-spinner');\n",
              "      try {\n",
              "        const charts = await google.colab.kernel.invokeFunction(\n",
              "            'suggestCharts', [key], {});\n",
              "      } catch (error) {\n",
              "        console.error('Error during call to suggestCharts:', error);\n",
              "      }\n",
              "      quickchartButtonEl.classList.remove('colab-df-spinner');\n",
              "      quickchartButtonEl.classList.add('colab-df-quickchart-complete');\n",
              "    }\n",
              "    (() => {\n",
              "      let quickchartButtonEl =\n",
              "        document.querySelector('#df-8ad6d4f4-34f1-44d7-9d56-5c0957a7dbe1 button');\n",
              "      quickchartButtonEl.style.display =\n",
              "        google.colab.kernel.accessAllowed ? 'block' : 'none';\n",
              "    })();\n",
              "  </script>\n",
              "</div>\n",
              "\n",
              "    </div>\n",
              "  </div>\n"
            ],
            "application/vnd.google.colaboratory.intrinsic+json": {
              "type": "dataframe",
              "summary": "{\n  \"name\": \"aequitas_valid\",\n  \"rows\": 5,\n  \"fields\": [\n    {\n      \"column\": \"sex\",\n      \"properties\": {\n        \"dtype\": \"category\",\n        \"num_unique_values\": 2,\n        \"samples\": [\n          \"Unknown\",\n          \"Male\"\n        ],\n        \"semantic_type\": \"\",\n        \"description\": \"\"\n      }\n    },\n    {\n      \"column\": \"race\",\n      \"properties\": {\n        \"dtype\": \"category\",\n        \"num_unique_values\": 2,\n        \"samples\": [\n          \"Unknown\",\n          \"White\"\n        ],\n        \"semantic_type\": \"\",\n        \"description\": \"\"\n      }\n    },\n    {\n      \"column\": \"label_value\",\n      \"properties\": {\n        \"dtype\": \"number\",\n        \"std\": 0.44721359549995804,\n        \"min\": 0.0,\n        \"max\": 1.0,\n        \"num_unique_values\": 2,\n        \"samples\": [\n          1.0,\n          0.0\n        ],\n        \"semantic_type\": \"\",\n        \"description\": \"\"\n      }\n    },\n    {\n      \"column\": \"score\",\n      \"properties\": {\n        \"dtype\": \"number\",\n        \"std\": 0,\n        \"min\": 0,\n        \"max\": 1,\n        \"num_unique_values\": 2,\n        \"samples\": [\n          1,\n          0\n        ],\n        \"semantic_type\": \"\",\n        \"description\": \"\"\n      }\n    }\n  ]\n}"
            }
          },
          "metadata": {},
          "execution_count": 28
        }
      ]
    },
    {
      "cell_type": "markdown",
      "metadata": {
        "collapsed": false,
        "pycharm": {
          "name": "#%% md\n"
        },
        "id": "cLnxoszrpjBB"
      },
      "source": [
        "#### Calculating Group Fairness Metrics with Aequitas"
      ]
    },
    {
      "cell_type": "code",
      "execution_count": 29,
      "metadata": {
        "pycharm": {
          "name": "#%%\n"
        },
        "id": "gpHWVW23pjBF"
      },
      "outputs": [],
      "source": [
        "crosstabs, _ = aeq_group.get_crosstabs(\n",
        "    df=aequitas_valid,\n",
        "    attr_cols=['sex', 'race'],\n",
        ")"
      ]
    },
    {
      "cell_type": "code",
      "source": [
        "bias_report = aeq_bias.get_disparity_predefined_groups(\n",
        "    df=crosstabs,\n",
        "    original_df=aequitas_valid,\n",
        "    ref_groups_dict={'race': 'White', 'sex': 'Male'},\n",
        "    check_significance=True,\n",
        "    alpha=0.05,\n",
        "    mask_significance=False,\n",
        ")"
      ],
      "metadata": {
        "id": "OYbUFDx25DK_"
      },
      "execution_count": 30,
      "outputs": []
    },
    {
      "cell_type": "code",
      "execution_count": 31,
      "metadata": {
        "pycharm": {
          "name": "#%%\n"
        },
        "id": "c6mZ2zIhpjBG"
      },
      "outputs": [],
      "source": [
        "fairness_report = aeq_fairness.get_group_value_fairness(\n",
        "    bias_df=bias_report,\n",
        "    tau=0.95,\n",
        ")"
      ]
    },
    {
      "cell_type": "code",
      "source": [
        "fairness_columns = ['attribute_value',  'fnr', 'fnr_significance', 'fnr_disparity',\n",
        "    'FNR Parity', 'pprev', 'pprev_disparity', 'pprev_significance', 'Impact Parity']\n",
        "\n",
        "race_values = valid_known_race['race'].unique()\n",
        "fairness_mask = fairness_report['attribute_value'].isin(race_values)\n",
        "format_dict = {key: '{:0.1%}' for key in ['fnr', 'fnr_significance', 'pprev', 'pprev_significance']}\n",
        "format_dict = {**format_dict, **{key: '{:0.3f}' for key in ['fnr_disparity', 'pprev_disparity']}}\n",
        "fairness_report.loc[fairness_mask, fairness_columns].style.format(format_dict).hide(axis='index')"
      ],
      "metadata": {
        "colab": {
          "base_uri": "https://localhost:8080/",
          "height": 206
        },
        "id": "03CzIj-bbw4k",
        "outputId": "8e921777-84b7-4c86-f3d0-b60a42bb5b2f"
      },
      "execution_count": 32,
      "outputs": [
        {
          "output_type": "execute_result",
          "data": {
            "text/plain": [
              "<pandas.io.formats.style.Styler at 0x7cfd7194d1b0>"
            ],
            "text/html": [
              "<style type=\"text/css\">\n",
              "</style>\n",
              "<table id=\"T_dac40\" class=\"dataframe\">\n",
              "  <thead>\n",
              "    <tr>\n",
              "      <th id=\"T_dac40_level0_col0\" class=\"col_heading level0 col0\" >attribute_value</th>\n",
              "      <th id=\"T_dac40_level0_col1\" class=\"col_heading level0 col1\" >fnr</th>\n",
              "      <th id=\"T_dac40_level0_col2\" class=\"col_heading level0 col2\" >fnr_significance</th>\n",
              "      <th id=\"T_dac40_level0_col3\" class=\"col_heading level0 col3\" >fnr_disparity</th>\n",
              "      <th id=\"T_dac40_level0_col4\" class=\"col_heading level0 col4\" >FNR Parity</th>\n",
              "      <th id=\"T_dac40_level0_col5\" class=\"col_heading level0 col5\" >pprev</th>\n",
              "      <th id=\"T_dac40_level0_col6\" class=\"col_heading level0 col6\" >pprev_disparity</th>\n",
              "      <th id=\"T_dac40_level0_col7\" class=\"col_heading level0 col7\" >pprev_significance</th>\n",
              "      <th id=\"T_dac40_level0_col8\" class=\"col_heading level0 col8\" >Impact Parity</th>\n",
              "    </tr>\n",
              "  </thead>\n",
              "  <tbody>\n",
              "    <tr>\n",
              "      <td id=\"T_dac40_row0_col0\" class=\"data row0 col0\" >Asian</td>\n",
              "      <td id=\"T_dac40_row0_col1\" class=\"data row0 col1\" >5.4%</td>\n",
              "      <td id=\"T_dac40_row0_col2\" class=\"data row0 col2\" >11.5%</td>\n",
              "      <td id=\"T_dac40_row0_col3\" class=\"data row0 col3\" >0.455</td>\n",
              "      <td id=\"T_dac40_row0_col4\" class=\"data row0 col4\" >False</td>\n",
              "      <td id=\"T_dac40_row0_col5\" class=\"data row0 col5\" >91.1%</td>\n",
              "      <td id=\"T_dac40_row0_col6\" class=\"data row0 col6\" >1.103</td>\n",
              "      <td id=\"T_dac40_row0_col7\" class=\"data row0 col7\" >0.0%</td>\n",
              "      <td id=\"T_dac40_row0_col8\" class=\"data row0 col8\" >False</td>\n",
              "    </tr>\n",
              "    <tr>\n",
              "      <td id=\"T_dac40_row1_col0\" class=\"data row1 col0\" >Black</td>\n",
              "      <td id=\"T_dac40_row1_col1\" class=\"data row1 col1\" >26.8%</td>\n",
              "      <td id=\"T_dac40_row1_col2\" class=\"data row1 col2\" >0.1%</td>\n",
              "      <td id=\"T_dac40_row1_col3\" class=\"data row1 col3\" >2.255</td>\n",
              "      <td id=\"T_dac40_row1_col4\" class=\"data row1 col4\" >False</td>\n",
              "      <td id=\"T_dac40_row1_col5\" class=\"data row1 col5\" >62.7%</td>\n",
              "      <td id=\"T_dac40_row1_col6\" class=\"data row1 col6\" >0.759</td>\n",
              "      <td id=\"T_dac40_row1_col7\" class=\"data row1 col7\" >0.0%</td>\n",
              "      <td id=\"T_dac40_row1_col8\" class=\"data row1 col8\" >False</td>\n",
              "    </tr>\n",
              "    <tr>\n",
              "      <td id=\"T_dac40_row2_col0\" class=\"data row2 col0\" >Hawaiian or pacific islander</td>\n",
              "      <td id=\"T_dac40_row2_col1\" class=\"data row2 col1\" >17.6%</td>\n",
              "      <td id=\"T_dac40_row2_col2\" class=\"data row2 col2\" >36.1%</td>\n",
              "      <td id=\"T_dac40_row2_col3\" class=\"data row2 col3\" >1.475</td>\n",
              "      <td id=\"T_dac40_row2_col4\" class=\"data row2 col4\" >False</td>\n",
              "      <td id=\"T_dac40_row2_col5\" class=\"data row2 col5\" >76.6%</td>\n",
              "      <td id=\"T_dac40_row2_col6\" class=\"data row2 col6\" >0.928</td>\n",
              "      <td id=\"T_dac40_row2_col7\" class=\"data row2 col7\" >6.2%</td>\n",
              "      <td id=\"T_dac40_row2_col8\" class=\"data row2 col8\" >False</td>\n",
              "    </tr>\n",
              "    <tr>\n",
              "      <td id=\"T_dac40_row3_col0\" class=\"data row3 col0\" >Native american</td>\n",
              "      <td id=\"T_dac40_row3_col1\" class=\"data row3 col1\" >21.1%</td>\n",
              "      <td id=\"T_dac40_row3_col2\" class=\"data row3 col2\" >27.0%</td>\n",
              "      <td id=\"T_dac40_row3_col3\" class=\"data row3 col3\" >1.774</td>\n",
              "      <td id=\"T_dac40_row3_col4\" class=\"data row3 col4\" >False</td>\n",
              "      <td id=\"T_dac40_row3_col5\" class=\"data row3 col5\" >73.1%</td>\n",
              "      <td id=\"T_dac40_row3_col6\" class=\"data row3 col6\" >0.886</td>\n",
              "      <td id=\"T_dac40_row3_col7\" class=\"data row3 col7\" >0.2%</td>\n",
              "      <td id=\"T_dac40_row3_col8\" class=\"data row3 col8\" >False</td>\n",
              "    </tr>\n",
              "    <tr>\n",
              "      <td id=\"T_dac40_row4_col0\" class=\"data row4 col0\" >White</td>\n",
              "      <td id=\"T_dac40_row4_col1\" class=\"data row4 col1\" >11.9%</td>\n",
              "      <td id=\"T_dac40_row4_col2\" class=\"data row4 col2\" >100.0%</td>\n",
              "      <td id=\"T_dac40_row4_col3\" class=\"data row4 col3\" >1.000</td>\n",
              "      <td id=\"T_dac40_row4_col4\" class=\"data row4 col4\" >True</td>\n",
              "      <td id=\"T_dac40_row4_col5\" class=\"data row4 col5\" >82.6%</td>\n",
              "      <td id=\"T_dac40_row4_col6\" class=\"data row4 col6\" >1.000</td>\n",
              "      <td id=\"T_dac40_row4_col7\" class=\"data row4 col7\" >100.0%</td>\n",
              "      <td id=\"T_dac40_row4_col8\" class=\"data row4 col8\" >True</td>\n",
              "    </tr>\n",
              "  </tbody>\n",
              "</table>\n"
            ]
          },
          "metadata": {},
          "execution_count": 32
        }
      ]
    },
    {
      "cell_type": "markdown",
      "metadata": {
        "collapsed": false,
        "pycharm": {
          "name": "#%% md\n"
        },
        "id": "7Tw-ASWTpjBG"
      },
      "source": [
        "### Plotting with Aequitas"
      ]
    },
    {
      "cell_type": "code",
      "execution_count": 33,
      "metadata": {
        "pycharm": {
          "name": "#%%\n"
        },
        "id": "mGw1B9cipjBG",
        "outputId": "f702d847-9435-4cbe-cd84-0738bc6c5970",
        "colab": {
          "base_uri": "https://localhost:8080/",
          "height": 681
        }
      },
      "outputs": [
        {
          "output_type": "display_data",
          "data": {
            "text/plain": [
              "<Figure size 2500x1200 with 2 Axes>"
            ],
            "image/png": "[encoded data removed]"
          },
          "metadata": {}
        },
        {
          "output_type": "display_data",
          "data": {
            "text/plain": [
              "<Figure size 640x480 with 0 Axes>"
            ]
          },
          "metadata": {}
        }
      ],
      "source": [
        "fairness_report_tau_80 = aeq_fairness.get_group_value_fairness(\n",
        "    bias_df=bias_report,\n",
        "    tau=0.80,\n",
        ")\n",
        "_ = aeq_plot.plot_fairness_group_all(\n",
        "    fairness_table=fairness_report_tau_80,\n",
        "    ncols=1,\n",
        "    metrics=['pprev', 'fnr'],\n",
        "    min_group_size=0.01,\n",
        ")"
      ]
    },
    {
      "cell_type": "code",
      "execution_count": 34,
      "metadata": {
        "pycharm": {
          "name": "#%%\n"
        },
        "id": "vxjPHqhVpjBG",
        "outputId": "5053d1b3-a5f8-441a-aa51-22b77f791eb9",
        "colab": {
          "base_uri": "https://localhost:8080/",
          "height": 541
        }
      },
      "outputs": [
        {
          "output_type": "display_data",
          "data": {
            "text/plain": [
              "<Figure size 2500x800 with 4 Axes>"
            ],
            "image/png": "[encoded data removed]"
          },
          "metadata": {}
        }
      ],
      "source": [
        "_ = aeq_plot.plot_disparity_all(\n",
        "    data_table=fairness_report_tau_80,\n",
        "    attributes=['race'],\n",
        "    metrics=['pprev', 'fnr'],\n",
        "    min_group_size=0.01,\n",
        "    significance_alpha=0.05,\n",
        ")"
      ]
    },
    {
      "cell_type": "code",
      "execution_count": 35,
      "metadata": {
        "pycharm": {
          "name": "#%%\n"
        },
        "id": "PMFY4A3DpjBG",
        "outputId": "2564120c-38d4-4c74-da8d-5c6b06a2d2c8",
        "colab": {
          "base_uri": "https://localhost:8080/",
          "height": 475
        }
      },
      "outputs": [
        {
          "output_type": "execute_result",
          "data": {
            "text/html": [
              "\n",
              "<style>\n",
              "  #altair-viz-58e277d3bf884dbaadb10708cfb59b86.vega-embed {\n",
              "    width: 100%;\n",
              "    display: flex;\n",
              "  }\n",
              "\n",
              "  #altair-viz-58e277d3bf884dbaadb10708cfb59b86.vega-embed details,\n",
              "  #altair-viz-58e277d3bf884dbaadb10708cfb59b86.vega-embed details summary {\n",
              "    position: relative;\n",
              "  }\n",
              "</style>\n",
              "<div id=\"altair-viz-58e277d3bf884dbaadb10708cfb59b86\"></div>\n",
              "<script type=\"text/javascript\">\n",
              "  var VEGA_DEBUG = (typeof VEGA_DEBUG == \"undefined\") ? {} : VEGA_DEBUG;\n",
              "  (function(spec, embedOpt){\n",
              "    let outputDiv = document.currentScript.previousElementSibling;\n",
              "    if (outputDiv.id !== \"altair-viz-58e277d3bf884dbaadb10708cfb59b86\") {\n",
              "      outputDiv = document.getElementById(\"altair-viz-58e277d3bf884dbaadb10708cfb59b86\");\n",
              "    }\n",
              "\n",
              "    const paths = {\n",
              "      \"vega\": \"https://cdn.jsdelivr.net/npm/vega@5?noext\",\n",
              "      \"vega-lib\": \"https://cdn.jsdelivr.net/npm/vega-lib?noext\",\n",
              "      \"vega-lite\": \"https://cdn.jsdelivr.net/npm/vega-lite@5.20.1?noext\",\n",
              "      \"vega-embed\": \"https://cdn.jsdelivr.net/npm/vega-embed@6?noext\",\n",
              "    };\n",
              "\n",
              "    function maybeLoadScript(lib, version) {\n",
              "      var key = `${lib.replace(\"-\", \"\")}_version`;\n",
              "      return (VEGA_DEBUG[key] == version) ?\n",
              "        Promise.resolve(paths[lib]) :\n",
              "        new Promise(function(resolve, reject) {\n",
              "          var s = document.createElement('script');\n",
              "          document.getElementsByTagName(\"head\")[0].appendChild(s);\n",
              "          s.async = true;\n",
              "          s.onload = () => {\n",
              "            VEGA_DEBUG[key] = version;\n",
              "            return resolve(paths[lib]);\n",
              "          };\n",
              "          s.onerror = () => reject(`Error loading script: ${paths[lib]}`);\n",
              "          s.src = paths[lib];\n",
              "        });\n",
              "    }\n",
              "\n",
              "    function showError(err) {\n",
              "      outputDiv.innerHTML = `<div class=\"error\" style=\"color:red;\">${err}</div>`;\n",
              "      throw err;\n",
              "    }\n",
              "\n",
              "    function displayChart(vegaEmbed) {\n",
              "      vegaEmbed(outputDiv, spec, embedOpt)\n",
              "        .catch(err => showError(`Javascript Error: ${err.message}<br>This usually means there's a typo in your chart specification. See the javascript console for the full traceback.`));\n",
              "    }\n",
              "\n",
              "    if(typeof define === \"function\" && define.amd) {\n",
              "      requirejs.config({paths});\n",
              "      let deps = [\"vega-embed\"];\n",
              "      require(deps, displayChart, err => showError(`Error loading script: ${err.message}`));\n",
              "    } else {\n",
              "      maybeLoadScript(\"vega\", \"5\")\n",
              "        .then(() => maybeLoadScript(\"vega-lite\", \"5.20.1\"))\n",
              "        .then(() => maybeLoadScript(\"vega-embed\", \"6\"))\n",
              "        .catch(showError)\n",
              "        .then(() => displayChart(vegaEmbed));\n",
              "    }\n",
              "  })({\"config\": {\"view\": {\"continuousWidth\": 300, \"continuousHeight\": 300, \"strokeWidth\": 0}, \"axisLeft\": {\"labelColor\": \"rgb(102, 111, 137)\", \"labelFont\": \"Roboto, Arial, sans-serif\", \"labelFontSize\": 16}, \"title\": {\"anchor\": \"start\", \"color\": \"rgb(25, 39, 78)\", \"font\": \"Roboto, Arial, sans-serif\", \"fontSize\": 20, \"fontWeight\": \"bold\", \"offset\": 20}}, \"layer\": [{\"data\": {\"name\": \"data-465af0d893209885b2722b0bf657ddb7\"}, \"mark\": {\"type\": \"rule\", \"stroke\": \"rgb(102, 111, 137)\", \"strokeWidth\": 1.25, \"tooltip\": null}, \"encoding\": {\"x\": {\"field\": \"x\", \"scale\": {\"domain\": [-2, 2], \"range\": [40.0, 760.0]}, \"type\": \"quantitative\"}, \"x2\": {\"field\": \"x2\"}, \"y\": {\"axis\": {\"domain\": false, \"labelAngle\": 0, \"labelPadding\": -30, \"orient\": \"left\", \"ticks\": false, \"title\": null}, \"field\": \"metric\", \"scale\": {\"domain\": [\"DEMOGRAPHIC PARITY\", \"FNR\"], \"range\": [40.0, 360.0]}, \"type\": \"nominal\"}}}, {\"data\": {\"name\": \"data-de84bc8c822dac0bd3b12b0342548471\"}, \"mark\": {\"type\": \"rule\", \"stroke\": \"rgb(102, 111, 137)\", \"strokeDash\": [5, 5], \"strokeWidth\": 1}, \"encoding\": {\"tooltip\": {\"value\": \"White [REF]\"}, \"x\": {\"value\": 400.0}, \"y\": {\"value\": 33.333333333333336}, \"y2\": {\"value\": 366.66666666666663}}}, {\"data\": {\"name\": \"data-5301160e2632d994a912fb62c574b38d\"}, \"mark\": {\"type\": \"text\", \"align\": \"center\", \"color\": \"rgb(102, 111, 137)\", \"font\": \"Roboto, Arial, sans-serif\", \"fontSize\": 12, \"fontWeight\": \"normal\", \"tooltip\": null}, \"encoding\": {\"text\": {\"field\": \"label\", \"type\": \"nominal\"}, \"x\": {\"field\": \"value\", \"scale\": {\"domain\": [-2, 2], \"range\": [40.0, 760.0]}, \"type\": \"quantitative\"}, \"y\": {\"value\": 28.0}}}, {\"layer\": [{\"mark\": {\"type\": \"text\", \"align\": \"left\", \"fill\": \"rgb(102, 111, 137)\", \"font\": \"Roboto, Arial, sans-serif\", \"fontSize\": 12, \"fontWeight\": \"normal\", \"tooltip\": null}, \"encoding\": {\"text\": {\"value\": \"Times Smaller\"}, \"x\": {\"value\": 40.0}, \"y\": {\"value\": 12.0}}}, {\"mark\": {\"type\": \"text\", \"align\": \"right\", \"fill\": \"rgb(102, 111, 137)\", \"font\": \"Roboto, Arial, sans-serif\", \"fontSize\": 12, \"fontWeight\": \"normal\", \"tooltip\": null}, \"encoding\": {\"text\": {\"value\": \"Times Larger\"}, \"x\": {\"value\": 760.0}, \"y\": {\"value\": 12.0}}}, {\"mark\": {\"type\": \"text\", \"align\": \"center\", \"fill\": \"rgb(102, 111, 137)\", \"font\": \"Roboto, Arial, sans-serif\", \"fontSize\": 12, \"fontWeight\": \"normal\", \"tooltip\": null}, \"encoding\": {\"text\": {\"value\": \"Equal\"}, \"x\": {\"value\": 400.0}, \"y\": {\"value\": 12.0}}}], \"data\": {\"name\": \"data-de84bc8c822dac0bd3b12b0342548471\"}}, {\"layer\": [{\"mark\": {\"type\": \"rule\", \"opacity\": 0.8, \"stroke\": \"rgb(211, 47, 47)\", \"strokeWidth\": 1.25, \"tooltip\": null}, \"encoding\": {\"x\": {\"field\": \"min\", \"scale\": {\"domain\": [-2, 2], \"range\": [40.0, 760.0]}, \"type\": \"quantitative\"}, \"y\": {\"value\": 40.0}, \"y2\": {\"value\": 360.0}}}, {\"mark\": {\"type\": \"rule\", \"opacity\": 0.8, \"stroke\": \"rgb(211, 47, 47)\", \"strokeWidth\": 1.25, \"tooltip\": null}, \"encoding\": {\"x\": {\"field\": \"max\", \"scale\": {\"domain\": [-2, 2], \"range\": [40.0, 760.0]}, \"type\": \"quantitative\"}, \"y\": {\"value\": 40.0}, \"y2\": {\"value\": 360.0}}}, {\"layer\": [{\"mark\": {\"type\": \"rect\", \"fill\": \"rgb(211, 47, 47)\", \"opacity\": 0.1, \"tooltip\": null}, \"encoding\": {\"x\": {\"field\": \"min\", \"scale\": {\"domain\": [-2, 2], \"range\": [40.0, 760.0]}, \"type\": \"quantitative\"}, \"x2\": {\"field\": \"lower_end\"}, \"y\": {\"value\": 40.0}, \"y2\": {\"value\": 360.0}}}, {\"mark\": {\"type\": \"rect\", \"fill\": \"rgb(211, 47, 47)\", \"opacity\": 0.1, \"tooltip\": null}, \"encoding\": {\"x\": {\"field\": \"max\", \"scale\": {\"domain\": [-2, 2], \"range\": [40.0, 760.0]}, \"type\": \"quantitative\"}, \"x2\": {\"field\": \"upper_end\"}, \"y\": {\"value\": 40.0}, \"y2\": {\"value\": 360.0}}}]}, {\"layer\": [{\"mark\": {\"type\": \"text\", \"align\": \"left\", \"baseline\": \"top\", \"fill\": \"rgb(211, 47, 47)\", \"font\": \"Roboto, Arial, sans-serif\", \"fontSize\": 12, \"fontWeight\": \"normal\", \"tooltip\": null}, \"encoding\": {\"text\": {\"value\": \"The metric value for any group should not be 1.25 (or more) times smaller or larger than that of the reference group White.\"}, \"x\": {\"value\": 0}, \"y\": {\"value\": 373.3333333333333}}}], \"data\": {\"name\": \"data-de84bc8c822dac0bd3b12b0342548471\"}}], \"data\": {\"name\": \"data-f6c9b01b2d2ca106ef2a532bc000e3e1\"}}, {\"layer\": [{\"data\": {\"name\": \"empty\"}, \"mark\": {\"type\": \"circle\"}}, {\"data\": {\"name\": \"data-db64a65a335eca9a8da5d6916ecdabf3\"}, \"mark\": {\"type\": \"circle\", \"cursor\": \"pointer\", \"opacity\": 0.2}, \"encoding\": {\"color\": {\"condition\": {\"param\": \"param_1\", \"empty\": true, \"field\": \"attribute_value\", \"legend\": null, \"scale\": {\"domain\": [\"White\", \"Asian\", \"Black\", \"Hawaiian or pacific islander\", \"Native american\", \"Unknown\"], \"range\": [\"rgb(102, 111, 137)\", \"rgb(76, 136, 238)\", \"rgb(254, 97, 0)\", \"rgb(220, 38, 127)\", \"rgb(255, 176, 0)\", \"rgb(150, 95, 230)\"]}, \"type\": \"nominal\"}, \"value\": \"rgb(225, 226, 231)\"}, \"size\": {\"field\": \"group_size\", \"legend\": null, \"scale\": {\"domain\": [0, 51345.6], \"range\": [0, 5026.548245743669]}, \"type\": \"quantitative\"}, \"tooltip\": [{\"field\": \"attribute_value\", \"title\": \"Group\", \"type\": \"nominal\"}, {\"field\": \"tooltip_group_size\", \"title\": \"Group Size\", \"type\": \"nominal\"}, {\"field\": \"tooltip_disparity_explanation_pprev\", \"title\": \"Disparity\", \"type\": \"nominal\"}, {\"field\": \"pprev\", \"format\": \".2f\", \"title\": \"DEMOGRAPHIC PARITY\", \"type\": \"quantitative\"}], \"x\": {\"axis\": {\"domain\": false, \"gridColor\": \"rgb(225, 226, 231)\", \"labels\": false, \"ticks\": false, \"title\": null, \"values\": [1, 2, -2, -1]}, \"field\": \"pprev_disparity_scaled\", \"scale\": {\"domain\": [-2, 2], \"range\": [40.0, 760.0]}, \"type\": \"quantitative\"}, \"y\": {\"axis\": {\"domain\": false, \"grid\": false, \"labels\": false, \"ticks\": false, \"title\": null}, \"field\": \"metric_variable\", \"scale\": {\"domain\": [\"DEMOGRAPHIC PARITY\", \"FNR\"], \"range\": [40.0, 360.0]}, \"type\": \"nominal\"}}, \"name\": \"view_2\", \"transform\": [{\"calculate\": \"'DEMOGRAPHIC PARITY'\", \"as\": \"metric_variable\"}]}, {\"data\": {\"name\": \"data-db64a65a335eca9a8da5d6916ecdabf3\"}, \"mark\": {\"type\": \"circle\", \"cursor\": \"pointer\", \"opacity\": 0.2}, \"encoding\": {\"color\": {\"condition\": {\"param\": \"param_1\", \"empty\": true, \"field\": \"attribute_value\", \"legend\": null, \"scale\": {\"domain\": [\"White\", \"Asian\", \"Black\", \"Hawaiian or pacific islander\", \"Native american\", \"Unknown\"], \"range\": [\"rgb(102, 111, 137)\", \"rgb(76, 136, 238)\", \"rgb(254, 97, 0)\", \"rgb(220, 38, 127)\", \"rgb(255, 176, 0)\", \"rgb(150, 95, 230)\"]}, \"type\": \"nominal\"}, \"value\": \"rgb(225, 226, 231)\"}, \"size\": {\"field\": \"group_size\", \"legend\": null, \"scale\": {\"domain\": [0, 51345.6], \"range\": [0, 5026.548245743669]}, \"type\": \"quantitative\"}, \"tooltip\": [{\"field\": \"attribute_value\", \"title\": \"Group\", \"type\": \"nominal\"}, {\"field\": \"tooltip_group_size\", \"title\": \"Group Size\", \"type\": \"nominal\"}, {\"field\": \"tooltip_disparity_explanation_fnr\", \"title\": \"Disparity\", \"type\": \"nominal\"}, {\"field\": \"fnr\", \"format\": \".2f\", \"title\": \"FNR\", \"type\": \"quantitative\"}], \"x\": {\"axis\": {\"domain\": false, \"gridColor\": \"rgb(225, 226, 231)\", \"labels\": false, \"ticks\": false, \"title\": null, \"values\": [1, 2, -2, -1]}, \"field\": \"fnr_disparity_scaled\", \"scale\": {\"domain\": [-2, 2], \"range\": [40.0, 760.0]}, \"type\": \"quantitative\"}, \"y\": {\"axis\": {\"domain\": false, \"grid\": false, \"labels\": false, \"ticks\": false, \"title\": null}, \"field\": \"metric_variable\", \"scale\": {\"domain\": [\"DEMOGRAPHIC PARITY\", \"FNR\"], \"range\": [40.0, 360.0]}, \"type\": \"nominal\"}}, \"name\": \"view_4\", \"transform\": [{\"calculate\": \"'FNR'\", \"as\": \"metric_variable\"}]}, {\"layer\": [{\"data\": {\"name\": \"empty\"}, \"mark\": {\"type\": \"point\"}}, {\"data\": {\"name\": \"data-db64a65a335eca9a8da5d6916ecdabf3\"}, \"mark\": {\"type\": \"point\", \"cursor\": \"pointer\", \"filled\": true, \"size\": 60}, \"encoding\": {\"color\": {\"condition\": {\"param\": \"param_1\", \"empty\": true, \"field\": \"attribute_value\", \"legend\": null, \"scale\": {\"domain\": [\"White\", \"Asian\", \"Black\", \"Hawaiian or pacific islander\", \"Native american\", \"Unknown\"], \"range\": [\"rgb(102, 111, 137)\", \"rgb(76, 136, 238)\", \"rgb(254, 97, 0)\", \"rgb(220, 38, 127)\", \"rgb(255, 176, 0)\", \"rgb(150, 95, 230)\"]}, \"type\": \"nominal\"}, \"value\": \"rgb(225, 226, 231)\"}, \"shape\": {\"field\": \"attribute_value\", \"legend\": null, \"scale\": {\"domain\": [\"White\", \"Asian\", \"Black\", \"Hawaiian or pacific islander\", \"Native american\", \"Unknown\"], \"range\": [\"cross\", \"circle\", \"circle\", \"circle\", \"circle\", \"circle\"]}, \"type\": \"nominal\"}, \"tooltip\": [{\"field\": \"attribute_value\", \"title\": \"Group\", \"type\": \"nominal\"}, {\"field\": \"tooltip_group_size\", \"title\": \"Group Size\", \"type\": \"nominal\"}, {\"field\": \"tooltip_disparity_explanation_pprev\", \"title\": \"Disparity\", \"type\": \"nominal\"}, {\"field\": \"pprev\", \"format\": \".2f\", \"title\": \"DEMOGRAPHIC PARITY\", \"type\": \"quantitative\"}], \"x\": {\"axis\": {\"domain\": false, \"gridColor\": \"rgb(225, 226, 231)\", \"labels\": false, \"ticks\": false, \"title\": null, \"values\": [1, 2, -2, -1]}, \"field\": \"pprev_disparity_scaled\", \"scale\": {\"domain\": [-2, 2], \"range\": [40.0, 760.0]}, \"type\": \"quantitative\"}, \"y\": {\"axis\": {\"domain\": false, \"grid\": false, \"labels\": false, \"ticks\": false, \"title\": null}, \"field\": \"metric_variable\", \"scale\": {\"domain\": [\"DEMOGRAPHIC PARITY\", \"FNR\"], \"range\": [40.0, 360.0]}, \"type\": \"nominal\"}}, \"name\": \"view_1\", \"transform\": [{\"calculate\": \"'DEMOGRAPHIC PARITY'\", \"as\": \"metric_variable\"}]}, {\"data\": {\"name\": \"data-db64a65a335eca9a8da5d6916ecdabf3\"}, \"mark\": {\"type\": \"point\", \"cursor\": \"pointer\", \"filled\": true, \"size\": 60}, \"encoding\": {\"color\": {\"condition\": {\"param\": \"param_1\", \"empty\": true, \"field\": \"attribute_value\", \"legend\": null, \"scale\": {\"domain\": [\"White\", \"Asian\", \"Black\", \"Hawaiian or pacific islander\", \"Native american\", \"Unknown\"], \"range\": [\"rgb(102, 111, 137)\", \"rgb(76, 136, 238)\", \"rgb(254, 97, 0)\", \"rgb(220, 38, 127)\", \"rgb(255, 176, 0)\", \"rgb(150, 95, 230)\"]}, \"type\": \"nominal\"}, \"value\": \"rgb(225, 226, 231)\"}, \"shape\": {\"field\": \"attribute_value\", \"legend\": null, \"scale\": {\"domain\": [\"White\", \"Asian\", \"Black\", \"Hawaiian or pacific islander\", \"Native american\", \"Unknown\"], \"range\": [\"cross\", \"circle\", \"circle\", \"circle\", \"circle\", \"circle\"]}, \"type\": \"nominal\"}, \"tooltip\": [{\"field\": \"attribute_value\", \"title\": \"Group\", \"type\": \"nominal\"}, {\"field\": \"tooltip_group_size\", \"title\": \"Group Size\", \"type\": \"nominal\"}, {\"field\": \"tooltip_disparity_explanation_fnr\", \"title\": \"Disparity\", \"type\": \"nominal\"}, {\"field\": \"fnr\", \"format\": \".2f\", \"title\": \"FNR\", \"type\": \"quantitative\"}], \"x\": {\"axis\": {\"domain\": false, \"gridColor\": \"rgb(225, 226, 231)\", \"labels\": false, \"ticks\": false, \"title\": null, \"values\": [1, 2, -2, -1]}, \"field\": \"fnr_disparity_scaled\", \"scale\": {\"domain\": [-2, 2], \"range\": [40.0, 760.0]}, \"type\": \"quantitative\"}, \"y\": {\"axis\": {\"domain\": false, \"grid\": false, \"labels\": false, \"ticks\": false, \"title\": null}, \"field\": \"metric_variable\", \"scale\": {\"domain\": [\"DEMOGRAPHIC PARITY\", \"FNR\"], \"range\": [40.0, 360.0]}, \"type\": \"nominal\"}}, \"name\": \"view_3\", \"transform\": [{\"calculate\": \"'FNR'\", \"as\": \"metric_variable\"}]}]}]}, {\"layer\": [{\"mark\": {\"type\": \"point\", \"cursor\": \"pointer\", \"filled\": true, \"opacity\": 1, \"size\": 40}, \"encoding\": {\"color\": {\"condition\": {\"param\": \"param_1\", \"empty\": true, \"field\": \"attribute_value\", \"legend\": null, \"scale\": {\"domain\": [\"White\", \"Asian\", \"Black\", \"Hawaiian or pacific islander\", \"Native american\", \"Unknown\"], \"range\": [\"rgb(102, 111, 137)\", \"rgb(76, 136, 238)\", \"rgb(254, 97, 0)\", \"rgb(220, 38, 127)\", \"rgb(255, 176, 0)\", \"rgb(150, 95, 230)\"]}, \"type\": \"nominal\"}, \"value\": \"rgb(225, 226, 231)\"}, \"shape\": {\"field\": \"attribute_value\", \"legend\": null, \"scale\": {\"domain\": [\"White\", \"Asian\", \"Black\", \"Hawaiian or pacific islander\", \"Native american\", \"Unknown\"], \"range\": [\"cross\", \"circle\", \"circle\", \"circle\", \"circle\", \"circle\"]}, \"type\": \"nominal\"}, \"x\": {\"value\": 807.5682482323056}, \"y\": {\"axis\": {\"domain\": false, \"grid\": false, \"labels\": false, \"ticks\": false, \"title\": null}, \"field\": \"attribute_value\", \"scale\": {\"domain\": [\"White\", \"Asian\", \"Black\", \"Hawaiian or pacific islander\", \"Native american\", \"Unknown\"], \"range\": [54, 150]}, \"type\": \"nominal\"}}, \"name\": \"view_5\"}, {\"mark\": {\"type\": \"text\", \"align\": \"left\", \"baseline\": \"middle\", \"cursor\": \"pointer\", \"font\": \"Roboto, Arial, sans-serif\", \"fontSize\": 12, \"fontWeight\": \"normal\"}, \"encoding\": {\"color\": {\"condition\": {\"param\": \"param_1\", \"empty\": true, \"field\": \"attribute_value\", \"legend\": null, \"scale\": {\"domain\": [\"White\", \"Asian\", \"Black\", \"Hawaiian or pacific islander\", \"Native american\", \"Unknown\"], \"range\": [\"rgb(102, 111, 137)\", \"rgb(76, 136, 238)\", \"rgb(254, 97, 0)\", \"rgb(220, 38, 127)\", \"rgb(255, 176, 0)\", \"rgb(150, 95, 230)\"]}, \"type\": \"nominal\"}, \"value\": \"rgb(225, 226, 231)\"}, \"text\": {\"field\": \"label\", \"type\": \"nominal\"}, \"x\": {\"value\": 818.1364964646111}, \"y\": {\"axis\": {\"domain\": false, \"grid\": false, \"labels\": false, \"ticks\": false, \"title\": null}, \"field\": \"attribute_value\", \"scale\": {\"domain\": [\"White\", \"Asian\", \"Black\", \"Hawaiian or pacific islander\", \"Native american\", \"Unknown\"], \"range\": [54, 150]}, \"type\": \"nominal\"}}, \"name\": \"view_6\"}, {\"data\": {\"name\": \"data-de84bc8c822dac0bd3b12b0342548471\"}, \"mark\": {\"type\": \"text\", \"align\": \"left\", \"baseline\": \"top\", \"color\": \"rgb(25, 39, 78)\", \"font\": \"Roboto, Arial, sans-serif\", \"fontSize\": 12, \"fontWeight\": \"bold\"}, \"encoding\": {\"text\": {\"value\": \"(click to highlight)\"}, \"x\": {\"value\": 800}, \"y\": {\"value\": 34}}}, {\"data\": {\"name\": \"data-de84bc8c822dac0bd3b12b0342548471\"}, \"mark\": {\"type\": \"text\", \"align\": \"left\", \"baseline\": \"top\", \"color\": \"rgb(25, 39, 78)\", \"font\": \"Roboto, Arial, sans-serif\", \"fontSize\": 12, \"fontWeight\": \"bold\"}, \"encoding\": {\"text\": {\"value\": \"Groups\"}, \"x\": {\"value\": 800}, \"y\": {\"value\": 20}}}], \"data\": {\"name\": \"data-9df597765edcca49e23c02fcebe0ce0b\"}}], \"height\": 400, \"padding\": {\"top\": 15, \"bottom\": -1.0, \"left\": 15, \"right\": 15}, \"params\": [{\"name\": \"param_3\", \"select\": {\"type\": \"point\", \"fields\": [\"attribute_value\"]}, \"views\": [\"view_2\"]}, {\"name\": \"param_5\", \"select\": {\"type\": \"point\", \"fields\": [\"attribute_value\"]}, \"views\": [\"view_4\"]}, {\"name\": \"param_2\", \"select\": {\"type\": \"point\", \"fields\": [\"attribute_value\"]}, \"views\": [\"view_1\"]}, {\"name\": \"param_4\", \"select\": {\"type\": \"point\", \"fields\": [\"attribute_value\"]}, \"views\": [\"view_3\"]}, {\"name\": \"param_1\", \"select\": {\"type\": \"point\", \"fields\": [\"attribute_value\"]}, \"views\": [\"view_5\"]}, {\"name\": \"param_6\", \"select\": {\"type\": \"point\", \"fields\": [\"attribute_value\"]}, \"views\": [\"view_6\"]}], \"resolve\": {\"scale\": {\"size\": \"independent\", \"y\": \"independent\"}}, \"title\": \"Disparities on Race\", \"usermeta\": {\"embedOptions\": {\"scaleFactor\": 5, \"downloadFileName\": \"disparity_chart\"}}, \"width\": 800, \"$schema\": \"https://vega.github.io/schema/vega-lite/v5.20.1.json\", \"datasets\": {\"data-465af0d893209885b2722b0bf657ddb7\": [{\"metric\": \"DEMOGRAPHIC PARITY\", \"x\": -2, \"x2\": 2}, {\"metric\": \"FNR\", \"x\": -2, \"x2\": 2}], \"data-de84bc8c822dac0bd3b12b0342548471\": [{\"a\": 1, \"b\": 0}, {\"a\": 1, \"b\": 0}], \"data-5301160e2632d994a912fb62c574b38d\": [{\"value\": 1, \"label\": 2}, {\"value\": 2, \"label\": 3}, {\"value\": -2, \"label\": 3}, {\"value\": -1, \"label\": 2}, {\"value\": 0, \"label\": \"=\"}], \"data-f6c9b01b2d2ca106ef2a532bc000e3e1\": [{\"min\": -0.25, \"max\": 0.25, \"lower_end\": -2, \"upper_end\": 2}], \"empty\": [{}], \"data-db64a65a335eca9a8da5d6916ecdabf3\": [{\"attribute_name\": \"race\", \"attribute_value\": \"Asian\", \"group_size\": 4014, \"total_entities\": 59490, \"pprev\": 0.9108121574489287, \"fnr\": 0.05420267085624509, \"pprev_disparity\": 1.1031116248103474, \"fnr_disparity\": 0.45548068716065754, \"pprev_disparity_scaled\": 0.10311162481034741, \"fnr_disparity_scaled\": -1.1954827683995286, \"tooltip_group_size\": \"4,014 (6.75%)\", \"tooltip_disparity_explanation_pprev\": \"1.10 times larger PPREV than the reference group\", \"tooltip_disparity_explanation_fnr\": \"2.20 times smaller FNR than the reference group\"}, {\"attribute_name\": \"race\", \"attribute_value\": \"Black\", \"group_size\": 3999, \"total_entities\": 59490, \"pprev\": 0.6269067266816705, \"fnr\": 0.26838466373350095, \"pprev_disparity\": 0.7592653350294466, \"fnr_disparity\": 2.2553137904390255, \"pprev_disparity_scaled\": -0.3170626312884639, \"fnr_disparity_scaled\": 1.2553137904390255, \"tooltip_group_size\": \"3,999 (6.72%)\", \"tooltip_disparity_explanation_pprev\": \"1.32 times smaller PPREV than the reference group\", \"tooltip_disparity_explanation_fnr\": \"2.26 times larger FNR than the reference group\"}, {\"attribute_name\": \"race\", \"attribute_value\": \"Hawaiian or pacific islander\", \"group_size\": 141, \"total_entities\": 59490, \"pprev\": 0.7659574468085106, \"fnr\": 0.17557251908396945, \"pprev_disparity\": 0.9276737873713538, \"fnr_disparity\": 1.4753865515407558, \"pprev_disparity_scaled\": -0.07796513560395946, \"fnr_disparity_scaled\": 0.4753865515407558, \"tooltip_group_size\": \"141 (0.24%)\", \"tooltip_disparity_explanation_pprev\": \"1.08 times smaller PPREV than the reference group\", \"tooltip_disparity_explanation_fnr\": \"1.48 times larger FNR than the reference group\"}, {\"attribute_name\": \"race\", \"attribute_value\": \"Native american\", \"group_size\": 227, \"total_entities\": 59490, \"pprev\": 0.7312775330396476, \"fnr\": 0.21105527638190955, \"pprev_disparity\": 0.8856719149622249, \"fnr_disparity\": 1.7735584021361677, \"pprev_disparity_scaled\": -0.12908627123244765, \"fnr_disparity_scaled\": 0.7735584021361677, \"tooltip_group_size\": \"227 (0.38%)\", \"tooltip_disparity_explanation_pprev\": \"1.13 times smaller PPREV than the reference group\", \"tooltip_disparity_explanation_fnr\": \"1.77 times larger FNR than the reference group\"}, {\"attribute_name\": \"race\", \"attribute_value\": \"Unknown\", \"group_size\": 8321, \"total_entities\": 59490, \"pprev\": 0.8282658334334816, \"fnr\": 0.11602428722280887, \"pprev_disparity\": 1.0031373229061624, \"fnr_disparity\": 0.9749855724218729, \"pprev_disparity_scaled\": 0.003137322906162421, \"fnr_disparity_scaled\": -0.025656202805125705, \"tooltip_group_size\": \"8,321 (13.99%)\", \"tooltip_disparity_explanation_pprev\": \"1.00 times larger PPREV than the reference group\", \"tooltip_disparity_explanation_fnr\": \"1.03 times smaller FNR than the reference group\"}, {\"attribute_name\": \"race\", \"attribute_value\": \"White\", \"group_size\": 42788, \"total_entities\": 59490, \"pprev\": 0.8256754230157988, \"fnr\": 0.11900102986611741, \"pprev_disparity\": 1.0, \"fnr_disparity\": 1.0, \"pprev_disparity_scaled\": 0.0, \"fnr_disparity_scaled\": 0.0, \"tooltip_group_size\": \"42,788 (71.92%)\", \"tooltip_disparity_explanation_pprev\": \"Reference group\", \"tooltip_disparity_explanation_fnr\": \"Reference group\"}], \"data-9df597765edcca49e23c02fcebe0ce0b\": [{\"attribute_value\": \"White\", \"label\": \"White [REF]\"}, {\"attribute_value\": \"Asian\", \"label\": \"Asian\"}, {\"attribute_value\": \"Black\", \"label\": \"Black\"}, {\"attribute_value\": \"Hawaiian or pacific islander\", \"label\": \"Hawaiian or pacific islander\"}, {\"attribute_value\": \"Native american\", \"label\": \"Native american\"}, {\"attribute_value\": \"Unknown\", \"label\": \"Unknown\"}]}}, {\"mode\": \"vega-lite\"});\n",
              "</script>"
            ],
            "text/plain": [
              "alt.LayerChart(...)"
            ]
          },
          "metadata": {},
          "execution_count": 35
        }
      ],
      "source": [
        "ap.disparity(\n",
        "    disparity_df=bias_report,\n",
        "    metrics_list=['pprev', 'fnr'],\n",
        "    attribute='race',\n",
        "    fairness_threshold=5/4,\n",
        ")"
      ]
    },
    {
      "cell_type": "markdown",
      "metadata": {
        "collapsed": false,
        "pycharm": {
          "name": "#%% md\n"
        },
        "id": "_qTAmehbpjBG"
      },
      "source": [
        "### Measuring Group Fairness with AI Fairness 360"
      ]
    },
    {
      "cell_type": "markdown",
      "metadata": {
        "collapsed": false,
        "pycharm": {
          "name": "#%% md\n"
        },
        "id": "q-_UYp85pjBH"
      },
      "source": [
        "\n",
        "#### Preparing Data for use in AIF 360"
      ]
    },
    {
      "cell_type": "code",
      "execution_count": 36,
      "metadata": {
        "pycharm": {
          "name": "#%%\n"
        },
        "id": "zBs0LKsDpjBH"
      },
      "outputs": [],
      "source": [
        "aif_valid = valid.loc[(valid['black'] + valid['white'] == 1), :]\n",
        "aif_valid = aif_valid.set_index(keys=['white'], append=True, drop=False)"
      ]
    },
    {
      "cell_type": "code",
      "execution_count": 44,
      "metadata": {
        "pycharm": {
          "name": "#%%\n"
        },
        "id": "C86LKB8opjBH",
        "outputId": "44081cdd-2749-48c0-a0f7-ebfdd0bba85c",
        "colab": {
          "base_uri": "https://localhost:8080/"
        }
      },
      "outputs": [
        {
          "output_type": "stream",
          "name": "stdout",
          "text": [
            "Adverse Impact Ratio (AIR): 75.927%\n"
          ]
        }
      ],
      "source": [
        "aif_adverse_impact_ratio = aif_metrics.disparate_impact_ratio(\n",
        "    aif_valid['Low Priced Offer'],\n",
        "    prot_attr=['white'],\n",
        ")\n",
        "print(f\"Adverse Impact Ratio (AIR): {aif_adverse_impact_ratio:0.3%}\")"
      ]
    },
    {
      "cell_type": "code",
      "execution_count": 41,
      "metadata": {
        "pycharm": {
          "name": "#%%\n"
        },
        "id": "DrqRsPtGpjBH",
        "outputId": "4a39579f-d87e-409b-f0d4-5e8f6afb1bed",
        "colab": {
          "base_uri": "https://localhost:8080/"
        }
      },
      "outputs": [
        {
          "output_type": "stream",
          "name": "stdout",
          "text": [
            "False Negative Rate Ratio: 2.255\n"
          ]
        }
      ],
      "source": [
        "aif_fnr = aif_metrics.ratio(\n",
        "    aif_metrics.false_negative_rate_error,\n",
        "    aif_valid['low_priced'],\n",
        "    aif_valid['Low Priced Offer'],\n",
        "    prot_attr='white',\n",
        ")\n",
        "print(\n",
        "    f\"False Negative Rate Ratio: {aif_fnr:0.3f}\"\n",
        ")"
      ]
    },
    {
      "cell_type": "code",
      "execution_count": 39,
      "metadata": {
        "pycharm": {
          "name": "#%%\n"
        },
        "id": "WYxCAGVCpjBH",
        "outputId": "1c708935-1923-4e11-e3fe-7a8fd4165ff4",
        "colab": {
          "base_uri": "https://localhost:8080/"
        }
      },
      "outputs": [
        {
          "output_type": "stream",
          "name": "stdout",
          "text": [
            "Relative ROC-AUC Scores for Blacks and Whites: 0.938\n"
          ]
        }
      ],
      "source": [
        "relative_auc_ratio = aif_metrics.ratio(\n",
        "    sklearn_metrics.roc_auc_score,\n",
        "    aif_valid['low_priced'],\n",
        "    aif_valid['predictions'],\n",
        "    prot_attr='white',\n",
        ")\n",
        "print(f\"Relative ROC-AUC Scores for Blacks and Whites: {relative_auc_ratio:0.3f}\")"
      ]
    }
  ],
  "metadata": {
    "hide_input": false,
    "interpreter": {
      "hash": "9d18ac051074a1792dd073ded877e94a19947cd85bd440fc755ddc9e4cedbcd6"
    },
    "kernelspec": {
      "display_name": "agus_data",
      "language": "python",
      "name": "agus_data"
    },
    "language_info": {
      "codemirror_mode": {
        "name": "ipython",
        "version": 3
      },
      "file_extension": ".py",
      "mimetype": "text/x-python",
      "name": "python",
      "nbconvert_exporter": "python",
      "pygments_lexer": "ipython3",
      "version": "3.8.16"
    },
    "colab": {
      "provenance": [],
      "toc_visible": true
    }
  },
  "nbformat": 4,
  "nbformat_minor": 0
}